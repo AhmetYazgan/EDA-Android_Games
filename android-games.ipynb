{
 "cells": [
  {
   "cell_type": "markdown",
   "id": "b1af7b23",
   "metadata": {},
   "source": [
    "## <p style=\"background-color:yellow; font-family:newtimeroman; color:blue; font-size:150%; text-align:center; border-radius:10px 10px;\">ANDROID-GAMES PROJECT</p> "
   ]
  },
  {
   "cell_type": "markdown",
   "id": "1d6078b6",
   "metadata": {},
   "source": [
    "## <p style=\"background-color:blue; font-family:newtimeroman; color:yellow; font-size:100%; text-align:center; border-radius:10px 10px;\">IMPORTING LIBRARIES THAT NEEDED IN THIS PROJECT</p> "
   ]
  },
  {
   "cell_type": "code",
   "execution_count": 1,
   "id": "a12fc0cf",
   "metadata": {},
   "outputs": [],
   "source": [
    "import pandas as pd\n",
    "import numpy as np\n",
    "import seaborn as sns\n",
    "import matplotlib.pyplot as plt\n",
    "import plotly.express as px\n",
    "from skimpy import clean_columns\n",
    "\n",
    "import warnings\n",
    "warnings.filterwarnings('ignore')"
   ]
  },
  {
   "cell_type": "markdown",
   "id": "cf90b929",
   "metadata": {},
   "source": [
    "## <p style=\"background-color:blue; font-family:newtimeroman; color:yellow; font-size:100%; text-align:center; border-radius:10px 10px;\">READING THE CSV FILE</p> "
   ]
  },
  {
   "cell_type": "code",
   "execution_count": 2,
   "id": "f55479b9",
   "metadata": {},
   "outputs": [],
   "source": [
    "df = pd.read_csv('android-games.csv')"
   ]
  },
  {
   "cell_type": "code",
   "execution_count": 3,
   "id": "251fdea2",
   "metadata": {},
   "outputs": [
    {
     "data": {
      "text/html": [
       "<div>\n",
       "<style scoped>\n",
       "    .dataframe tbody tr th:only-of-type {\n",
       "        vertical-align: middle;\n",
       "    }\n",
       "\n",
       "    .dataframe tbody tr th {\n",
       "        vertical-align: top;\n",
       "    }\n",
       "\n",
       "    .dataframe thead th {\n",
       "        text-align: right;\n",
       "    }\n",
       "</style>\n",
       "<table border=\"1\" class=\"dataframe\">\n",
       "  <thead>\n",
       "    <tr style=\"text-align: right;\">\n",
       "      <th></th>\n",
       "      <th>rank</th>\n",
       "      <th>title</th>\n",
       "      <th>total ratings</th>\n",
       "      <th>installs</th>\n",
       "      <th>average rating</th>\n",
       "      <th>growth (30 days)</th>\n",
       "      <th>growth (60 days)</th>\n",
       "      <th>price</th>\n",
       "      <th>category</th>\n",
       "      <th>5 star ratings</th>\n",
       "      <th>4 star ratings</th>\n",
       "      <th>3 star ratings</th>\n",
       "      <th>2 star ratings</th>\n",
       "      <th>1 star ratings</th>\n",
       "      <th>paid</th>\n",
       "    </tr>\n",
       "  </thead>\n",
       "  <tbody>\n",
       "    <tr>\n",
       "      <th>0</th>\n",
       "      <td>1</td>\n",
       "      <td>Garena Free Fire- World Series</td>\n",
       "      <td>86273129</td>\n",
       "      <td>500.0 M</td>\n",
       "      <td>4</td>\n",
       "      <td>2.1</td>\n",
       "      <td>6.9</td>\n",
       "      <td>0.0</td>\n",
       "      <td>GAME ACTION</td>\n",
       "      <td>63546766</td>\n",
       "      <td>4949507</td>\n",
       "      <td>3158756</td>\n",
       "      <td>2122183</td>\n",
       "      <td>12495915</td>\n",
       "      <td>False</td>\n",
       "    </tr>\n",
       "    <tr>\n",
       "      <th>1</th>\n",
       "      <td>2</td>\n",
       "      <td>PUBG MOBILE - Traverse</td>\n",
       "      <td>37276732</td>\n",
       "      <td>500.0 M</td>\n",
       "      <td>4</td>\n",
       "      <td>1.8</td>\n",
       "      <td>3.6</td>\n",
       "      <td>0.0</td>\n",
       "      <td>GAME ACTION</td>\n",
       "      <td>28339753</td>\n",
       "      <td>2164478</td>\n",
       "      <td>1253185</td>\n",
       "      <td>809821</td>\n",
       "      <td>4709492</td>\n",
       "      <td>False</td>\n",
       "    </tr>\n",
       "    <tr>\n",
       "      <th>2</th>\n",
       "      <td>3</td>\n",
       "      <td>Mobile Legends: Bang Bang</td>\n",
       "      <td>26663595</td>\n",
       "      <td>100.0 M</td>\n",
       "      <td>4</td>\n",
       "      <td>1.5</td>\n",
       "      <td>3.2</td>\n",
       "      <td>0.0</td>\n",
       "      <td>GAME ACTION</td>\n",
       "      <td>18777988</td>\n",
       "      <td>1812094</td>\n",
       "      <td>1050600</td>\n",
       "      <td>713912</td>\n",
       "      <td>4308998</td>\n",
       "      <td>False</td>\n",
       "    </tr>\n",
       "    <tr>\n",
       "      <th>3</th>\n",
       "      <td>4</td>\n",
       "      <td>Brawl Stars</td>\n",
       "      <td>17971552</td>\n",
       "      <td>100.0 M</td>\n",
       "      <td>4</td>\n",
       "      <td>1.4</td>\n",
       "      <td>4.4</td>\n",
       "      <td>0.0</td>\n",
       "      <td>GAME ACTION</td>\n",
       "      <td>13018610</td>\n",
       "      <td>1552950</td>\n",
       "      <td>774012</td>\n",
       "      <td>406184</td>\n",
       "      <td>2219794</td>\n",
       "      <td>False</td>\n",
       "    </tr>\n",
       "    <tr>\n",
       "      <th>4</th>\n",
       "      <td>5</td>\n",
       "      <td>Sniper 3D: Fun Free Online FPS Shooting Game</td>\n",
       "      <td>14464235</td>\n",
       "      <td>500.0 M</td>\n",
       "      <td>4</td>\n",
       "      <td>0.8</td>\n",
       "      <td>1.5</td>\n",
       "      <td>0.0</td>\n",
       "      <td>GAME ACTION</td>\n",
       "      <td>9827328</td>\n",
       "      <td>2124154</td>\n",
       "      <td>1047741</td>\n",
       "      <td>380670</td>\n",
       "      <td>1084340</td>\n",
       "      <td>False</td>\n",
       "    </tr>\n",
       "    <tr>\n",
       "      <th>...</th>\n",
       "      <td>...</td>\n",
       "      <td>...</td>\n",
       "      <td>...</td>\n",
       "      <td>...</td>\n",
       "      <td>...</td>\n",
       "      <td>...</td>\n",
       "      <td>...</td>\n",
       "      <td>...</td>\n",
       "      <td>...</td>\n",
       "      <td>...</td>\n",
       "      <td>...</td>\n",
       "      <td>...</td>\n",
       "      <td>...</td>\n",
       "      <td>...</td>\n",
       "      <td>...</td>\n",
       "    </tr>\n",
       "    <tr>\n",
       "      <th>1725</th>\n",
       "      <td>96</td>\n",
       "      <td>زوايا - لعبة ستحرك زوايا عقلك</td>\n",
       "      <td>112408</td>\n",
       "      <td>1.0 M</td>\n",
       "      <td>4</td>\n",
       "      <td>0.9</td>\n",
       "      <td>1.8</td>\n",
       "      <td>0.0</td>\n",
       "      <td>GAME WORD</td>\n",
       "      <td>101036</td>\n",
       "      <td>3607</td>\n",
       "      <td>3237</td>\n",
       "      <td>1229</td>\n",
       "      <td>3297</td>\n",
       "      <td>False</td>\n",
       "    </tr>\n",
       "    <tr>\n",
       "      <th>1726</th>\n",
       "      <td>97</td>\n",
       "      <td>Bible Word Puzzle - Free Bible Word Games</td>\n",
       "      <td>111595</td>\n",
       "      <td>1.0 M</td>\n",
       "      <td>4</td>\n",
       "      <td>0.9</td>\n",
       "      <td>2.3</td>\n",
       "      <td>0.0</td>\n",
       "      <td>GAME WORD</td>\n",
       "      <td>88950</td>\n",
       "      <td>14856</td>\n",
       "      <td>4297</td>\n",
       "      <td>1385</td>\n",
       "      <td>2103</td>\n",
       "      <td>False</td>\n",
       "    </tr>\n",
       "    <tr>\n",
       "      <th>1727</th>\n",
       "      <td>98</td>\n",
       "      <td>Scrabble® GO - New Word Game</td>\n",
       "      <td>110723</td>\n",
       "      <td>10.0 M</td>\n",
       "      <td>4</td>\n",
       "      <td>0.9</td>\n",
       "      <td>1.9</td>\n",
       "      <td>0.0</td>\n",
       "      <td>GAME WORD</td>\n",
       "      <td>64184</td>\n",
       "      <td>18332</td>\n",
       "      <td>9385</td>\n",
       "      <td>6688</td>\n",
       "      <td>12132</td>\n",
       "      <td>False</td>\n",
       "    </tr>\n",
       "    <tr>\n",
       "      <th>1728</th>\n",
       "      <td>99</td>\n",
       "      <td>Word Nut: Word Puzzle Games &amp; Crosswords</td>\n",
       "      <td>109530</td>\n",
       "      <td>5.0 M</td>\n",
       "      <td>4</td>\n",
       "      <td>1.9</td>\n",
       "      <td>4.1</td>\n",
       "      <td>0.0</td>\n",
       "      <td>GAME WORD</td>\n",
       "      <td>99987</td>\n",
       "      <td>4766</td>\n",
       "      <td>1469</td>\n",
       "      <td>953</td>\n",
       "      <td>2353</td>\n",
       "      <td>False</td>\n",
       "    </tr>\n",
       "    <tr>\n",
       "      <th>1729</th>\n",
       "      <td>100</td>\n",
       "      <td>Pinturillo 2</td>\n",
       "      <td>108917</td>\n",
       "      <td>10.0 M</td>\n",
       "      <td>3</td>\n",
       "      <td>1.1</td>\n",
       "      <td>2.5</td>\n",
       "      <td>0.0</td>\n",
       "      <td>GAME WORD</td>\n",
       "      <td>50813</td>\n",
       "      <td>16480</td>\n",
       "      <td>11825</td>\n",
       "      <td>6166</td>\n",
       "      <td>23631</td>\n",
       "      <td>False</td>\n",
       "    </tr>\n",
       "  </tbody>\n",
       "</table>\n",
       "<p>1730 rows × 15 columns</p>\n",
       "</div>"
      ],
      "text/plain": [
       "      rank                                         title  total ratings  \\\n",
       "0        1                Garena Free Fire- World Series       86273129   \n",
       "1        2                        PUBG MOBILE - Traverse       37276732   \n",
       "2        3                     Mobile Legends: Bang Bang       26663595   \n",
       "3        4                                   Brawl Stars       17971552   \n",
       "4        5  Sniper 3D: Fun Free Online FPS Shooting Game       14464235   \n",
       "...    ...                                           ...            ...   \n",
       "1725    96                 زوايا - لعبة ستحرك زوايا عقلك         112408   \n",
       "1726    97     Bible Word Puzzle - Free Bible Word Games         111595   \n",
       "1727    98                  Scrabble® GO - New Word Game         110723   \n",
       "1728    99      Word Nut: Word Puzzle Games & Crosswords         109530   \n",
       "1729   100                                  Pinturillo 2         108917   \n",
       "\n",
       "     installs  average rating  growth (30 days)  growth (60 days)  price  \\\n",
       "0     500.0 M               4               2.1               6.9    0.0   \n",
       "1     500.0 M               4               1.8               3.6    0.0   \n",
       "2     100.0 M               4               1.5               3.2    0.0   \n",
       "3     100.0 M               4               1.4               4.4    0.0   \n",
       "4     500.0 M               4               0.8               1.5    0.0   \n",
       "...       ...             ...               ...               ...    ...   \n",
       "1725    1.0 M               4               0.9               1.8    0.0   \n",
       "1726    1.0 M               4               0.9               2.3    0.0   \n",
       "1727   10.0 M               4               0.9               1.9    0.0   \n",
       "1728    5.0 M               4               1.9               4.1    0.0   \n",
       "1729   10.0 M               3               1.1               2.5    0.0   \n",
       "\n",
       "         category  5 star ratings  4 star ratings  3 star ratings  \\\n",
       "0     GAME ACTION        63546766         4949507         3158756   \n",
       "1     GAME ACTION        28339753         2164478         1253185   \n",
       "2     GAME ACTION        18777988         1812094         1050600   \n",
       "3     GAME ACTION        13018610         1552950          774012   \n",
       "4     GAME ACTION         9827328         2124154         1047741   \n",
       "...           ...             ...             ...             ...   \n",
       "1725    GAME WORD          101036            3607            3237   \n",
       "1726    GAME WORD           88950           14856            4297   \n",
       "1727    GAME WORD           64184           18332            9385   \n",
       "1728    GAME WORD           99987            4766            1469   \n",
       "1729    GAME WORD           50813           16480           11825   \n",
       "\n",
       "      2 star ratings  1 star ratings   paid  \n",
       "0            2122183        12495915  False  \n",
       "1             809821         4709492  False  \n",
       "2             713912         4308998  False  \n",
       "3             406184         2219794  False  \n",
       "4             380670         1084340  False  \n",
       "...              ...             ...    ...  \n",
       "1725            1229            3297  False  \n",
       "1726            1385            2103  False  \n",
       "1727            6688           12132  False  \n",
       "1728             953            2353  False  \n",
       "1729            6166           23631  False  \n",
       "\n",
       "[1730 rows x 15 columns]"
      ]
     },
     "execution_count": 3,
     "metadata": {},
     "output_type": "execute_result"
    }
   ],
   "source": [
    "df"
   ]
  },
  {
   "cell_type": "code",
   "execution_count": 4,
   "id": "295f86ad",
   "metadata": {
    "scrolled": true
   },
   "outputs": [
    {
     "data": {
      "text/plain": [
       "rank                0\n",
       "title               0\n",
       "total ratings       0\n",
       "installs            0\n",
       "average rating      0\n",
       "growth (30 days)    0\n",
       "growth (60 days)    0\n",
       "price               0\n",
       "category            0\n",
       "5 star ratings      0\n",
       "4 star ratings      0\n",
       "3 star ratings      0\n",
       "2 star ratings      0\n",
       "1 star ratings      0\n",
       "paid                0\n",
       "dtype: int64"
      ]
     },
     "execution_count": 4,
     "metadata": {},
     "output_type": "execute_result"
    }
   ],
   "source": [
    "df.isnull().sum()"
   ]
  },
  {
   "cell_type": "code",
   "execution_count": 5,
   "id": "74973fbd",
   "metadata": {},
   "outputs": [
    {
     "data": {
      "text/plain": [
       "Index(['rank', 'title', 'total ratings', 'installs', 'average rating',\n",
       "       'growth (30 days)', 'growth (60 days)', 'price', 'category',\n",
       "       '5 star ratings', '4 star ratings', '3 star ratings', '2 star ratings',\n",
       "       '1 star ratings', 'paid'],\n",
       "      dtype='object')"
      ]
     },
     "execution_count": 5,
     "metadata": {},
     "output_type": "execute_result"
    }
   ],
   "source": [
    "df.columns"
   ]
  },
  {
   "cell_type": "code",
   "execution_count": 6,
   "id": "53b896e5",
   "metadata": {},
   "outputs": [
    {
     "data": {
      "text/html": [
       "<div>\n",
       "<style scoped>\n",
       "    .dataframe tbody tr th:only-of-type {\n",
       "        vertical-align: middle;\n",
       "    }\n",
       "\n",
       "    .dataframe tbody tr th {\n",
       "        vertical-align: top;\n",
       "    }\n",
       "\n",
       "    .dataframe thead th {\n",
       "        text-align: right;\n",
       "    }\n",
       "</style>\n",
       "<table border=\"1\" class=\"dataframe\">\n",
       "  <thead>\n",
       "    <tr style=\"text-align: right;\">\n",
       "      <th></th>\n",
       "      <th>title</th>\n",
       "      <th>installs</th>\n",
       "      <th>category</th>\n",
       "    </tr>\n",
       "  </thead>\n",
       "  <tbody>\n",
       "    <tr>\n",
       "      <th>count</th>\n",
       "      <td>1730</td>\n",
       "      <td>1730</td>\n",
       "      <td>1730</td>\n",
       "    </tr>\n",
       "    <tr>\n",
       "      <th>unique</th>\n",
       "      <td>1675</td>\n",
       "      <td>9</td>\n",
       "      <td>17</td>\n",
       "    </tr>\n",
       "    <tr>\n",
       "      <th>top</th>\n",
       "      <td>Solitaire</td>\n",
       "      <td>10.0 M</td>\n",
       "      <td>GAME CARD</td>\n",
       "    </tr>\n",
       "    <tr>\n",
       "      <th>freq</th>\n",
       "      <td>36</td>\n",
       "      <td>805</td>\n",
       "      <td>126</td>\n",
       "    </tr>\n",
       "  </tbody>\n",
       "</table>\n",
       "</div>"
      ],
      "text/plain": [
       "            title installs   category\n",
       "count        1730     1730       1730\n",
       "unique       1675        9         17\n",
       "top     Solitaire   10.0 M  GAME CARD\n",
       "freq           36      805        126"
      ]
     },
     "execution_count": 6,
     "metadata": {},
     "output_type": "execute_result"
    }
   ],
   "source": [
    "df.describe(include = object)"
   ]
  },
  {
   "cell_type": "code",
   "execution_count": 7,
   "id": "040f67dd",
   "metadata": {},
   "outputs": [
    {
     "data": {
      "text/plain": [
       "False    1730\n",
       "dtype: int64"
      ]
     },
     "execution_count": 7,
     "metadata": {},
     "output_type": "execute_result"
    }
   ],
   "source": [
    "df.duplicated().value_counts()"
   ]
  },
  {
   "cell_type": "markdown",
   "id": "32d468bd",
   "metadata": {},
   "source": [
    "## jupyter-summarytools"
   ]
  },
  {
   "cell_type": "code",
   "execution_count": 8,
   "id": "e1a6b9a3",
   "metadata": {},
   "outputs": [],
   "source": [
    "from summarytools import dfSummary"
   ]
  },
  {
   "cell_type": "code",
   "execution_count": 9,
   "id": "f2dcd024",
   "metadata": {
    "scrolled": true
   },
   "outputs": [
    {
     "data": {
      "text/html": [
       "<style type=\"text/css\">\n",
       "#T_64d99 thead>tr>th {\n",
       "  text-align: left;\n",
       "}\n",
       "#T_64d99_row0_col0, #T_64d99_row1_col0, #T_64d99_row2_col0, #T_64d99_row3_col0, #T_64d99_row4_col0, #T_64d99_row5_col0, #T_64d99_row6_col0, #T_64d99_row7_col0, #T_64d99_row8_col0, #T_64d99_row9_col0, #T_64d99_row10_col0, #T_64d99_row11_col0, #T_64d99_row12_col0, #T_64d99_row13_col0, #T_64d99_row14_col0 {\n",
       "  text-align: left;\n",
       "  font-size: 12px;\n",
       "  vertical-align: middle;\n",
       "  width: 5%;\n",
       "  max-width: 50px;\n",
       "  min-width: 20px;\n",
       "}\n",
       "#T_64d99_row0_col1, #T_64d99_row1_col1, #T_64d99_row2_col1, #T_64d99_row3_col1, #T_64d99_row4_col1, #T_64d99_row5_col1, #T_64d99_row6_col1, #T_64d99_row7_col1, #T_64d99_row8_col1, #T_64d99_row9_col1, #T_64d99_row10_col1, #T_64d99_row11_col1, #T_64d99_row12_col1, #T_64d99_row13_col1, #T_64d99_row14_col1 {\n",
       "  text-align: left;\n",
       "  font-size: 12px;\n",
       "  vertical-align: middle;\n",
       "  width: 15%;\n",
       "  max-width: 200px;\n",
       "  min-width: 100px;\n",
       "  word-break: break-word;\n",
       "}\n",
       "#T_64d99_row0_col2, #T_64d99_row1_col2, #T_64d99_row2_col2, #T_64d99_row3_col2, #T_64d99_row4_col2, #T_64d99_row5_col2, #T_64d99_row6_col2, #T_64d99_row7_col2, #T_64d99_row8_col2, #T_64d99_row9_col2, #T_64d99_row10_col2, #T_64d99_row11_col2, #T_64d99_row12_col2, #T_64d99_row13_col2, #T_64d99_row14_col2 {\n",
       "  text-align: left;\n",
       "  font-size: 12px;\n",
       "  vertical-align: middle;\n",
       "  width: 30%;\n",
       "  min-width: 100px;\n",
       "}\n",
       "#T_64d99_row0_col3, #T_64d99_row1_col3, #T_64d99_row2_col3, #T_64d99_row3_col3, #T_64d99_row4_col3, #T_64d99_row5_col3, #T_64d99_row6_col3, #T_64d99_row7_col3, #T_64d99_row8_col3, #T_64d99_row9_col3, #T_64d99_row10_col3, #T_64d99_row11_col3, #T_64d99_row12_col3, #T_64d99_row13_col3, #T_64d99_row14_col3 {\n",
       "  text-align: left;\n",
       "  font-size: 12px;\n",
       "  vertical-align: middle;\n",
       "  width: 25%;\n",
       "  min-width: 100px;\n",
       "}\n",
       "#T_64d99_row0_col4, #T_64d99_row1_col4, #T_64d99_row2_col4, #T_64d99_row3_col4, #T_64d99_row4_col4, #T_64d99_row5_col4, #T_64d99_row6_col4, #T_64d99_row7_col4, #T_64d99_row8_col4, #T_64d99_row9_col4, #T_64d99_row10_col4, #T_64d99_row11_col4, #T_64d99_row12_col4, #T_64d99_row13_col4, #T_64d99_row14_col4 {\n",
       "  text-align: left;\n",
       "  font-size: 12px;\n",
       "  vertical-align: middle;\n",
       "  width: 20%;\n",
       "  min-width: 150px;\n",
       "}\n",
       "#T_64d99_row0_col5, #T_64d99_row1_col5, #T_64d99_row2_col5, #T_64d99_row3_col5, #T_64d99_row4_col5, #T_64d99_row5_col5, #T_64d99_row6_col5, #T_64d99_row7_col5, #T_64d99_row8_col5, #T_64d99_row9_col5, #T_64d99_row10_col5, #T_64d99_row11_col5, #T_64d99_row12_col5, #T_64d99_row13_col5, #T_64d99_row14_col5 {\n",
       "  text-align: left;\n",
       "  font-size: 12px;\n",
       "  vertical-align: middle;\n",
       "  width: 10%;\n",
       "}\n",
       "</style>\n",
       "<table id=\"T_64d99\">\n",
       "  <caption><strong>Data Frame Summary</strong><br>df<br>Dimensions: 1,730 x 15<br>Duplicates: 0</caption>\n",
       "  <thead>\n",
       "    <tr>\n",
       "      <th id=\"T_64d99_level0_col0\" class=\"col_heading level0 col0\" >No</th>\n",
       "      <th id=\"T_64d99_level0_col1\" class=\"col_heading level0 col1\" >Variable</th>\n",
       "      <th id=\"T_64d99_level0_col2\" class=\"col_heading level0 col2\" >Stats / Values</th>\n",
       "      <th id=\"T_64d99_level0_col3\" class=\"col_heading level0 col3\" >Freqs / (% of Valid)</th>\n",
       "      <th id=\"T_64d99_level0_col4\" class=\"col_heading level0 col4\" >Graph</th>\n",
       "      <th id=\"T_64d99_level0_col5\" class=\"col_heading level0 col5\" >Missing</th>\n",
       "    </tr>\n",
       "  </thead>\n",
       "  <tbody>\n",
       "    <tr>\n",
       "      <td id=\"T_64d99_row0_col0\" class=\"data row0 col0\" >1</td>\n",
       "      <td id=\"T_64d99_row0_col1\" class=\"data row0 col1\" ><strong>rank</strong><br>[int64]</td>\n",
       "      <td id=\"T_64d99_row0_col2\" class=\"data row0 col2\" >Mean (sd) : 50.4 (28.9)<br>min < med < max:<br>1.0 < 50.0 < 100.0<br>IQR (CV) : 50.0 (1.7)</td>\n",
       "      <td id=\"T_64d99_row0_col3\" class=\"data row0 col3\" >100 distinct values</td>\n",
       "      <td id=\"T_64d99_row0_col4\" class=\"data row0 col4\" ><img src = \"data:image/png;base64, iVBORw0KGgoAAAANSUhEUgAAAKoAAABGCAYAAABc8A97AAAAOXRFWHRTb2Z0d2FyZQBNYXRwbG90bGliIHZlcnNpb24zLjcuMSwgaHR0cHM6Ly9tYXRwbG90bGliLm9yZy/bCgiHAAAACXBIWXMAAA9hAAAPYQGoP6dpAAACa0lEQVR4nO3YvYsaQRyH8d+oJ+NLXHyJdjYpAykWbGzSpbw/Nm1KQSG1RZpUNiKIrrg5cTGmSpFG3Z0j+j2eT72zM7vz7Ai68/lswKMr3XsBwC0q1y5wztXMrFrw/iUz+11wrJnZ8Xw+vwSMxxtxMVTnXK3b7T63Wq123hufTqenNE0/NJvNn6VSKSuyuN1ut3HOfVWLNfDjDvo43+rBcu1ErbZarfZ4PH6JouiQ58aLxaI9n8/fx3H8YzAYbPIuLEkSP5lM+uv1uuec2+Udb/fbcN/pdL5EUdQoMu92u907576ZWa73HTr3axwsgWu/uF9Xf/rNzKIoOvT7/V95Zt1sNjUzs0ajkXusmVmapk9Zln0aDoflcrmc+8HvteFZlnkz+zgajb73er1cH9hyuXw3m80+D4fDXpFnDpk79GAJXfu1X8+bQr2H4/FY8d7X4zg+5H1xD7Dhde99VuTjLvrMrzG3WfGDJWTtSZL46XTaXq/XVTPTCvWvIi/uETY8REgsoXOHKrp2M7u49ocPNYTyhuNf/I8KCYQKCYQKCYQKCYQKCYQKCYQKCYQKCYQKCYQKCYQKCYQKCYQKCYQKCYQKCYQKCYQKCYQKCYQKCYQKCYQKCYQKCYQKCYQKCYQKCYQKCYQKCYQKCYQKCYQKCYQKCYQKCYQKCYQKCYQKCYQKCYQKCYQKCYQKCYQKCYQKCYQKCYQKCYQKCYQKCYQKCYQKCYQKCYQKCYQKCYQKCYQKCYQKCYQKCYQKCYQKCYQKCYQKCYQKCYQKCZVbLkqSxOe98X6/92ZmaZr61WpV/5/jVedWXXfo+Fv6+gMYNUO9C6rmZwAAAABJRU5ErkJggg==\"></img></td>\n",
       "      <td id=\"T_64d99_row0_col5\" class=\"data row0 col5\" >0<br>(0.0%)</td>\n",
       "    </tr>\n",
       "    <tr>\n",
       "      <td id=\"T_64d99_row1_col0\" class=\"data row1 col0\" >2</td>\n",
       "      <td id=\"T_64d99_row1_col1\" class=\"data row1 col1\" ><strong>title</strong><br>[object]</td>\n",
       "      <td id=\"T_64d99_row1_col2\" class=\"data row1 col2\" >1. Solitaire<br>2. Word Search<br>3. Spider Solitaire<br>4. Bubble Shooter<br>5. Sudoku<br>6. Real Racing 3<br>7. The Simpsons™: Tapped Out<br>8. Heroes Charge<br>9. My Bakery Empire - Bake, Decor<br>10. Galaxy Legend - Cosmic Conques<br>11. other</td>\n",
       "      <td id=\"T_64d99_row1_col3\" class=\"data row1 col3\" >36 (2.1%)<br>9 (0.5%)<br>7 (0.4%)<br>4 (0.2%)<br>2 (0.1%)<br>2 (0.1%)<br>2 (0.1%)<br>1 (0.1%)<br>1 (0.1%)<br>1 (0.1%)<br>1,665 (96.2%)</td>\n",
       "      <td id=\"T_64d99_row1_col4\" class=\"data row1 col4\" ><img src = \"data:image/png;base64, iVBORw0KGgoAAAANSUhEUgAAAJsAAAD+CAYAAAAtWHdlAAAAOXRFWHRTb2Z0d2FyZQBNYXRwbG90bGliIHZlcnNpb24zLjcuMSwgaHR0cHM6Ly9tYXRwbG90bGliLm9yZy/bCgiHAAAACXBIWXMAAA9hAAAPYQGoP6dpAAAD4klEQVR4nO3dQWojVxhG0b+McNqTEkLQS0j2oEV4sb0ILSJ7aIxrEHc8UQbtBNJ0EhLwFSjnzCwwvMFFzzL12cvlchko3F37APx/iI2M2MiIjYzYyIiNjNjIiI2M2MgsM/MwM/dvX79eLpeXK56HG7Y7Ho+P67oeZma2bXtaluWT4HgPd+u6Hk6n08vpdHp5i+7+H78L/oPdzMx+v//y9vXDFc/CjfMBgYzYyIiNjNjIiI2M2MiIjYzYyIiNjNjIiI2M2MiIjYzYyOxmZp6fnz9c+yDcvt22bU/n8/mPJ3Vn5vXKZ+JG2SCQWfzJLCq/v7ONdzTe2+54PD7OzFhV8d7u1nU9WFVR8Hs2MmIjIzYyYiMjNjJiIyM2MmIjIzYyYiMjNjJiIyM2MmIjIzYyu7eRy4yhC+/MY+FkDF7IeGcjY/BCxuCFjF99kBEbGbGRERsZsZERGxmxkREbGbGRERsZsZERGxmxkREbGbGRMXgh47FwMgYvZPzMRkZsZO6WZflpWRb/b5R3dzczP87MD9c+CLfPNUpGbGTERkZsZMRGRmxkxEZGbGTERkZsZMRGRmxkxEZGbGTERuZuZn6emV+vfRBun8ELGdcoGbGRMXghY/BCxjVKRmxkxEZGbGTERkZsZMRGRmxkxEZGbGTERkZsZMRGRmxkxEbG4IWMwQsZ1ygZsZExeCFj8ELGNUpGbGTERkZsZMRGRmxkxEZGbGTERkZsZMRGRmxkxEZGbGTERkZsZKyryFhXkXGNkhEbGesqMtZVZFyjZMRGRmxkxEZGbGTERkZsZMRGRmxkxEZGbGTERkZsZMRGRmxkDF7IGLyQcY2SERsZgxcyBi9kXKNkxEZGbGTERkZsZMRGRmxkxEZGbGTERkZsZMRGRmxkxEZGbGQMXsgYvJBxjZIRGxmxkbGuImNdRcY1SkZsZMRGRmxkxEZGbGTERkZsZMRGRmxkxEZGbGTERkZsZMRGxrqKjHUVGdcoGbGRMXghY/BCxjVKRmxkxEZGbGTERkZsZMRGRmxkxEZGbGTERkZsZMRGRmxkxEbG4IWMwQsZ1yiZZWYeZub+2gfhprxeLpeXb1/cHY/Hx3VdD9c4Ebdp27anZVk+fRvcbl3Xw+l0etnv91+udThux/Pz84fz+Xz4/Pnz/cz8ObaZmf1+/+Xjx4+/XOV03KKH773oAwIZsZERGxmxkREbGbGRERsZsZERGxmxkREbGbGRERuZ3czXx0KufRBuw9+1tNu27el8Ph/mLx4LgX9r27anmXn99nWPhfMevvtYuHUVGR8QyIiNjNjIiI2M2MiIjYzYyIiNjNjI/AbIB7I5lwixegAAAABJRU5ErkJggg==\"></img></td>\n",
       "      <td id=\"T_64d99_row1_col5\" class=\"data row1 col5\" >0<br>(0.0%)</td>\n",
       "    </tr>\n",
       "    <tr>\n",
       "      <td id=\"T_64d99_row2_col0\" class=\"data row2 col0\" >3</td>\n",
       "      <td id=\"T_64d99_row2_col1\" class=\"data row2 col1\" ><strong>total ratings</strong><br>[int64]</td>\n",
       "      <td id=\"T_64d99_row2_col2\" class=\"data row2 col2\" >Mean (sd) : 1064331.9 (3429249.5)<br>min < med < max:<br>32993.0 < 428606.5 < 86273129.0<br>IQR (CV) : 707797.8 (0.3)</td>\n",
       "      <td id=\"T_64d99_row2_col3\" class=\"data row2 col3\" >1,699 distinct values</td>\n",
       "      <td id=\"T_64d99_row2_col4\" class=\"data row2 col4\" ><img src = \"data:image/png;base64, iVBORw0KGgoAAAANSUhEUgAAAKoAAABGCAYAAABc8A97AAAAOXRFWHRTb2Z0d2FyZQBNYXRwbG90bGliIHZlcnNpb24zLjcuMSwgaHR0cHM6Ly9tYXRwbG90bGliLm9yZy/bCgiHAAAACXBIWXMAAA9hAAAPYQGoP6dpAAABk0lEQVR4nO3XwWoaUQCF4XtrKnHRGURw6SP0AXyIPGy23fssbqSOlGojcrPLJqTGSUt74PvWcw8X5mfE2lor8L/79K8vAO9xd+2BWuuslDIduf/UWjuOPAsvfhtqrXW2WCweuq6bjxk/HA7fa62PYuWjrn1Rp13Xzdfr9bHv+9Mtw8Mw3G82m/lut5uWUoTKh1z96S+llL7vT8vl8ueI/dmIM/CKP1NEECoRhEoEoRJBqEQQKhGESgShEkGoRBAqEYRKBKESQahEECoRhEoEoRJBqEQQKhGESgShEkGoRBAqEYRKBKESQahEECoRhEoEoRJBqEQQKhGESgShEkGoRBAqEYRKBKESQahEECoRhEoEoRJBqEQQKhGESgShEkGoRBAqEYRKBKESQahEECoRhEoEoRJBqEQQKhGESgShEkGoRBAqEYRKBKESQahEECoR7v7m+OVy+VxK6WqtYyeeWmvHP3glQr0r1GEY7m8d3m63X87n89fVajWZTCan269Wyn6//1Fr/VZKGXWeKL9aa2++52fxYDzEnB/1ZAAAAABJRU5ErkJggg==\"></img></td>\n",
       "      <td id=\"T_64d99_row2_col5\" class=\"data row2 col5\" >0<br>(0.0%)</td>\n",
       "    </tr>\n",
       "    <tr>\n",
       "      <td id=\"T_64d99_row3_col0\" class=\"data row3 col0\" >4</td>\n",
       "      <td id=\"T_64d99_row3_col1\" class=\"data row3 col1\" ><strong>installs</strong><br>[object]</td>\n",
       "      <td id=\"T_64d99_row3_col2\" class=\"data row3 col2\" >1. 10.0 M<br>2. 50.0 M<br>3. 5.0 M<br>4. 100.0 M<br>5. 1.0 M<br>6. 500.0 k<br>7. 500.0 M<br>8. 100.0 k<br>9. 1000.0 M</td>\n",
       "      <td id=\"T_64d99_row3_col3\" class=\"data row3 col3\" >805 (46.5%)<br>252 (14.6%)<br>245 (14.2%)<br>204 (11.8%)<br>192 (11.1%)<br>15 (0.9%)<br>12 (0.7%)<br>3 (0.2%)<br>2 (0.1%)</td>\n",
       "      <td id=\"T_64d99_row3_col4\" class=\"data row3 col4\" ><img src = \"data:image/png;base64, iVBORw0KGgoAAAANSUhEUgAAAJsAAADPCAYAAADifqNtAAAAOXRFWHRTb2Z0d2FyZQBNYXRwbG90bGliIHZlcnNpb24zLjcuMSwgaHR0cHM6Ly9tYXRwbG90bGliLm9yZy/bCgiHAAAACXBIWXMAAA9hAAAPYQGoP6dpAAADgElEQVR4nO3dUWobVwCG0TtGpM2LhBF4Ce0evIgstovQIroHY6yHJs2L+tDUJMbEAs98I9RzVnAxHzOeYX57Op1OAwo3ax+A/w+xkREbGbGRERsZsZERG5lpjPFxjPFh7YNcsK+n0+nz2oe4Bpv9fv9pu93ern2QS3U8Hh+nafpDcO+32W63t/f39593u92XtQ9zaZ6enn49HA63Dw8PH8YYYnunzRhj7Ha7L3d3d3+tfZgL9XHtA1wLDwhkxEZGbGTERkZsZMRGRmxkxEZGbGTERkZsZMRGRmxkNmP8+ynN2ge5RH4u89ocj8fHw+FwO3xK86rj8fg4xvi69jmugc/C3+az8JlM/tYHlaWvbK4KPFt08GIswvcWG7wYi/DS0oMXT7g881KXjNjIiI2M2MiIjYzYyIiNjNjIiI2M2MiIjYzYyIiNzGKDF2MRXlp08GIswvd8Fk7G4IWMBwQyS95G3UL5wWLrKssqXlpkXWVZxWuWXFdZVvEDDwhkxEZGbGTERkZsZMRGRmxkxEZGbGTERkZsZMRGRmxkFllXWVbxmsXWVZZVvOSzcDLWVWTmvLK5kvFTsw1eDFx4yyyDFwMXzjHn4MXAhZ/yUpeM2MiIjYzYyIiNjNjIiI2M2MiIjYzYyIiNjNjIiI3MLIMXAxfOMdvgxcCFt/gsnIzBC5m5rmyuarxplsGLsQvnePfgxdiFc801eDF24U1e6pIRGxmxkREbGbGRERsZsZERGxmxkREbGbGRERsZsZERG5l3r6ssqzjXLOsqyyrOYYNAxrqKzH9XtuHKxNI2+/3+0xhjWEextJvtdnv7bcq3xL+BhGfes5ERGxmxkREbGbGRERsZsZERGxmxkREbGbGRERsZsZERGxmxkdl8G6uMYbDCwnwWTsbghYwrGxmDFzIGL2S8+iAjNjJiIyM2MmIjIzYyYiMjNjJiIyM2MmIjIzYyYiMjNjJiIyM2MtZVZGwQyFhXkfE7G5mbaZp+n6bJ/wxlcTdjjN/GGL+sfRCun9soGbGRERsZsZERGxmxkREbGbGRERsZsZERGxmxkREbGbGRERuZmzHGn2OMv9c+CNfPBoGM2ygZsZExeCFj8ELGbZSM2MiIjYzYyIiNjNjIiI2M2MiIjYzYyIiNjNjIiI2M2MiIjYzYyFhXkbGuIuM2SkZsZMRGRmxkxEZGbGTERuYfVANEF6zf80MAAAAASUVORK5CYII=\"></img></td>\n",
       "      <td id=\"T_64d99_row3_col5\" class=\"data row3 col5\" >0<br>(0.0%)</td>\n",
       "    </tr>\n",
       "    <tr>\n",
       "      <td id=\"T_64d99_row4_col0\" class=\"data row4 col0\" >5</td>\n",
       "      <td id=\"T_64d99_row4_col1\" class=\"data row4 col1\" ><strong>average rating</strong><br>[int64]</td>\n",
       "      <td id=\"T_64d99_row4_col2\" class=\"data row4 col2\" >Mean (sd) : 3.9 (0.3)<br>min < med < max:<br>2.0 < 4.0 < 4.0<br>IQR (CV) : 0.0 (13.4)</td>\n",
       "      <td id=\"T_64d99_row4_col3\" class=\"data row4 col3\" >3 distinct values</td>\n",
       "      <td id=\"T_64d99_row4_col4\" class=\"data row4 col4\" ><img src = \"data:image/png;base64, iVBORw0KGgoAAAANSUhEUgAAAKoAAABGCAYAAABc8A97AAAAOXRFWHRTb2Z0d2FyZQBNYXRwbG90bGliIHZlcnNpb24zLjcuMSwgaHR0cHM6Ly9tYXRwbG90bGliLm9yZy/bCgiHAAAACXBIWXMAAA9hAAAPYQGoP6dpAAABvElEQVR4nO3XQWqDUBSF4XtLsDp5DxFcjIvIYrMIdyPhOYgSSF6n7SBNY03TI/83NQdu4B+o55wN+O/eXn0A8BO7Vx+A7XD3ysyKhfNzznm69ZBQsQp3r5qm2YcQ6iX7cRyP7n64FSuhYi1FCKHuum6KMc6PDFNKZd/39TAMhZkRKp4vxji3bXtaMK2+e8jHFCQQKiQQKiQQKiQQKiQQKiQQKiQQKiQQKiQQKiQQKiQQKiQQKiQQKiQQKiQQKiQQKiQQKiQQKiQQKiQQKiQQKiQQKiQQKiQQKiQQKiQQKiQQKiQQKiQQKiQQKiQQKiQQKiQQKiQQKiQQKiQQKiQQKiQQKiQQKiQQKiQQKiQQKiQQKiQQKiQQKiQQKiQQKiQQKiQQKiQQKiQQKiQQKiQQKiQQKiQQKiTsXn3AFrl7ZWbFwvk55zytec8WEOrK3L1qmmYfQqiX7MdxPLr7gVi/ItT1FSGEuuu6KcY4PzJMKZV939fDMBRmRqifEOqTxBjntm1PC6bV6sdsAB9TkECokECokHD3HdXdSzN7/4NbtiJcr9ddSql8dJhSKi+Xy87Mgrs/4bSn+tX/vvebDwZYUZvf7hFbAAAAAElFTkSuQmCC\"></img></td>\n",
       "      <td id=\"T_64d99_row4_col5\" class=\"data row4 col5\" >0<br>(0.0%)</td>\n",
       "    </tr>\n",
       "    <tr>\n",
       "      <td id=\"T_64d99_row5_col0\" class=\"data row5 col0\" >6</td>\n",
       "      <td id=\"T_64d99_row5_col1\" class=\"data row5 col1\" ><strong>growth (30 days)</strong><br>[float64]</td>\n",
       "      <td id=\"T_64d99_row5_col2\" class=\"data row5 col2\" >Mean (sd) : 321.7 (6018.9)<br>min < med < max:<br>0.0 < 0.5 < 227105.7<br>IQR (CV) : 1.6 (0.1)</td>\n",
       "      <td id=\"T_64d99_row5_col3\" class=\"data row5 col3\" >186 distinct values</td>\n",
       "      <td id=\"T_64d99_row5_col4\" class=\"data row5 col4\" ><img src = \"data:image/png;base64, iVBORw0KGgoAAAANSUhEUgAAAKoAAABGCAYAAABc8A97AAAAOXRFWHRTb2Z0d2FyZQBNYXRwbG90bGliIHZlcnNpb24zLjcuMSwgaHR0cHM6Ly9tYXRwbG90bGliLm9yZy/bCgiHAAAACXBIWXMAAA9hAAAPYQGoP6dpAAABaUlEQVR4nO3XT2oCMRiH4aSI6GYGETyMh+hhewhvIyUuqi1Iuuum1D/jov3R59km+cjiZYbU3nuBv+7pty8At5hd21BrXZZS5hPnf/TejxPPwpeLodZal+v1+nkYhtWU4YfD4bXW+iJWHnXtizofhmG13W6P4zie7hncWlvsdrvVfr+fl1KEykOu/vpLKWUcx9Nms3mbMH854Qx84zFFBKESQahEECoRhEoEoRJBqEQQKhGESgShEkGoRBAqEYRKBKESQahEECoRhEoEoRJBqEQQKhGESgShEkGoRBAqEYRKBKESQahEECoRhEoEoRJBqEQQKhGESgShEkGoRBAqEYRKBKESQahEECoRhEoEoRJBqEQQKhGESgShEkGoRBAqEYRKBKESQahEECoRhEoEoRJBqEQQKhGESgShEkGoRBAqEYRKBKESQahEmN2yqbW2uHdwa21xPp9npZSh1nr3xfh33nvvp58WPwF79y3yrjldnwAAAABJRU5ErkJggg==\"></img></td>\n",
       "      <td id=\"T_64d99_row5_col5\" class=\"data row5 col5\" >0<br>(0.0%)</td>\n",
       "    </tr>\n",
       "    <tr>\n",
       "      <td id=\"T_64d99_row6_col0\" class=\"data row6 col0\" >7</td>\n",
       "      <td id=\"T_64d99_row6_col1\" class=\"data row6 col1\" ><strong>growth (60 days)</strong><br>[float64]</td>\n",
       "      <td id=\"T_64d99_row6_col2\" class=\"data row6 col2\" >Mean (sd) : 122.6 (2253.9)<br>min < med < max:<br>0.0 < 1.0 < 69441.4<br>IQR (CV) : 3.1 (0.1)</td>\n",
       "      <td id=\"T_64d99_row6_col3\" class=\"data row6 col3\" >206 distinct values</td>\n",
       "      <td id=\"T_64d99_row6_col4\" class=\"data row6 col4\" ><img src = \"data:image/png;base64, iVBORw0KGgoAAAANSUhEUgAAAKoAAABGCAYAAABc8A97AAAAOXRFWHRTb2Z0d2FyZQBNYXRwbG90bGliIHZlcnNpb24zLjcuMSwgaHR0cHM6Ly9tYXRwbG90bGliLm9yZy/bCgiHAAAACXBIWXMAAA9hAAAPYQGoP6dpAAABaUlEQVR4nO3XT2oCMRiH4aSI6GYGETyMh+hhewhvIyUuqi1Iuuum1D/jov3R59km+cjiZYbU3nuBv+7pty8At5hd21BrXZZS5hPnf/TejxPPwpeLodZal+v1+nkYhtWU4YfD4bXW+iJWHnXtizofhmG13W6P4zie7hncWlvsdrvVfr+fl1KEykOu/vpLKWUcx9Nms3mbMH854Qx84zFFBKESQahEECoRhEoEoRJBqEQQKhGESgShEkGoRBAqEYRKBKESQahEECoRhEoEoRJBqEQQKhGESgShEkGoRBAqEYRKBKESQahEECoRhEoEoRJBqEQQKhGESgShEkGoRBAqEYRKBKESQahEECoRhEoEoRJBqEQQKhGESgShEkGoRBAqEYRKBKESQahEECoRhEoEoRJBqEQQKhGESgShEkGoRBAqEYRKBKESQahEmN2yqbW2uHdwa21xPp9npZSh1nr3xfh33nvvp58WPwF79y3yrjldnwAAAABJRU5ErkJggg==\"></img></td>\n",
       "      <td id=\"T_64d99_row6_col5\" class=\"data row6 col5\" >0<br>(0.0%)</td>\n",
       "    </tr>\n",
       "    <tr>\n",
       "      <td id=\"T_64d99_row7_col0\" class=\"data row7 col0\" >8</td>\n",
       "      <td id=\"T_64d99_row7_col1\" class=\"data row7 col1\" ><strong>price</strong><br>[float64]</td>\n",
       "      <td id=\"T_64d99_row7_col2\" class=\"data row7 col2\" >1. 0.0<br>2. 1.99<br>3. 7.49<br>4. 2.99<br>5. 1.49<br>6. 0.99</td>\n",
       "      <td id=\"T_64d99_row7_col3\" class=\"data row7 col3\" >1,723 (99.6%)<br>3 (0.2%)<br>1 (0.1%)<br>1 (0.1%)<br>1 (0.1%)<br>1 (0.1%)</td>\n",
       "      <td id=\"T_64d99_row7_col4\" class=\"data row7 col4\" ><img src = \"data:image/png;base64, iVBORw0KGgoAAAANSUhEUgAAAJsAAACKCAYAAAC96ziyAAAAOXRFWHRTb2Z0d2FyZQBNYXRwbG90bGliIHZlcnNpb24zLjcuMSwgaHR0cHM6Ly9tYXRwbG90bGliLm9yZy/bCgiHAAAACXBIWXMAAA9hAAAPYQGoP6dpAAACDUlEQVR4nO3bwWkbYRRG0TdCJPFGQghUQtKDisg2HauINGGkReJ44yyCS/AdmJxTwb+48BiYb3l7exso7NZ+AP8PsZERGxmxkVlm5mlmPq39EDbvdX8+n78fDofT2i9h2x6Px/P+cDicrtfr7+Px+LL2g9im+/3+5Xa7nfYzM8fj8eVyufxa+1Fs2pMPBDJiIyM2MmIjIzYyYiMjNjJiIyM2MmIjIzYyYiMjNjL7mX+/gKz9ELbrva/lfD7/8PMkH+3xeDz7LZzK62KkTMUHApndsizflmXxgcCH283M15n5vPZD2D5nlIzYyIiNjNjIiI2M2MiIjYzYyIiNjNjIiI2M2MiIjYzYyIiNjNjI7Gbm58z8WfshbJ/BCxlnlIzYyFhXkbGuIuOMkhEbGbGRERsZsZERGxmxkREbGbGRERsZsZERGxmxkREbGbGRERsZ6yoy1lVknFEyYiNjXUXGuoqMM0pGbGTERkZsZMRGRmxkxEZGbGTERkZsZMRGRmxkxEZGbGTERsbghYzBCxlnlIzYyIiNjHUVGesqMs4oGbGRERsZsZERGxmxkREbGbGRERsZsZERGxmxkREbGbGRERsZ6yoy1lVknFEyYiNj8ELG4IWMM0pGbGTERkZsZMRGRmxkxEZGbGTERkZsZMRGRmxkxEZGbGTERkZsZKyryFhXkXFGyYiNjNjIiI3MXzR3PI/+RnJQAAAAAElFTkSuQmCC\"></img></td>\n",
       "      <td id=\"T_64d99_row7_col5\" class=\"data row7 col5\" >0<br>(0.0%)</td>\n",
       "    </tr>\n",
       "    <tr>\n",
       "      <td id=\"T_64d99_row8_col0\" class=\"data row8 col0\" >9</td>\n",
       "      <td id=\"T_64d99_row8_col1\" class=\"data row8 col1\" ><strong>category</strong><br>[object]</td>\n",
       "      <td id=\"T_64d99_row8_col2\" class=\"data row8 col2\" >1. GAME CARD<br>2. GAME WORD<br>3. GAME PUZZLE<br>4. GAME TRIVIA<br>5. GAME STRATEGY<br>6. GAME SPORTS<br>7. GAME SIMULATION<br>8. GAME ROLE PLAYING<br>9. GAME RACING<br>10. GAME ACTION<br>11. other</td>\n",
       "      <td id=\"T_64d99_row8_col3\" class=\"data row8 col3\" >126 (7.3%)<br>104 (6.0%)<br>100 (5.8%)<br>100 (5.8%)<br>100 (5.8%)<br>100 (5.8%)<br>100 (5.8%)<br>100 (5.8%)<br>100 (5.8%)<br>100 (5.8%)<br>700 (40.5%)</td>\n",
       "      <td id=\"T_64d99_row8_col4\" class=\"data row8 col4\" ><img src = \"data:image/png;base64, iVBORw0KGgoAAAANSUhEUgAAAJsAAAD+CAYAAAAtWHdlAAAAOXRFWHRTb2Z0d2FyZQBNYXRwbG90bGliIHZlcnNpb24zLjcuMSwgaHR0cHM6Ly9tYXRwbG90bGliLm9yZy/bCgiHAAAACXBIWXMAAA9hAAAPYQGoP6dpAAADmklEQVR4nO3cwUobUQCG0ZsSpG4SguDD+BB92D5E3iaIs6jiJl10b241fsJ4znoWKXxcmeH+3ZzP5wGFH1/9A/g+xEZGbGTERkZsZMRGRmxkxEZGbGQ2Y4zbMcbN5POv5/P5+RN/Dyu2vbu7+7Xb7Q4zDy/L8rjZbH4LjvfY7na7w8PDw/N+v39568Gnp6efx+PxcDqdbsYYYuO/bccYY7/fv9zf3/+ZeP72k38PK+YFgYzYyIiNjNjIiI2M2MiIjYzYyIiNjNjIiI2M2MiIjYzYyGzH+HdX7dKDM8/AW7bLsjwej8fDmLirtizL4xjj9fN/Fmtkg0Bm47/MojJ7sjnR+LCpdZVVFddwcV1lVcW1zK6rrKr4MB91yYiNjNjIiI2M2MiIjYzYyIiNjNjIiI2M2MiIjYzYyFwcvBi6cC1TgxdDF67BtXAyBi9knGxkDF7IGLyQMXgh46MuGbGRERsZsZERGxmxkREbGbGRERsZsZERGxmxkREbGYMXMgYvZFwLJ2PwQsYLAhl/RslYV5GxriJjXUXGCwIZsZERGxmxkREbGbGRERsZsZERGxmxkREbGbGRERsZ6yoy1lVkXAsnY11FxslGxuCFjMELGYMXMj7qkhEbGbGRERsZsZERGxmxkREbGbGRERsZsZERGxmxkTF4IWPwQsa1cDIGL2ScbGQMXsgYvJAxeCHjoy4ZsZERGxmxkREbGbGRERsZsZERGxmxkREbGbGRERsZsZGxriJjXUXGBoGMdRUZJxsZ6yoy1lVkrKvI+KhLRmxkxEZGbGTERkZsZMRGRmxkxEZGbGTERkZsZMRGxuCFjMELGdfCyRi8kHGykTF4IWPwQsbghYyPumTERkZsZMRGRmxkxEZGbGTERkZsZMRGRmxkxEZGbGQMXsgYvJBxLZyMwQsZLwhk/BklY11FxrqKjHUVGS8IZMRGRmxkxEZGbGTERkZsZMRGRmxkxEZGbGTERkZsZKyryFhXkXEtnIx1FRknGxmDFzIGL2QMXsj4qEtGbGTERkZsZMRGRmxkxEZGbGTERkZsZMRGRmxkxEbG4IWMwQsZ18LJGLyQmT3Z1sqJHZoavKyVIU/r4uBlrQx5erODl7Uy5An5qEtGbGTERkZsZMRGRmxkxEZGbGTERkZsZMRGRmxkxEbm4uBlrb7jv/mrTQ1e1sqQp+VauFu6GYMXMl4QyIiNjNjIiI2M2MiIjYzYyIiNjNjI/AWw8k7ivU/DZwAAAABJRU5ErkJggg==\"></img></td>\n",
       "      <td id=\"T_64d99_row8_col5\" class=\"data row8 col5\" >0<br>(0.0%)</td>\n",
       "    </tr>\n",
       "    <tr>\n",
       "      <td id=\"T_64d99_row9_col0\" class=\"data row9 col0\" >10</td>\n",
       "      <td id=\"T_64d99_row9_col1\" class=\"data row9 col1\" ><strong>5 star ratings</strong><br>[int64]</td>\n",
       "      <td id=\"T_64d99_row9_col2\" class=\"data row9 col2\" >Mean (sd) : 762231.5 (2538658.1)<br>min < med < max:<br>13975.0 < 296434.0 < 63546766.0<br>IQR (CV) : 492105.8 (0.3)</td>\n",
       "      <td id=\"T_64d99_row9_col3\" class=\"data row9 col3\" >1,697 distinct values</td>\n",
       "      <td id=\"T_64d99_row9_col4\" class=\"data row9 col4\" ><img src = \"data:image/png;base64, iVBORw0KGgoAAAANSUhEUgAAAKoAAABGCAYAAABc8A97AAAAOXRFWHRTb2Z0d2FyZQBNYXRwbG90bGliIHZlcnNpb24zLjcuMSwgaHR0cHM6Ly9tYXRwbG90bGliLm9yZy/bCgiHAAAACXBIWXMAAA9hAAAPYQGoP6dpAAABk0lEQVR4nO3XwWoaUQCF4XtrKnHRGURw6SP0AXyIPGy23fssbqSOlGojcrPLJqTGSUt74PvWcw8X5mfE2lor8L/79K8vAO9xd+2BWuuslDIduf/UWjuOPAsvfhtqrXW2WCweuq6bjxk/HA7fa62PYuWjrn1Rp13Xzdfr9bHv+9Mtw8Mw3G82m/lut5uWUoTKh1z96S+llL7vT8vl8ueI/dmIM/CKP1NEECoRhEoEoRJBqEQQKhGESgShEkGoRBAqEYRKBKESQahEECoRhEoEoRJBqEQQKhGESgShEkGoRBAqEYRKBKESQahEECoRhEoEoRJBqEQQKhGESgShEkGoRBAqEYRKBKESQahEECoRhEoEoRJBqEQQKhGESgShEkGoRBAqEYRKBKESQahEECoRhEoEoRJBqEQQKhGESgShEkGoRBAqEYRKBKESQahEECoR7v7m+OVy+VxK6WqtYyeeWmvHP3glQr0r1GEY7m8d3m63X87n89fVajWZTCan269Wyn6//1Fr/VZKGXWeKL9aa2++52fxYDzEnB/1ZAAAAABJRU5ErkJggg==\"></img></td>\n",
       "      <td id=\"T_64d99_row9_col5\" class=\"data row9 col5\" >0<br>(0.0%)</td>\n",
       "    </tr>\n",
       "    <tr>\n",
       "      <td id=\"T_64d99_row10_col0\" class=\"data row10 col0\" >11</td>\n",
       "      <td id=\"T_64d99_row10_col1\" class=\"data row10 col1\" ><strong>4 star ratings</strong><br>[int64]</td>\n",
       "      <td id=\"T_64d99_row10_col2\" class=\"data row10 col2\" >Mean (sd) : 116436.6 (302163.1)<br>min < med < max:<br>2451.0 < 50980.5 < 5404966.0<br>IQR (CV) : 81171.0 (0.4)</td>\n",
       "      <td id=\"T_64d99_row10_col3\" class=\"data row10 col3\" >1,692 distinct values</td>\n",
       "      <td id=\"T_64d99_row10_col4\" class=\"data row10 col4\" ><img src = \"data:image/png;base64, iVBORw0KGgoAAAANSUhEUgAAAKoAAABGCAYAAABc8A97AAAAOXRFWHRTb2Z0d2FyZQBNYXRwbG90bGliIHZlcnNpb24zLjcuMSwgaHR0cHM6Ly9tYXRwbG90bGliLm9yZy/bCgiHAAAACXBIWXMAAA9hAAAPYQGoP6dpAAABk0lEQVR4nO3XwWoaUQCF4XtrKnHRGURw6SP0AXyIPGy23fssbqSOlGojcrPLJqTGSUt74PvWcw8X5mfE2lor8L/79K8vAO9xd+2BWuuslDIduf/UWjuOPAsvfhtqrXW2WCweuq6bjxk/HA7fa62PYuWjrn1Rp13Xzdfr9bHv+9Mtw8Mw3G82m/lut5uWUoTKh1z96S+llL7vT8vl8ueI/dmIM/CKP1NEECoRhEoEoRJBqEQQKhGESgShEkGoRBAqEYRKBKESQahEECoRhEoEoRJBqEQQKhGESgShEkGoRBAqEYRKBKESQahEECoRhEoEoRJBqEQQKhGESgShEkGoRBAqEYRKBKESQahEECoRhEoEoRJBqEQQKhGESgShEkGoRBAqEYRKBKESQahEECoRhEoEoRJBqEQQKhGESgShEkGoRBAqEYRKBKESQahEECoR7v7m+OVy+VxK6WqtYyeeWmvHP3glQr0r1GEY7m8d3m63X87n89fVajWZTCan269Wyn6//1Fr/VZKGXWeKL9aa2++52fxYDzEnB/1ZAAAAABJRU5ErkJggg==\"></img></td>\n",
       "      <td id=\"T_64d99_row10_col5\" class=\"data row10 col5\" >0<br>(0.0%)</td>\n",
       "    </tr>\n",
       "    <tr>\n",
       "      <td id=\"T_64d99_row11_col0\" class=\"data row11 col0\" >12</td>\n",
       "      <td id=\"T_64d99_row11_col1\" class=\"data row11 col1\" ><strong>3 star ratings</strong><br>[int64]</td>\n",
       "      <td id=\"T_64d99_row11_col2\" class=\"data row11 col2\" >Mean (sd) : 57063.1 (149531.4)<br>min < med < max:<br>718.0 < 25078.0 < 3158756.0<br>IQR (CV) : 42642.5 (0.4)</td>\n",
       "      <td id=\"T_64d99_row11_col3\" class=\"data row11 col3\" >1,677 distinct values</td>\n",
       "      <td id=\"T_64d99_row11_col4\" class=\"data row11 col4\" ><img src = \"data:image/png;base64, iVBORw0KGgoAAAANSUhEUgAAAKoAAABGCAYAAABc8A97AAAAOXRFWHRTb2Z0d2FyZQBNYXRwbG90bGliIHZlcnNpb24zLjcuMSwgaHR0cHM6Ly9tYXRwbG90bGliLm9yZy/bCgiHAAAACXBIWXMAAA9hAAAPYQGoP6dpAAABk0lEQVR4nO3XwWoaUQCF4XtrKnHRGURw6SP0AXyIPGy23fssbqSOlGojcrPLJqTGSUt74PvWcw8X5mfE2lor8L/79K8vAO9xd+2BWuuslDIduf/UWjuOPAsvfhtqrXW2WCweuq6bjxk/HA7fa62PYuWjrn1Rp13Xzdfr9bHv+9Mtw8Mw3G82m/lut5uWUoTKh1z96S+llL7vT8vl8ueI/dmIM/CKP1NEECoRhEoEoRJBqEQQKhGESgShEkGoRBAqEYRKBKESQahEECoRhEoEoRJBqEQQKhGESgShEkGoRBAqEYRKBKESQahEECoRhEoEoRJBqEQQKhGESgShEkGoRBAqEYRKBKESQahEECoRhEoEoRJBqEQQKhGESgShEkGoRBAqEYRKBKESQahEECoRhEoEoRJBqEQQKhGESgShEkGoRBAqEYRKBKESQahEECoR7v7m+OVy+VxK6WqtYyeeWmvHP3glQr0r1GEY7m8d3m63X87n89fVajWZTCan269Wyn6//1Fr/VZKGXWeKL9aa2++52fxYDzEnB/1ZAAAAABJRU5ErkJggg==\"></img></td>\n",
       "      <td id=\"T_64d99_row11_col5\" class=\"data row11 col5\" >0<br>(0.0%)</td>\n",
       "    </tr>\n",
       "    <tr>\n",
       "      <td id=\"T_64d99_row12_col0\" class=\"data row12 col0\" >13</td>\n",
       "      <td id=\"T_64d99_row12_col1\" class=\"data row12 col1\" ><strong>2 star ratings</strong><br>[int64]</td>\n",
       "      <td id=\"T_64d99_row12_col2\" class=\"data row12 col2\" >Mean (sd) : 27103.4 (81545.4)<br>min < med < max:<br>266.0 < 10675.5 < 2122183.0<br>IQR (CV) : 18966.5 (0.3)</td>\n",
       "      <td id=\"T_64d99_row12_col3\" class=\"data row12 col3\" >1,653 distinct values</td>\n",
       "      <td id=\"T_64d99_row12_col4\" class=\"data row12 col4\" ><img src = \"data:image/png;base64, iVBORw0KGgoAAAANSUhEUgAAAKoAAABGCAYAAABc8A97AAAAOXRFWHRTb2Z0d2FyZQBNYXRwbG90bGliIHZlcnNpb24zLjcuMSwgaHR0cHM6Ly9tYXRwbG90bGliLm9yZy/bCgiHAAAACXBIWXMAAA9hAAAPYQGoP6dpAAABk0lEQVR4nO3XwWoaUQCF4XtrKnHRGURw6SP0AXyIPGy23fssbqSOlGojcrPLJqTGSUt74PvWcw8X5mfE2lor8L/79K8vAO9xd+2BWuuslDIduf/UWjuOPAsvfhtqrXW2WCweuq6bjxk/HA7fa62PYuWjrn1Rp13Xzdfr9bHv+9Mtw8Mw3G82m/lut5uWUoTKh1z96S+llL7vT8vl8ueI/dmIM/CKP1NEECoRhEoEoRJBqEQQKhGESgShEkGoRBAqEYRKBKESQahEECoRhEoEoRJBqEQQKhGESgShEkGoRBAqEYRKBKESQahEECoRhEoEoRJBqEQQKhGESgShEkGoRBAqEYRKBKESQahEECoRhEoEoRJBqEQQKhGESgShEkGoRBAqEYRKBKESQahEECoRhEoEoRJBqEQQKhGESgShEkGoRBAqEYRKBKESQahEECoR7v7m+OVy+VxK6WqtYyeeWmvHP3glQr0r1GEY7m8d3m63X87n89fVajWZTCan269Wyn6//1Fr/VZKGXWeKL9aa2++52fxYDzEnB/1ZAAAAABJRU5ErkJggg==\"></img></td>\n",
       "      <td id=\"T_64d99_row12_col5\" class=\"data row12 col5\" >0<br>(0.0%)</td>\n",
       "    </tr>\n",
       "    <tr>\n",
       "      <td id=\"T_64d99_row13_col0\" class=\"data row13 col0\" >14</td>\n",
       "      <td id=\"T_64d99_row13_col1\" class=\"data row13 col1\" ><strong>1 star ratings</strong><br>[int64]</td>\n",
       "      <td id=\"T_64d99_row13_col2\" class=\"data row13 col2\" >Mean (sd) : 101495.0 (408374.5)<br>min < med < max:<br>545.0 < 33686.0 < 12495915.0<br>IQR (CV) : 67345.2 (0.2)</td>\n",
       "      <td id=\"T_64d99_row13_col3\" class=\"data row13 col3\" >1,686 distinct values</td>\n",
       "      <td id=\"T_64d99_row13_col4\" class=\"data row13 col4\" ><img src = \"data:image/png;base64, iVBORw0KGgoAAAANSUhEUgAAAKoAAABGCAYAAABc8A97AAAAOXRFWHRTb2Z0d2FyZQBNYXRwbG90bGliIHZlcnNpb24zLjcuMSwgaHR0cHM6Ly9tYXRwbG90bGliLm9yZy/bCgiHAAAACXBIWXMAAA9hAAAPYQGoP6dpAAABaUlEQVR4nO3XT2oCMRiH4aSI6GYGETyMh+hhewhvIyUuqi1Iuuum1D/jov3R59km+cjiZYbU3nuBv+7pty8At5hd21BrXZZS5hPnf/TejxPPwpeLodZal+v1+nkYhtWU4YfD4bXW+iJWHnXtizofhmG13W6P4zie7hncWlvsdrvVfr+fl1KEykOu/vpLKWUcx9Nms3mbMH854Qx84zFFBKESQahEECoRhEoEoRJBqEQQKhGESgShEkGoRBAqEYRKBKESQahEECoRhEoEoRJBqEQQKhGESgShEkGoRBAqEYRKBKESQahEECoRhEoEoRJBqEQQKhGESgShEkGoRBAqEYRKBKESQahEECoRhEoEoRJBqEQQKhGESgShEkGoRBAqEYRKBKESQahEECoRhEoEoRJBqEQQKhGESgShEkGoRBAqEYRKBKESQahEmN2yqbW2uHdwa21xPp9npZSh1nr3xfh33nvvp58WPwF79y3yrjldnwAAAABJRU5ErkJggg==\"></img></td>\n",
       "      <td id=\"T_64d99_row13_col5\" class=\"data row13 col5\" >0<br>(0.0%)</td>\n",
       "    </tr>\n",
       "    <tr>\n",
       "      <td id=\"T_64d99_row14_col0\" class=\"data row14 col0\" >15</td>\n",
       "      <td id=\"T_64d99_row14_col1\" class=\"data row14 col1\" ><strong>paid</strong><br>[bool]</td>\n",
       "      <td id=\"T_64d99_row14_col2\" class=\"data row14 col2\" >1. False<br>2. True</td>\n",
       "      <td id=\"T_64d99_row14_col3\" class=\"data row14 col3\" >1,723 (99.6%)<br>7 (0.4%)</td>\n",
       "      <td id=\"T_64d99_row14_col4\" class=\"data row14 col4\" ><img src = \"data:image/png;base64, iVBORw0KGgoAAAANSUhEUgAAAJsAAAAuCAYAAAA/ZmtKAAAAOXRFWHRTb2Z0d2FyZQBNYXRwbG90bGliIHZlcnNpb24zLjcuMSwgaHR0cHM6Ly9tYXRwbG90bGliLm9yZy/bCgiHAAAACXBIWXMAAA9hAAAPYQGoP6dpAAABG0lEQVR4nO3bMY6DMBRF0e/IiiaNLfQlFsMi0s4+ZxFsB/GLJKLxFJMsgWfJc09F+YorBAin1poBCsnMbmZ27T0Ewzuyu99LKVPvJRhbRGy5lDIty/Kstb56D8KY9n3/Wtd1ymZmtdbXPM+P3qMwtNul9wL8H8QGGWKDDLFBhtggQ2yQITbIEBtkiA0yxAYZYoMMsUGG2CBDbJAhNshks7+f23oPwbg+fSV3/+a3cJwtIjYOvEDlSBzlg8rnzmattWfnLRhcdve7mVlK6YfgcKZLKWV6vyDw3IZT8Z0NMsQGGWKDDLFBhtggQ2yQITbIEBtkiA0yxAYZYoMMsUGG2CBDbJAhNsgQG2SIDTI5Irb39dF1CYbHgRfI/ALJFjRJDx7WYQAAAABJRU5ErkJggg==\"></img></td>\n",
       "      <td id=\"T_64d99_row14_col5\" class=\"data row14 col5\" >0<br>(0.0%)</td>\n",
       "    </tr>\n",
       "  </tbody>\n",
       "</table>\n"
      ],
      "text/plain": [
       "<pandas.io.formats.style.Styler at 0x21c400e6ce0>"
      ]
     },
     "execution_count": 9,
     "metadata": {},
     "output_type": "execute_result"
    }
   ],
   "source": [
    "dfSummary(df)"
   ]
  },
  {
   "cell_type": "markdown",
   "id": "2b689d58",
   "metadata": {},
   "source": [
    "## dataprep --user"
   ]
  },
  {
   "cell_type": "code",
   "execution_count": 10,
   "id": "5091844b",
   "metadata": {},
   "outputs": [],
   "source": [
    "#!pip install dataprep --user"
   ]
  },
  {
   "cell_type": "code",
   "execution_count": 11,
   "id": "a15c3f75",
   "metadata": {},
   "outputs": [],
   "source": [
    "import warnings\n",
    "warnings.filterwarnings(\"ignore\")\n",
    "from dataprep.datasets import load_dataset\n",
    "from dataprep.eda import create_report"
   ]
  },
  {
   "cell_type": "code",
   "execution_count": 12,
   "id": "527456fa",
   "metadata": {
    "scrolled": true
   },
   "outputs": [],
   "source": [
    "create_report(df).show_browser()"
   ]
  },
  {
   "cell_type": "markdown",
   "id": "d40dcd65",
   "metadata": {},
   "source": [
    "## <p style=\"background-color:yellow; font-family:newtimeroman; color:blue; font-size:150%; text-align:center; border-radius:10px 10px;\">Review and Redesign of Columns</p> "
   ]
  },
  {
   "cell_type": "markdown",
   "id": "1c3a9280",
   "metadata": {},
   "source": [
    "## Firstly renaming to columns"
   ]
  },
  {
   "cell_type": "code",
   "execution_count": 10,
   "id": "322216fb",
   "metadata": {
    "scrolled": true
   },
   "outputs": [
    {
     "data": {
      "text/html": [
       "<pre style=\"white-space:pre;overflow-x:auto;line-height:normal;font-family:Menlo,'DejaVu Sans Mono',consolas,'Courier New',monospace\"><span style=\"color: #008080; text-decoration-color: #008080; font-weight: bold\">9</span> column names have been cleaned\n",
       "</pre>\n"
      ],
      "text/plain": [
       "\u001b[1;36m9\u001b[0m column names have been cleaned\n"
      ]
     },
     "metadata": {},
     "output_type": "display_data"
    },
    {
     "data": {
      "text/html": [
       "<div>\n",
       "<style scoped>\n",
       "    .dataframe tbody tr th:only-of-type {\n",
       "        vertical-align: middle;\n",
       "    }\n",
       "\n",
       "    .dataframe tbody tr th {\n",
       "        vertical-align: top;\n",
       "    }\n",
       "\n",
       "    .dataframe thead th {\n",
       "        text-align: right;\n",
       "    }\n",
       "</style>\n",
       "<table border=\"1\" class=\"dataframe\">\n",
       "  <thead>\n",
       "    <tr style=\"text-align: right;\">\n",
       "      <th></th>\n",
       "      <th>rank</th>\n",
       "      <th>title</th>\n",
       "      <th>total_ratings</th>\n",
       "      <th>installs</th>\n",
       "      <th>average_rating</th>\n",
       "      <th>growth_30_days</th>\n",
       "      <th>growth_60_days</th>\n",
       "      <th>price</th>\n",
       "      <th>category</th>\n",
       "      <th>5_star_ratings</th>\n",
       "      <th>4_star_ratings</th>\n",
       "      <th>3_star_ratings</th>\n",
       "      <th>2_star_ratings</th>\n",
       "      <th>1_star_ratings</th>\n",
       "      <th>paid</th>\n",
       "    </tr>\n",
       "  </thead>\n",
       "  <tbody>\n",
       "    <tr>\n",
       "      <th>0</th>\n",
       "      <td>1</td>\n",
       "      <td>Garena Free Fire- World Series</td>\n",
       "      <td>86273129</td>\n",
       "      <td>500.0 M</td>\n",
       "      <td>4</td>\n",
       "      <td>2.1</td>\n",
       "      <td>6.9</td>\n",
       "      <td>0.0</td>\n",
       "      <td>GAME ACTION</td>\n",
       "      <td>63546766</td>\n",
       "      <td>4949507</td>\n",
       "      <td>3158756</td>\n",
       "      <td>2122183</td>\n",
       "      <td>12495915</td>\n",
       "      <td>False</td>\n",
       "    </tr>\n",
       "    <tr>\n",
       "      <th>1</th>\n",
       "      <td>2</td>\n",
       "      <td>PUBG MOBILE - Traverse</td>\n",
       "      <td>37276732</td>\n",
       "      <td>500.0 M</td>\n",
       "      <td>4</td>\n",
       "      <td>1.8</td>\n",
       "      <td>3.6</td>\n",
       "      <td>0.0</td>\n",
       "      <td>GAME ACTION</td>\n",
       "      <td>28339753</td>\n",
       "      <td>2164478</td>\n",
       "      <td>1253185</td>\n",
       "      <td>809821</td>\n",
       "      <td>4709492</td>\n",
       "      <td>False</td>\n",
       "    </tr>\n",
       "    <tr>\n",
       "      <th>2</th>\n",
       "      <td>3</td>\n",
       "      <td>Mobile Legends: Bang Bang</td>\n",
       "      <td>26663595</td>\n",
       "      <td>100.0 M</td>\n",
       "      <td>4</td>\n",
       "      <td>1.5</td>\n",
       "      <td>3.2</td>\n",
       "      <td>0.0</td>\n",
       "      <td>GAME ACTION</td>\n",
       "      <td>18777988</td>\n",
       "      <td>1812094</td>\n",
       "      <td>1050600</td>\n",
       "      <td>713912</td>\n",
       "      <td>4308998</td>\n",
       "      <td>False</td>\n",
       "    </tr>\n",
       "    <tr>\n",
       "      <th>3</th>\n",
       "      <td>4</td>\n",
       "      <td>Brawl Stars</td>\n",
       "      <td>17971552</td>\n",
       "      <td>100.0 M</td>\n",
       "      <td>4</td>\n",
       "      <td>1.4</td>\n",
       "      <td>4.4</td>\n",
       "      <td>0.0</td>\n",
       "      <td>GAME ACTION</td>\n",
       "      <td>13018610</td>\n",
       "      <td>1552950</td>\n",
       "      <td>774012</td>\n",
       "      <td>406184</td>\n",
       "      <td>2219794</td>\n",
       "      <td>False</td>\n",
       "    </tr>\n",
       "    <tr>\n",
       "      <th>4</th>\n",
       "      <td>5</td>\n",
       "      <td>Sniper 3D: Fun Free Online FPS Shooting Game</td>\n",
       "      <td>14464235</td>\n",
       "      <td>500.0 M</td>\n",
       "      <td>4</td>\n",
       "      <td>0.8</td>\n",
       "      <td>1.5</td>\n",
       "      <td>0.0</td>\n",
       "      <td>GAME ACTION</td>\n",
       "      <td>9827328</td>\n",
       "      <td>2124154</td>\n",
       "      <td>1047741</td>\n",
       "      <td>380670</td>\n",
       "      <td>1084340</td>\n",
       "      <td>False</td>\n",
       "    </tr>\n",
       "  </tbody>\n",
       "</table>\n",
       "</div>"
      ],
      "text/plain": [
       "   rank                                         title  total_ratings installs  \\\n",
       "0     1                Garena Free Fire- World Series       86273129  500.0 M   \n",
       "1     2                        PUBG MOBILE - Traverse       37276732  500.0 M   \n",
       "2     3                     Mobile Legends: Bang Bang       26663595  100.0 M   \n",
       "3     4                                   Brawl Stars       17971552  100.0 M   \n",
       "4     5  Sniper 3D: Fun Free Online FPS Shooting Game       14464235  500.0 M   \n",
       "\n",
       "   average_rating  growth_30_days  growth_60_days  price     category  \\\n",
       "0               4             2.1             6.9    0.0  GAME ACTION   \n",
       "1               4             1.8             3.6    0.0  GAME ACTION   \n",
       "2               4             1.5             3.2    0.0  GAME ACTION   \n",
       "3               4             1.4             4.4    0.0  GAME ACTION   \n",
       "4               4             0.8             1.5    0.0  GAME ACTION   \n",
       "\n",
       "   5_star_ratings  4_star_ratings  3_star_ratings  2_star_ratings  \\\n",
       "0        63546766         4949507         3158756         2122183   \n",
       "1        28339753         2164478         1253185          809821   \n",
       "2        18777988         1812094         1050600          713912   \n",
       "3        13018610         1552950          774012          406184   \n",
       "4         9827328         2124154         1047741          380670   \n",
       "\n",
       "   1_star_ratings   paid  \n",
       "0        12495915  False  \n",
       "1         4709492  False  \n",
       "2         4308998  False  \n",
       "3         2219794  False  \n",
       "4         1084340  False  "
      ]
     },
     "execution_count": 10,
     "metadata": {},
     "output_type": "execute_result"
    }
   ],
   "source": [
    "df = clean_columns(df)\n",
    "df.head()"
   ]
  },
  {
   "cell_type": "markdown",
   "id": "1bb37193",
   "metadata": {},
   "source": [
    "## installs"
   ]
  },
  {
   "cell_type": "markdown",
   "id": "944d13db",
   "metadata": {},
   "source": [
    "* Values have been converted to millions type for ease of understanding and use"
   ]
  },
  {
   "cell_type": "code",
   "execution_count": 11,
   "id": "69d23cb8",
   "metadata": {
    "scrolled": false
   },
   "outputs": [
    {
     "data": {
      "text/plain": [
       "10.0 M      805\n",
       "50.0 M      252\n",
       "5.0 M       245\n",
       "100.0 M     204\n",
       "1.0 M       192\n",
       "500.0 k      15\n",
       "500.0 M      12\n",
       "100.0 k       3\n",
       "1000.0 M      2\n",
       "Name: installs, dtype: int64"
      ]
     },
     "execution_count": 11,
     "metadata": {},
     "output_type": "execute_result"
    }
   ],
   "source": [
    "df['installs'].value_counts(dropna=False)"
   ]
  },
  {
   "cell_type": "code",
   "execution_count": 12,
   "id": "c20dd420",
   "metadata": {},
   "outputs": [],
   "source": [
    "df.installs = df.installs.apply(lambda x: 0.5 if x == \"500.0 k\" else 0.1 if x == \"100.0 k\" else x.replace(\"M\", \"\"))"
   ]
  },
  {
   "cell_type": "code",
   "execution_count": 13,
   "id": "92a77a9f",
   "metadata": {},
   "outputs": [],
   "source": [
    "df.installs = df.installs.astype(\"float\")"
   ]
  },
  {
   "cell_type": "code",
   "execution_count": 14,
   "id": "148d618d",
   "metadata": {},
   "outputs": [
    {
     "data": {
      "text/plain": [
       "0       500.0\n",
       "1       500.0\n",
       "2       100.0\n",
       "3       100.0\n",
       "4       500.0\n",
       "        ...  \n",
       "1725      1.0\n",
       "1726      1.0\n",
       "1727     10.0\n",
       "1728      5.0\n",
       "1729     10.0\n",
       "Name: installs, Length: 1730, dtype: float64"
      ]
     },
     "execution_count": 14,
     "metadata": {},
     "output_type": "execute_result"
    }
   ],
   "source": [
    "df.installs"
   ]
  },
  {
   "cell_type": "markdown",
   "id": "b7d6b3e5",
   "metadata": {},
   "source": [
    "## average_rating"
   ]
  },
  {
   "cell_type": "markdown",
   "id": "9f35a19b",
   "metadata": {},
   "source": [
    "* Checked the average rating and got a strange result\n",
    "* Recalculated which game had an average rating of 2 and caught an mistake\n",
    "* And than recalculated all games average rating"
   ]
  },
  {
   "cell_type": "code",
   "execution_count": 15,
   "id": "fb09563e",
   "metadata": {},
   "outputs": [
    {
     "data": {
      "text/plain": [
       "4    1572\n",
       "3     157\n",
       "2       1\n",
       "Name: average_rating, dtype: int64"
      ]
     },
     "execution_count": 15,
     "metadata": {},
     "output_type": "execute_result"
    }
   ],
   "source": [
    "df['average_rating'].value_counts(dropna=False)"
   ]
  },
  {
   "cell_type": "code",
   "execution_count": 16,
   "id": "f340e4de",
   "metadata": {},
   "outputs": [
    {
     "data": {
      "text/html": [
       "<div>\n",
       "<style scoped>\n",
       "    .dataframe tbody tr th:only-of-type {\n",
       "        vertical-align: middle;\n",
       "    }\n",
       "\n",
       "    .dataframe tbody tr th {\n",
       "        vertical-align: top;\n",
       "    }\n",
       "\n",
       "    .dataframe thead th {\n",
       "        text-align: right;\n",
       "    }\n",
       "</style>\n",
       "<table border=\"1\" class=\"dataframe\">\n",
       "  <thead>\n",
       "    <tr style=\"text-align: right;\">\n",
       "      <th></th>\n",
       "      <th>rank</th>\n",
       "      <th>title</th>\n",
       "      <th>total_ratings</th>\n",
       "      <th>installs</th>\n",
       "      <th>average_rating</th>\n",
       "      <th>growth_30_days</th>\n",
       "      <th>growth_60_days</th>\n",
       "      <th>price</th>\n",
       "      <th>category</th>\n",
       "      <th>5_star_ratings</th>\n",
       "      <th>4_star_ratings</th>\n",
       "      <th>3_star_ratings</th>\n",
       "      <th>2_star_ratings</th>\n",
       "      <th>1_star_ratings</th>\n",
       "      <th>paid</th>\n",
       "    </tr>\n",
       "  </thead>\n",
       "  <tbody>\n",
       "    <tr>\n",
       "      <th>1425</th>\n",
       "      <td>100</td>\n",
       "      <td>Futsal Football 2</td>\n",
       "      <td>243214</td>\n",
       "      <td>10.0</td>\n",
       "      <td>2</td>\n",
       "      <td>0.0</td>\n",
       "      <td>0.0</td>\n",
       "      <td>0.0</td>\n",
       "      <td>GAME SPORTS</td>\n",
       "      <td>84461</td>\n",
       "      <td>12107</td>\n",
       "      <td>13275</td>\n",
       "      <td>8344</td>\n",
       "      <td>125025</td>\n",
       "      <td>False</td>\n",
       "    </tr>\n",
       "  </tbody>\n",
       "</table>\n",
       "</div>"
      ],
      "text/plain": [
       "      rank              title  total_ratings  installs  average_rating  \\\n",
       "1425   100  Futsal Football 2         243214      10.0               2   \n",
       "\n",
       "      growth_30_days  growth_60_days  price     category  5_star_ratings  \\\n",
       "1425             0.0             0.0    0.0  GAME SPORTS           84461   \n",
       "\n",
       "      4_star_ratings  3_star_ratings  2_star_ratings  1_star_ratings   paid  \n",
       "1425           12107           13275            8344          125025  False  "
      ]
     },
     "execution_count": 16,
     "metadata": {},
     "output_type": "execute_result"
    }
   ],
   "source": [
    "df[df['average_rating']==2]"
   ]
  },
  {
   "cell_type": "code",
   "execution_count": 17,
   "id": "e2a498c7",
   "metadata": {},
   "outputs": [
    {
     "data": {
      "text/plain": [
       "2.6819030311004393"
      ]
     },
     "execution_count": 17,
     "metadata": {},
     "output_type": "execute_result"
    }
   ],
   "source": [
    "((5*84461)+(12107*4)+(13275*3)+(8344*2)+(125025))/(84461+12107+13275+8344+125025)"
   ]
  },
  {
   "cell_type": "code",
   "execution_count": 18,
   "id": "659c8358",
   "metadata": {},
   "outputs": [],
   "source": [
    "def calculate_average_rating(df):\n",
    "    df['average_rating'] = ((df['5_star_ratings'] * 5) + (df['4_star_ratings'] * 4) + \\\n",
    "                         (df['3_star_ratings'] * 3) + (df['2_star_ratings'] * 2) + df['1_star_ratings']) \\\n",
    "                         / (df['5_star_ratings'] + df['4_star_ratings'] + \\\n",
    "                         df['3_star_ratings'] + df['2_star_ratings'] + df['1_star_ratings'])\n",
    "    df['average_rating'] = df['average_rating'].round().astype(int)\n",
    "    \n",
    "    return df"
   ]
  },
  {
   "cell_type": "code",
   "execution_count": 19,
   "id": "a7df6ab4",
   "metadata": {},
   "outputs": [],
   "source": [
    "df = calculate_average_rating(df)"
   ]
  },
  {
   "cell_type": "code",
   "execution_count": 20,
   "id": "1b0a3a15",
   "metadata": {},
   "outputs": [
    {
     "data": {
      "text/plain": [
       "4    1292\n",
       "5     425\n",
       "3      13\n",
       "Name: average_rating, dtype: int64"
      ]
     },
     "execution_count": 20,
     "metadata": {},
     "output_type": "execute_result"
    }
   ],
   "source": [
    "df['average_rating'].value_counts(dropna=False)"
   ]
  },
  {
   "cell_type": "code",
   "execution_count": 21,
   "id": "391985ce",
   "metadata": {},
   "outputs": [
    {
     "data": {
      "text/plain": [
       "4    0.746821\n",
       "5    0.245665\n",
       "3    0.007514\n",
       "Name: average_rating, dtype: float64"
      ]
     },
     "execution_count": 21,
     "metadata": {},
     "output_type": "execute_result"
    }
   ],
   "source": [
    "df['average_rating'].value_counts(dropna=False, normalize=True)"
   ]
  },
  {
   "cell_type": "markdown",
   "id": "d520595a",
   "metadata": {},
   "source": [
    "## growth_30_days and growth_60_days"
   ]
  },
  {
   "cell_type": "code",
   "execution_count": 22,
   "id": "0edcf859",
   "metadata": {
    "scrolled": true
   },
   "outputs": [
    {
     "data": {
      "text/plain": [
       "0.0         269\n",
       "0.1         234\n",
       "0.2         137\n",
       "0.3         114\n",
       "0.4          87\n",
       "           ... \n",
       "54.5          1\n",
       "6.1           1\n",
       "225.1         1\n",
       "227105.7      1\n",
       "15.1          1\n",
       "Name: growth_30_days, Length: 186, dtype: int64"
      ]
     },
     "execution_count": 22,
     "metadata": {},
     "output_type": "execute_result"
    }
   ],
   "source": [
    "df['growth_30_days'].value_counts(dropna=False)"
   ]
  },
  {
   "cell_type": "code",
   "execution_count": 23,
   "id": "799d175a",
   "metadata": {
    "scrolled": true
   },
   "outputs": [
    {
     "data": {
      "text/plain": [
       "546     227105.7\n",
       "1537     69928.5\n",
       "463      55880.6\n",
       "426      37994.4\n",
       "1590     28062.9\n",
       "          ...   \n",
       "1484         0.0\n",
       "1482         0.0\n",
       "944          0.0\n",
       "954          0.0\n",
       "372          0.0\n",
       "Name: growth_30_days, Length: 1730, dtype: float64"
      ]
     },
     "execution_count": 23,
     "metadata": {},
     "output_type": "execute_result"
    }
   ],
   "source": [
    "df['growth_30_days'].sort_values(ascending=False)"
   ]
  },
  {
   "cell_type": "code",
   "execution_count": 24,
   "id": "2edf2176",
   "metadata": {},
   "outputs": [
    {
     "data": {
      "text/plain": [
       "0.0       180\n",
       "0.1       166\n",
       "0.2       104\n",
       "0.3        89\n",
       "0.5        66\n",
       "         ... \n",
       "11.8        1\n",
       "19.3        1\n",
       "12.9        1\n",
       "9.7         1\n",
       "5556.2      1\n",
       "Name: growth_60_days, Length: 206, dtype: int64"
      ]
     },
     "execution_count": 24,
     "metadata": {},
     "output_type": "execute_result"
    }
   ],
   "source": [
    "df['growth_60_days'].value_counts(dropna=False)"
   ]
  },
  {
   "cell_type": "code",
   "execution_count": 25,
   "id": "cadd5f8a",
   "metadata": {},
   "outputs": [
    {
     "data": {
      "text/plain": [
       "454     69441.4\n",
       "364     42875.2\n",
       "1440    41869.7\n",
       "374     15483.9\n",
       "24       7584.9\n",
       "         ...   \n",
       "439         0.0\n",
       "876         0.0\n",
       "880         0.0\n",
       "1602        0.0\n",
       "596         0.0\n",
       "Name: growth_60_days, Length: 1730, dtype: float64"
      ]
     },
     "execution_count": 25,
     "metadata": {},
     "output_type": "execute_result"
    }
   ],
   "source": [
    "df['growth_60_days'].sort_values(ascending=False)"
   ]
  },
  {
   "cell_type": "markdown",
   "id": "6a61f7fb",
   "metadata": {},
   "source": [
    "## category"
   ]
  },
  {
   "cell_type": "code",
   "execution_count": 26,
   "id": "cd8945b6",
   "metadata": {},
   "outputs": [
    {
     "data": {
      "text/plain": [
       "GAME CARD            126\n",
       "GAME WORD            104\n",
       "GAME PUZZLE          100\n",
       "GAME TRIVIA          100\n",
       "GAME STRATEGY        100\n",
       "GAME SPORTS          100\n",
       "GAME SIMULATION      100\n",
       "GAME ROLE PLAYING    100\n",
       "GAME RACING          100\n",
       "GAME ACTION          100\n",
       "GAME ADVENTURE       100\n",
       "GAME EDUCATIONAL     100\n",
       "GAME CASUAL          100\n",
       "GAME CASINO          100\n",
       "GAME BOARD           100\n",
       "GAME ARCADE          100\n",
       "GAME MUSIC           100\n",
       "Name: category, dtype: int64"
      ]
     },
     "execution_count": 26,
     "metadata": {},
     "output_type": "execute_result"
    }
   ],
   "source": [
    "df['category'].value_counts()"
   ]
  },
  {
   "cell_type": "markdown",
   "id": "9a45ed87",
   "metadata": {},
   "source": [
    "## price"
   ]
  },
  {
   "cell_type": "code",
   "execution_count": 27,
   "id": "d0e68a3d",
   "metadata": {},
   "outputs": [
    {
     "data": {
      "text/plain": [
       "0.00    1723\n",
       "1.99       3\n",
       "7.49       1\n",
       "2.99       1\n",
       "1.49       1\n",
       "0.99       1\n",
       "Name: price, dtype: int64"
      ]
     },
     "execution_count": 27,
     "metadata": {},
     "output_type": "execute_result"
    }
   ],
   "source": [
    "df['price'].value_counts()"
   ]
  },
  {
   "cell_type": "markdown",
   "id": "2e72097c",
   "metadata": {},
   "source": [
    "## paid"
   ]
  },
  {
   "cell_type": "code",
   "execution_count": 28,
   "id": "d5620083",
   "metadata": {},
   "outputs": [
    {
     "data": {
      "text/plain": [
       "False    1723\n",
       "True        7\n",
       "Name: paid, dtype: int64"
      ]
     },
     "execution_count": 28,
     "metadata": {},
     "output_type": "execute_result"
    }
   ],
   "source": [
    "df['paid'].value_counts()"
   ]
  },
  {
   "cell_type": "markdown",
   "id": "190a0e29",
   "metadata": {},
   "source": [
    "## <p style=\"background-color:yellow; font-family:newtimeroman; color:blue; font-size:150%; text-align:center; border-radius:10px 10px;\">Analysing columns</p> "
   ]
  },
  {
   "cell_type": "markdown",
   "id": "c13480fa",
   "metadata": {},
   "source": [
    "* First of all, let's check the correlation between 'installs', 'average rating', 'total ratings'"
   ]
  },
  {
   "cell_type": "code",
   "execution_count": 29,
   "id": "1b1d0bb7",
   "metadata": {},
   "outputs": [],
   "source": [
    "selected_columns = ['installs', 'average_rating', 'total_ratings']\n",
    "selected_df = df[selected_columns]"
   ]
  },
  {
   "cell_type": "code",
   "execution_count": 30,
   "id": "c9b5564f",
   "metadata": {},
   "outputs": [
    {
     "data": {
      "text/html": [
       "<div>\n",
       "<style scoped>\n",
       "    .dataframe tbody tr th:only-of-type {\n",
       "        vertical-align: middle;\n",
       "    }\n",
       "\n",
       "    .dataframe tbody tr th {\n",
       "        vertical-align: top;\n",
       "    }\n",
       "\n",
       "    .dataframe thead th {\n",
       "        text-align: right;\n",
       "    }\n",
       "</style>\n",
       "<table border=\"1\" class=\"dataframe\">\n",
       "  <thead>\n",
       "    <tr style=\"text-align: right;\">\n",
       "      <th></th>\n",
       "      <th>installs</th>\n",
       "      <th>average_rating</th>\n",
       "      <th>total_ratings</th>\n",
       "    </tr>\n",
       "  </thead>\n",
       "  <tbody>\n",
       "    <tr>\n",
       "      <th>installs</th>\n",
       "      <td>1.000000</td>\n",
       "      <td>-0.104506</td>\n",
       "      <td>0.676523</td>\n",
       "    </tr>\n",
       "    <tr>\n",
       "      <th>average_rating</th>\n",
       "      <td>-0.104506</td>\n",
       "      <td>1.000000</td>\n",
       "      <td>-0.048346</td>\n",
       "    </tr>\n",
       "    <tr>\n",
       "      <th>total_ratings</th>\n",
       "      <td>0.676523</td>\n",
       "      <td>-0.048346</td>\n",
       "      <td>1.000000</td>\n",
       "    </tr>\n",
       "  </tbody>\n",
       "</table>\n",
       "</div>"
      ],
      "text/plain": [
       "                installs  average_rating  total_ratings\n",
       "installs        1.000000       -0.104506       0.676523\n",
       "average_rating -0.104506        1.000000      -0.048346\n",
       "total_ratings   0.676523       -0.048346       1.000000"
      ]
     },
     "execution_count": 30,
     "metadata": {},
     "output_type": "execute_result"
    }
   ],
   "source": [
    "selected_df.corr()"
   ]
  },
  {
   "cell_type": "markdown",
   "id": "bbf83185",
   "metadata": {},
   "source": [
    "## installs"
   ]
  },
  {
   "cell_type": "code",
   "execution_count": 31,
   "id": "2ab4a211",
   "metadata": {},
   "outputs": [
    {
     "data": {
      "text/plain": [
       "10.0      805\n",
       "50.0      252\n",
       "5.0       245\n",
       "100.0     204\n",
       "1.0       192\n",
       "0.5        15\n",
       "500.0      12\n",
       "0.1         3\n",
       "1000.0      2\n",
       "Name: installs, dtype: int64"
      ]
     },
     "execution_count": 31,
     "metadata": {},
     "output_type": "execute_result"
    }
   ],
   "source": [
    "df.installs.value_counts()"
   ]
  },
  {
   "cell_type": "markdown",
   "id": "12c36f97",
   "metadata": {},
   "source": [
    "* I have analysed which games have more than 100 thousand installs and is there any correlation with other columns\n",
    "* There are 3 games and one of them is paid"
   ]
  },
  {
   "cell_type": "code",
   "execution_count": 32,
   "id": "fa09a1d8",
   "metadata": {
    "scrolled": false
   },
   "outputs": [
    {
     "data": {
      "text/html": [
       "<div>\n",
       "<style scoped>\n",
       "    .dataframe tbody tr th:only-of-type {\n",
       "        vertical-align: middle;\n",
       "    }\n",
       "\n",
       "    .dataframe tbody tr th {\n",
       "        vertical-align: top;\n",
       "    }\n",
       "\n",
       "    .dataframe thead th {\n",
       "        text-align: right;\n",
       "    }\n",
       "</style>\n",
       "<table border=\"1\" class=\"dataframe\">\n",
       "  <thead>\n",
       "    <tr style=\"text-align: right;\">\n",
       "      <th></th>\n",
       "      <th>rank</th>\n",
       "      <th>title</th>\n",
       "      <th>total_ratings</th>\n",
       "      <th>installs</th>\n",
       "      <th>average_rating</th>\n",
       "      <th>growth_30_days</th>\n",
       "      <th>growth_60_days</th>\n",
       "      <th>price</th>\n",
       "      <th>category</th>\n",
       "      <th>5_star_ratings</th>\n",
       "      <th>4_star_ratings</th>\n",
       "      <th>3_star_ratings</th>\n",
       "      <th>2_star_ratings</th>\n",
       "      <th>1_star_ratings</th>\n",
       "      <th>paid</th>\n",
       "    </tr>\n",
       "  </thead>\n",
       "  <tbody>\n",
       "    <tr>\n",
       "      <th>885</th>\n",
       "      <td>60</td>\n",
       "      <td>Beat Bop: Pop Star Clicker</td>\n",
       "      <td>69242</td>\n",
       "      <td>0.1</td>\n",
       "      <td>5</td>\n",
       "      <td>0.1</td>\n",
       "      <td>0.1</td>\n",
       "      <td>0.00</td>\n",
       "      <td>GAME MUSIC</td>\n",
       "      <td>51096</td>\n",
       "      <td>9117</td>\n",
       "      <td>5438</td>\n",
       "      <td>1059</td>\n",
       "      <td>2529</td>\n",
       "      <td>False</td>\n",
       "    </tr>\n",
       "    <tr>\n",
       "      <th>923</th>\n",
       "      <td>98</td>\n",
       "      <td>Muse Dash</td>\n",
       "      <td>34140</td>\n",
       "      <td>0.1</td>\n",
       "      <td>5</td>\n",
       "      <td>768.5</td>\n",
       "      <td>6.7</td>\n",
       "      <td>1.49</td>\n",
       "      <td>GAME MUSIC</td>\n",
       "      <td>29210</td>\n",
       "      <td>2774</td>\n",
       "      <td>718</td>\n",
       "      <td>429</td>\n",
       "      <td>1007</td>\n",
       "      <td>True</td>\n",
       "    </tr>\n",
       "    <tr>\n",
       "      <th>1602</th>\n",
       "      <td>77</td>\n",
       "      <td>فكر ـ Think</td>\n",
       "      <td>56774</td>\n",
       "      <td>0.1</td>\n",
       "      <td>5</td>\n",
       "      <td>0.0</td>\n",
       "      <td>0.0</td>\n",
       "      <td>0.00</td>\n",
       "      <td>GAME TRIVIA</td>\n",
       "      <td>50520</td>\n",
       "      <td>2542</td>\n",
       "      <td>1988</td>\n",
       "      <td>445</td>\n",
       "      <td>1276</td>\n",
       "      <td>False</td>\n",
       "    </tr>\n",
       "  </tbody>\n",
       "</table>\n",
       "</div>"
      ],
      "text/plain": [
       "      rank                       title  total_ratings  installs  \\\n",
       "885     60  Beat Bop: Pop Star Clicker          69242       0.1   \n",
       "923     98                   Muse Dash          34140       0.1   \n",
       "1602    77                 فكر ـ Think          56774       0.1   \n",
       "\n",
       "      average_rating  growth_30_days  growth_60_days  price     category  \\\n",
       "885                5             0.1             0.1   0.00   GAME MUSIC   \n",
       "923                5           768.5             6.7   1.49   GAME MUSIC   \n",
       "1602               5             0.0             0.0   0.00  GAME TRIVIA   \n",
       "\n",
       "      5_star_ratings  4_star_ratings  3_star_ratings  2_star_ratings  \\\n",
       "885            51096            9117            5438            1059   \n",
       "923            29210            2774             718             429   \n",
       "1602           50520            2542            1988             445   \n",
       "\n",
       "      1_star_ratings   paid  \n",
       "885             2529  False  \n",
       "923             1007   True  \n",
       "1602            1276  False  "
      ]
     },
     "execution_count": 32,
     "metadata": {},
     "output_type": "execute_result"
    }
   ],
   "source": [
    "df[df['installs']==0.1]"
   ]
  },
  {
   "cell_type": "code",
   "execution_count": 33,
   "id": "0cc5bd95",
   "metadata": {},
   "outputs": [
    {
     "data": {
      "text/html": [
       "<div>\n",
       "<style scoped>\n",
       "    .dataframe tbody tr th:only-of-type {\n",
       "        vertical-align: middle;\n",
       "    }\n",
       "\n",
       "    .dataframe tbody tr th {\n",
       "        vertical-align: top;\n",
       "    }\n",
       "\n",
       "    .dataframe thead th {\n",
       "        text-align: right;\n",
       "    }\n",
       "</style>\n",
       "<table border=\"1\" class=\"dataframe\">\n",
       "  <thead>\n",
       "    <tr style=\"text-align: right;\">\n",
       "      <th></th>\n",
       "      <th>average_rating</th>\n",
       "      <th>total_ratings</th>\n",
       "      <th>paid</th>\n",
       "    </tr>\n",
       "  </thead>\n",
       "  <tbody>\n",
       "    <tr>\n",
       "      <th>885</th>\n",
       "      <td>5</td>\n",
       "      <td>69242</td>\n",
       "      <td>False</td>\n",
       "    </tr>\n",
       "    <tr>\n",
       "      <th>1602</th>\n",
       "      <td>5</td>\n",
       "      <td>56774</td>\n",
       "      <td>False</td>\n",
       "    </tr>\n",
       "    <tr>\n",
       "      <th>923</th>\n",
       "      <td>5</td>\n",
       "      <td>34140</td>\n",
       "      <td>True</td>\n",
       "    </tr>\n",
       "  </tbody>\n",
       "</table>\n",
       "</div>"
      ],
      "text/plain": [
       "      average_rating  total_ratings   paid\n",
       "885                5          69242  False\n",
       "1602               5          56774  False\n",
       "923                5          34140   True"
      ]
     },
     "execution_count": 33,
     "metadata": {},
     "output_type": "execute_result"
    }
   ],
   "source": [
    "df[df['installs']==0.1][['average_rating', 'total_ratings', 'paid']].sort_values(ascending=False, by='total_ratings')"
   ]
  },
  {
   "cell_type": "markdown",
   "id": "d25fafad",
   "metadata": {},
   "source": [
    "* I have analysed which games have more than 10M installs and is there any correlation with other columns\n",
    "* There is one paid game"
   ]
  },
  {
   "cell_type": "code",
   "execution_count": 34,
   "id": "c7b9e236",
   "metadata": {
    "scrolled": true
   },
   "outputs": [
    {
     "data": {
      "text/html": [
       "<div>\n",
       "<style scoped>\n",
       "    .dataframe tbody tr th:only-of-type {\n",
       "        vertical-align: middle;\n",
       "    }\n",
       "\n",
       "    .dataframe tbody tr th {\n",
       "        vertical-align: top;\n",
       "    }\n",
       "\n",
       "    .dataframe thead th {\n",
       "        text-align: right;\n",
       "    }\n",
       "</style>\n",
       "<table border=\"1\" class=\"dataframe\">\n",
       "  <thead>\n",
       "    <tr style=\"text-align: right;\">\n",
       "      <th></th>\n",
       "      <th>rank</th>\n",
       "      <th>title</th>\n",
       "      <th>total_ratings</th>\n",
       "      <th>installs</th>\n",
       "      <th>average_rating</th>\n",
       "      <th>growth_30_days</th>\n",
       "      <th>growth_60_days</th>\n",
       "      <th>price</th>\n",
       "      <th>category</th>\n",
       "      <th>5_star_ratings</th>\n",
       "      <th>4_star_ratings</th>\n",
       "      <th>3_star_ratings</th>\n",
       "      <th>2_star_ratings</th>\n",
       "      <th>1_star_ratings</th>\n",
       "      <th>paid</th>\n",
       "    </tr>\n",
       "  </thead>\n",
       "  <tbody>\n",
       "    <tr>\n",
       "      <th>27</th>\n",
       "      <td>28</td>\n",
       "      <td>Call of Duty®: Mobile - Garena</td>\n",
       "      <td>2695923</td>\n",
       "      <td>10.0</td>\n",
       "      <td>4</td>\n",
       "      <td>3.2</td>\n",
       "      <td>5.5</td>\n",
       "      <td>0.0</td>\n",
       "      <td>GAME ACTION</td>\n",
       "      <td>1922909</td>\n",
       "      <td>223625</td>\n",
       "      <td>133776</td>\n",
       "      <td>79762</td>\n",
       "      <td>335849</td>\n",
       "      <td>False</td>\n",
       "    </tr>\n",
       "    <tr>\n",
       "      <th>29</th>\n",
       "      <td>30</td>\n",
       "      <td>Injustice: Gods Among Us</td>\n",
       "      <td>2540439</td>\n",
       "      <td>10.0</td>\n",
       "      <td>4</td>\n",
       "      <td>0.1</td>\n",
       "      <td>0.2</td>\n",
       "      <td>0.0</td>\n",
       "      <td>GAME ACTION</td>\n",
       "      <td>1879504</td>\n",
       "      <td>251048</td>\n",
       "      <td>115871</td>\n",
       "      <td>60732</td>\n",
       "      <td>233281</td>\n",
       "      <td>False</td>\n",
       "    </tr>\n",
       "    <tr>\n",
       "      <th>34</th>\n",
       "      <td>35</td>\n",
       "      <td>LINE Rangers - a tower defense RPG w/Brown &amp; C...</td>\n",
       "      <td>2131549</td>\n",
       "      <td>10.0</td>\n",
       "      <td>4</td>\n",
       "      <td>0.1</td>\n",
       "      <td>0.2</td>\n",
       "      <td>0.0</td>\n",
       "      <td>GAME ACTION</td>\n",
       "      <td>1508264</td>\n",
       "      <td>249413</td>\n",
       "      <td>138706</td>\n",
       "      <td>48233</td>\n",
       "      <td>186930</td>\n",
       "      <td>False</td>\n",
       "    </tr>\n",
       "    <tr>\n",
       "      <th>36</th>\n",
       "      <td>37</td>\n",
       "      <td>Six-Guns: Gang Showdown</td>\n",
       "      <td>2083413</td>\n",
       "      <td>10.0</td>\n",
       "      <td>4</td>\n",
       "      <td>0.1</td>\n",
       "      <td>0.1</td>\n",
       "      <td>0.0</td>\n",
       "      <td>GAME ACTION</td>\n",
       "      <td>1394048</td>\n",
       "      <td>187327</td>\n",
       "      <td>118080</td>\n",
       "      <td>65989</td>\n",
       "      <td>317967</td>\n",
       "      <td>False</td>\n",
       "    </tr>\n",
       "    <tr>\n",
       "      <th>38</th>\n",
       "      <td>39</td>\n",
       "      <td>FRONTLINE COMMANDO: D-DAY</td>\n",
       "      <td>1985016</td>\n",
       "      <td>10.0</td>\n",
       "      <td>4</td>\n",
       "      <td>0.3</td>\n",
       "      <td>0.6</td>\n",
       "      <td>0.0</td>\n",
       "      <td>GAME ACTION</td>\n",
       "      <td>1293275</td>\n",
       "      <td>125940</td>\n",
       "      <td>82481</td>\n",
       "      <td>56490</td>\n",
       "      <td>426828</td>\n",
       "      <td>False</td>\n",
       "    </tr>\n",
       "    <tr>\n",
       "      <th>...</th>\n",
       "      <td>...</td>\n",
       "      <td>...</td>\n",
       "      <td>...</td>\n",
       "      <td>...</td>\n",
       "      <td>...</td>\n",
       "      <td>...</td>\n",
       "      <td>...</td>\n",
       "      <td>...</td>\n",
       "      <td>...</td>\n",
       "      <td>...</td>\n",
       "      <td>...</td>\n",
       "      <td>...</td>\n",
       "      <td>...</td>\n",
       "      <td>...</td>\n",
       "      <td>...</td>\n",
       "    </tr>\n",
       "    <tr>\n",
       "      <th>1717</th>\n",
       "      <td>88</td>\n",
       "      <td>Escape Room: Mystery Word</td>\n",
       "      <td>127293</td>\n",
       "      <td>10.0</td>\n",
       "      <td>4</td>\n",
       "      <td>0.0</td>\n",
       "      <td>0.0</td>\n",
       "      <td>0.0</td>\n",
       "      <td>GAME WORD</td>\n",
       "      <td>88424</td>\n",
       "      <td>9776</td>\n",
       "      <td>7448</td>\n",
       "      <td>5279</td>\n",
       "      <td>16363</td>\n",
       "      <td>False</td>\n",
       "    </tr>\n",
       "    <tr>\n",
       "      <th>1718</th>\n",
       "      <td>89</td>\n",
       "      <td>Word Swipe</td>\n",
       "      <td>127030</td>\n",
       "      <td>10.0</td>\n",
       "      <td>5</td>\n",
       "      <td>0.3</td>\n",
       "      <td>0.8</td>\n",
       "      <td>0.0</td>\n",
       "      <td>GAME WORD</td>\n",
       "      <td>107638</td>\n",
       "      <td>9411</td>\n",
       "      <td>3632</td>\n",
       "      <td>1626</td>\n",
       "      <td>4720</td>\n",
       "      <td>False</td>\n",
       "    </tr>\n",
       "    <tr>\n",
       "      <th>1722</th>\n",
       "      <td>93</td>\n",
       "      <td>Word Life - Connect crosswords puzzle</td>\n",
       "      <td>121222</td>\n",
       "      <td>10.0</td>\n",
       "      <td>4</td>\n",
       "      <td>4.6</td>\n",
       "      <td>10.4</td>\n",
       "      <td>0.0</td>\n",
       "      <td>GAME WORD</td>\n",
       "      <td>74343</td>\n",
       "      <td>25022</td>\n",
       "      <td>11196</td>\n",
       "      <td>3811</td>\n",
       "      <td>6848</td>\n",
       "      <td>False</td>\n",
       "    </tr>\n",
       "    <tr>\n",
       "      <th>1727</th>\n",
       "      <td>98</td>\n",
       "      <td>Scrabble® GO - New Word Game</td>\n",
       "      <td>110723</td>\n",
       "      <td>10.0</td>\n",
       "      <td>4</td>\n",
       "      <td>0.9</td>\n",
       "      <td>1.9</td>\n",
       "      <td>0.0</td>\n",
       "      <td>GAME WORD</td>\n",
       "      <td>64184</td>\n",
       "      <td>18332</td>\n",
       "      <td>9385</td>\n",
       "      <td>6688</td>\n",
       "      <td>12132</td>\n",
       "      <td>False</td>\n",
       "    </tr>\n",
       "    <tr>\n",
       "      <th>1729</th>\n",
       "      <td>100</td>\n",
       "      <td>Pinturillo 2</td>\n",
       "      <td>108917</td>\n",
       "      <td>10.0</td>\n",
       "      <td>4</td>\n",
       "      <td>1.1</td>\n",
       "      <td>2.5</td>\n",
       "      <td>0.0</td>\n",
       "      <td>GAME WORD</td>\n",
       "      <td>50813</td>\n",
       "      <td>16480</td>\n",
       "      <td>11825</td>\n",
       "      <td>6166</td>\n",
       "      <td>23631</td>\n",
       "      <td>False</td>\n",
       "    </tr>\n",
       "  </tbody>\n",
       "</table>\n",
       "<p>805 rows × 15 columns</p>\n",
       "</div>"
      ],
      "text/plain": [
       "      rank                                              title  total_ratings  \\\n",
       "27      28                     Call of Duty®: Mobile - Garena        2695923   \n",
       "29      30                           Injustice: Gods Among Us        2540439   \n",
       "34      35  LINE Rangers - a tower defense RPG w/Brown & C...        2131549   \n",
       "36      37                            Six-Guns: Gang Showdown        2083413   \n",
       "38      39                          FRONTLINE COMMANDO: D-DAY        1985016   \n",
       "...    ...                                                ...            ...   \n",
       "1717    88                          Escape Room: Mystery Word         127293   \n",
       "1718    89                                         Word Swipe         127030   \n",
       "1722    93              Word Life - Connect crosswords puzzle         121222   \n",
       "1727    98                       Scrabble® GO - New Word Game         110723   \n",
       "1729   100                                       Pinturillo 2         108917   \n",
       "\n",
       "      installs  average_rating  growth_30_days  growth_60_days  price  \\\n",
       "27        10.0               4             3.2             5.5    0.0   \n",
       "29        10.0               4             0.1             0.2    0.0   \n",
       "34        10.0               4             0.1             0.2    0.0   \n",
       "36        10.0               4             0.1             0.1    0.0   \n",
       "38        10.0               4             0.3             0.6    0.0   \n",
       "...        ...             ...             ...             ...    ...   \n",
       "1717      10.0               4             0.0             0.0    0.0   \n",
       "1718      10.0               5             0.3             0.8    0.0   \n",
       "1722      10.0               4             4.6            10.4    0.0   \n",
       "1727      10.0               4             0.9             1.9    0.0   \n",
       "1729      10.0               4             1.1             2.5    0.0   \n",
       "\n",
       "         category  5_star_ratings  4_star_ratings  3_star_ratings  \\\n",
       "27    GAME ACTION         1922909          223625          133776   \n",
       "29    GAME ACTION         1879504          251048          115871   \n",
       "34    GAME ACTION         1508264          249413          138706   \n",
       "36    GAME ACTION         1394048          187327          118080   \n",
       "38    GAME ACTION         1293275          125940           82481   \n",
       "...           ...             ...             ...             ...   \n",
       "1717    GAME WORD           88424            9776            7448   \n",
       "1718    GAME WORD          107638            9411            3632   \n",
       "1722    GAME WORD           74343           25022           11196   \n",
       "1727    GAME WORD           64184           18332            9385   \n",
       "1729    GAME WORD           50813           16480           11825   \n",
       "\n",
       "      2_star_ratings  1_star_ratings   paid  \n",
       "27             79762          335849  False  \n",
       "29             60732          233281  False  \n",
       "34             48233          186930  False  \n",
       "36             65989          317967  False  \n",
       "38             56490          426828  False  \n",
       "...              ...             ...    ...  \n",
       "1717            5279           16363  False  \n",
       "1718            1626            4720  False  \n",
       "1722            3811            6848  False  \n",
       "1727            6688           12132  False  \n",
       "1729            6166           23631  False  \n",
       "\n",
       "[805 rows x 15 columns]"
      ]
     },
     "execution_count": 34,
     "metadata": {},
     "output_type": "execute_result"
    }
   ],
   "source": [
    "df[df['installs']==10]"
   ]
  },
  {
   "cell_type": "code",
   "execution_count": 35,
   "id": "d1b87d19",
   "metadata": {},
   "outputs": [
    {
     "data": {
      "text/plain": [
       "GAME SIMULATION      65\n",
       "GAME EDUCATIONAL     64\n",
       "GAME ADVENTURE       63\n",
       "GAME SPORTS          58\n",
       "GAME ROLE PLAYING    58\n",
       "GAME WORD            56\n",
       "GAME STRATEGY        53\n",
       "GAME PUZZLE          50\n",
       "GAME CASUAL          48\n",
       "GAME RACING          46\n",
       "GAME BOARD           42\n",
       "GAME CARD            41\n",
       "GAME MUSIC           36\n",
       "GAME CASINO          35\n",
       "GAME ARCADE          31\n",
       "GAME ACTION          31\n",
       "GAME TRIVIA          28\n",
       "Name: category, dtype: int64"
      ]
     },
     "execution_count": 35,
     "metadata": {},
     "output_type": "execute_result"
    }
   ],
   "source": [
    "df[df['installs']==10].category.value_counts()"
   ]
  },
  {
   "cell_type": "code",
   "execution_count": 36,
   "id": "abaf25a4",
   "metadata": {},
   "outputs": [
    {
     "data": {
      "text/plain": [
       "False    804\n",
       "True       1\n",
       "Name: paid, dtype: int64"
      ]
     },
     "execution_count": 36,
     "metadata": {},
     "output_type": "execute_result"
    }
   ],
   "source": [
    "df[df['installs']==10].paid.value_counts()"
   ]
  },
  {
   "cell_type": "code",
   "execution_count": 37,
   "id": "05d9a2f1",
   "metadata": {},
   "outputs": [
    {
     "data": {
      "text/plain": [
       "4    620\n",
       "5    180\n",
       "3      5\n",
       "Name: average_rating, dtype: int64"
      ]
     },
     "execution_count": 37,
     "metadata": {},
     "output_type": "execute_result"
    }
   ],
   "source": [
    "df[df['installs']==10]['average_rating'].value_counts()"
   ]
  },
  {
   "cell_type": "code",
   "execution_count": 38,
   "id": "e95a6678",
   "metadata": {},
   "outputs": [
    {
     "data": {
      "text/html": [
       "<div>\n",
       "<style scoped>\n",
       "    .dataframe tbody tr th:only-of-type {\n",
       "        vertical-align: middle;\n",
       "    }\n",
       "\n",
       "    .dataframe tbody tr th {\n",
       "        vertical-align: top;\n",
       "    }\n",
       "\n",
       "    .dataframe thead th {\n",
       "        text-align: right;\n",
       "    }\n",
       "</style>\n",
       "<table border=\"1\" class=\"dataframe\">\n",
       "  <thead>\n",
       "    <tr style=\"text-align: right;\">\n",
       "      <th></th>\n",
       "      <th>average_rating</th>\n",
       "      <th>total_ratings</th>\n",
       "    </tr>\n",
       "  </thead>\n",
       "  <tbody>\n",
       "    <tr>\n",
       "      <th>1031</th>\n",
       "      <td>5</td>\n",
       "      <td>4476329</td>\n",
       "    </tr>\n",
       "    <tr>\n",
       "      <th>209</th>\n",
       "      <td>5</td>\n",
       "      <td>4100452</td>\n",
       "    </tr>\n",
       "    <tr>\n",
       "      <th>1432</th>\n",
       "      <td>5</td>\n",
       "      <td>3687571</td>\n",
       "    </tr>\n",
       "    <tr>\n",
       "      <th>1230</th>\n",
       "      <td>5</td>\n",
       "      <td>3420152</td>\n",
       "    </tr>\n",
       "    <tr>\n",
       "      <th>1127</th>\n",
       "      <td>5</td>\n",
       "      <td>3126336</td>\n",
       "    </tr>\n",
       "    <tr>\n",
       "      <th>...</th>\n",
       "      <td>...</td>\n",
       "      <td>...</td>\n",
       "    </tr>\n",
       "    <tr>\n",
       "      <th>906</th>\n",
       "      <td>4</td>\n",
       "      <td>46210</td>\n",
       "    </tr>\n",
       "    <tr>\n",
       "      <th>907</th>\n",
       "      <td>4</td>\n",
       "      <td>45842</td>\n",
       "    </tr>\n",
       "    <tr>\n",
       "      <th>915</th>\n",
       "      <td>4</td>\n",
       "      <td>40370</td>\n",
       "    </tr>\n",
       "    <tr>\n",
       "      <th>916</th>\n",
       "      <td>4</td>\n",
       "      <td>40192</td>\n",
       "    </tr>\n",
       "    <tr>\n",
       "      <th>919</th>\n",
       "      <td>4</td>\n",
       "      <td>36046</td>\n",
       "    </tr>\n",
       "  </tbody>\n",
       "</table>\n",
       "<p>805 rows × 2 columns</p>\n",
       "</div>"
      ],
      "text/plain": [
       "      average_rating  total_ratings\n",
       "1031               5        4476329\n",
       "209                5        4100452\n",
       "1432               5        3687571\n",
       "1230               5        3420152\n",
       "1127               5        3126336\n",
       "...              ...            ...\n",
       "906                4          46210\n",
       "907                4          45842\n",
       "915                4          40370\n",
       "916                4          40192\n",
       "919                4          36046\n",
       "\n",
       "[805 rows x 2 columns]"
      ]
     },
     "execution_count": 38,
     "metadata": {},
     "output_type": "execute_result"
    }
   ],
   "source": [
    "df[df['installs']==10][['average_rating', 'total_ratings']].sort_values(ascending=False, by='total_ratings')"
   ]
  },
  {
   "cell_type": "markdown",
   "id": "1614e3ce",
   "metadata": {},
   "source": [
    "* I have analysed which games have more than 500 million and 1 billion installs and is there any correlation with other columns"
   ]
  },
  {
   "cell_type": "code",
   "execution_count": 39,
   "id": "20f19520",
   "metadata": {},
   "outputs": [
    {
     "data": {
      "text/html": [
       "<div>\n",
       "<style scoped>\n",
       "    .dataframe tbody tr th:only-of-type {\n",
       "        vertical-align: middle;\n",
       "    }\n",
       "\n",
       "    .dataframe tbody tr th {\n",
       "        vertical-align: top;\n",
       "    }\n",
       "\n",
       "    .dataframe thead th {\n",
       "        text-align: right;\n",
       "    }\n",
       "</style>\n",
       "<table border=\"1\" class=\"dataframe\">\n",
       "  <thead>\n",
       "    <tr style=\"text-align: right;\">\n",
       "      <th></th>\n",
       "      <th>rank</th>\n",
       "      <th>title</th>\n",
       "      <th>total_ratings</th>\n",
       "      <th>installs</th>\n",
       "      <th>average_rating</th>\n",
       "      <th>growth_30_days</th>\n",
       "      <th>growth_60_days</th>\n",
       "      <th>price</th>\n",
       "      <th>category</th>\n",
       "      <th>5_star_ratings</th>\n",
       "      <th>4_star_ratings</th>\n",
       "      <th>3_star_ratings</th>\n",
       "      <th>2_star_ratings</th>\n",
       "      <th>1_star_ratings</th>\n",
       "      <th>paid</th>\n",
       "    </tr>\n",
       "  </thead>\n",
       "  <tbody>\n",
       "    <tr>\n",
       "      <th>200</th>\n",
       "      <td>1</td>\n",
       "      <td>Subway Surfers</td>\n",
       "      <td>35665901</td>\n",
       "      <td>1000.0</td>\n",
       "      <td>4</td>\n",
       "      <td>0.5</td>\n",
       "      <td>1.0</td>\n",
       "      <td>0.0</td>\n",
       "      <td>GAME ARCADE</td>\n",
       "      <td>27138572</td>\n",
       "      <td>3366600</td>\n",
       "      <td>1622695</td>\n",
       "      <td>814890</td>\n",
       "      <td>2723142</td>\n",
       "      <td>False</td>\n",
       "    </tr>\n",
       "    <tr>\n",
       "      <th>626</th>\n",
       "      <td>1</td>\n",
       "      <td>Candy Crush Saga</td>\n",
       "      <td>31367945</td>\n",
       "      <td>1000.0</td>\n",
       "      <td>5</td>\n",
       "      <td>0.9</td>\n",
       "      <td>1.6</td>\n",
       "      <td>0.0</td>\n",
       "      <td>GAME CASUAL</td>\n",
       "      <td>23837448</td>\n",
       "      <td>4176798</td>\n",
       "      <td>1534041</td>\n",
       "      <td>486005</td>\n",
       "      <td>1333650</td>\n",
       "      <td>False</td>\n",
       "    </tr>\n",
       "  </tbody>\n",
       "</table>\n",
       "</div>"
      ],
      "text/plain": [
       "     rank             title  total_ratings  installs  average_rating  \\\n",
       "200     1    Subway Surfers       35665901    1000.0               4   \n",
       "626     1  Candy Crush Saga       31367945    1000.0               5   \n",
       "\n",
       "     growth_30_days  growth_60_days  price     category  5_star_ratings  \\\n",
       "200             0.5             1.0    0.0  GAME ARCADE        27138572   \n",
       "626             0.9             1.6    0.0  GAME CASUAL        23837448   \n",
       "\n",
       "     4_star_ratings  3_star_ratings  2_star_ratings  1_star_ratings   paid  \n",
       "200         3366600         1622695          814890         2723142  False  \n",
       "626         4176798         1534041          486005         1333650  False  "
      ]
     },
     "execution_count": 39,
     "metadata": {},
     "output_type": "execute_result"
    }
   ],
   "source": [
    "df[df['installs']==1000]"
   ]
  },
  {
   "cell_type": "code",
   "execution_count": 40,
   "id": "9650797f",
   "metadata": {
    "scrolled": true
   },
   "outputs": [
    {
     "data": {
      "text/html": [
       "<div>\n",
       "<style scoped>\n",
       "    .dataframe tbody tr th:only-of-type {\n",
       "        vertical-align: middle;\n",
       "    }\n",
       "\n",
       "    .dataframe tbody tr th {\n",
       "        vertical-align: top;\n",
       "    }\n",
       "\n",
       "    .dataframe thead th {\n",
       "        text-align: right;\n",
       "    }\n",
       "</style>\n",
       "<table border=\"1\" class=\"dataframe\">\n",
       "  <thead>\n",
       "    <tr style=\"text-align: right;\">\n",
       "      <th></th>\n",
       "      <th>average_rating</th>\n",
       "      <th>total_ratings</th>\n",
       "    </tr>\n",
       "  </thead>\n",
       "  <tbody>\n",
       "    <tr>\n",
       "      <th>200</th>\n",
       "      <td>4</td>\n",
       "      <td>35665901</td>\n",
       "    </tr>\n",
       "    <tr>\n",
       "      <th>626</th>\n",
       "      <td>5</td>\n",
       "      <td>31367945</td>\n",
       "    </tr>\n",
       "  </tbody>\n",
       "</table>\n",
       "</div>"
      ],
      "text/plain": [
       "     average_rating  total_ratings\n",
       "200               4       35665901\n",
       "626               5       31367945"
      ]
     },
     "execution_count": 40,
     "metadata": {},
     "output_type": "execute_result"
    }
   ],
   "source": [
    "df[df['installs']==1000][['average_rating', 'total_ratings']].sort_values(ascending=False, by='total_ratings')"
   ]
  },
  {
   "cell_type": "code",
   "execution_count": 41,
   "id": "051f7cf1",
   "metadata": {
    "scrolled": true
   },
   "outputs": [
    {
     "data": {
      "text/html": [
       "<div>\n",
       "<style scoped>\n",
       "    .dataframe tbody tr th:only-of-type {\n",
       "        vertical-align: middle;\n",
       "    }\n",
       "\n",
       "    .dataframe tbody tr th {\n",
       "        vertical-align: top;\n",
       "    }\n",
       "\n",
       "    .dataframe thead th {\n",
       "        text-align: right;\n",
       "    }\n",
       "</style>\n",
       "<table border=\"1\" class=\"dataframe\">\n",
       "  <thead>\n",
       "    <tr style=\"text-align: right;\">\n",
       "      <th></th>\n",
       "      <th>rank</th>\n",
       "      <th>title</th>\n",
       "      <th>total_ratings</th>\n",
       "      <th>installs</th>\n",
       "      <th>average_rating</th>\n",
       "      <th>growth_30_days</th>\n",
       "      <th>growth_60_days</th>\n",
       "      <th>price</th>\n",
       "      <th>category</th>\n",
       "      <th>5_star_ratings</th>\n",
       "      <th>4_star_ratings</th>\n",
       "      <th>3_star_ratings</th>\n",
       "      <th>2_star_ratings</th>\n",
       "      <th>1_star_ratings</th>\n",
       "      <th>paid</th>\n",
       "    </tr>\n",
       "  </thead>\n",
       "  <tbody>\n",
       "    <tr>\n",
       "      <th>0</th>\n",
       "      <td>1</td>\n",
       "      <td>Garena Free Fire- World Series</td>\n",
       "      <td>86273129</td>\n",
       "      <td>500.0</td>\n",
       "      <td>4</td>\n",
       "      <td>2.1</td>\n",
       "      <td>6.9</td>\n",
       "      <td>0.0</td>\n",
       "      <td>GAME ACTION</td>\n",
       "      <td>63546766</td>\n",
       "      <td>4949507</td>\n",
       "      <td>3158756</td>\n",
       "      <td>2122183</td>\n",
       "      <td>12495915</td>\n",
       "      <td>False</td>\n",
       "    </tr>\n",
       "    <tr>\n",
       "      <th>1</th>\n",
       "      <td>2</td>\n",
       "      <td>PUBG MOBILE - Traverse</td>\n",
       "      <td>37276732</td>\n",
       "      <td>500.0</td>\n",
       "      <td>4</td>\n",
       "      <td>1.8</td>\n",
       "      <td>3.6</td>\n",
       "      <td>0.0</td>\n",
       "      <td>GAME ACTION</td>\n",
       "      <td>28339753</td>\n",
       "      <td>2164478</td>\n",
       "      <td>1253185</td>\n",
       "      <td>809821</td>\n",
       "      <td>4709492</td>\n",
       "      <td>False</td>\n",
       "    </tr>\n",
       "    <tr>\n",
       "      <th>4</th>\n",
       "      <td>5</td>\n",
       "      <td>Sniper 3D: Fun Free Online FPS Shooting Game</td>\n",
       "      <td>14464235</td>\n",
       "      <td>500.0</td>\n",
       "      <td>4</td>\n",
       "      <td>0.8</td>\n",
       "      <td>1.5</td>\n",
       "      <td>0.0</td>\n",
       "      <td>GAME ACTION</td>\n",
       "      <td>9827328</td>\n",
       "      <td>2124154</td>\n",
       "      <td>1047741</td>\n",
       "      <td>380670</td>\n",
       "      <td>1084340</td>\n",
       "      <td>False</td>\n",
       "    </tr>\n",
       "    <tr>\n",
       "      <th>7</th>\n",
       "      <td>8</td>\n",
       "      <td>Temple Run 2</td>\n",
       "      <td>9633929</td>\n",
       "      <td>500.0</td>\n",
       "      <td>4</td>\n",
       "      <td>0.3</td>\n",
       "      <td>0.8</td>\n",
       "      <td>0.0</td>\n",
       "      <td>GAME ACTION</td>\n",
       "      <td>6579369</td>\n",
       "      <td>991341</td>\n",
       "      <td>614643</td>\n",
       "      <td>349003</td>\n",
       "      <td>1099571</td>\n",
       "      <td>False</td>\n",
       "    </tr>\n",
       "    <tr>\n",
       "      <th>207</th>\n",
       "      <td>8</td>\n",
       "      <td>Temple Run</td>\n",
       "      <td>4816448</td>\n",
       "      <td>500.0</td>\n",
       "      <td>4</td>\n",
       "      <td>0.7</td>\n",
       "      <td>1.5</td>\n",
       "      <td>0.0</td>\n",
       "      <td>GAME ARCADE</td>\n",
       "      <td>3184391</td>\n",
       "      <td>438320</td>\n",
       "      <td>318164</td>\n",
       "      <td>204384</td>\n",
       "      <td>671187</td>\n",
       "      <td>False</td>\n",
       "    </tr>\n",
       "    <tr>\n",
       "      <th>300</th>\n",
       "      <td>1</td>\n",
       "      <td>Ludo King™</td>\n",
       "      <td>7512316</td>\n",
       "      <td>500.0</td>\n",
       "      <td>4</td>\n",
       "      <td>4.0</td>\n",
       "      <td>6.5</td>\n",
       "      <td>0.0</td>\n",
       "      <td>GAME BOARD</td>\n",
       "      <td>5291589</td>\n",
       "      <td>773193</td>\n",
       "      <td>369290</td>\n",
       "      <td>204053</td>\n",
       "      <td>874188</td>\n",
       "      <td>False</td>\n",
       "    </tr>\n",
       "    <tr>\n",
       "      <th>627</th>\n",
       "      <td>2</td>\n",
       "      <td>My Talking Tom</td>\n",
       "      <td>16810315</td>\n",
       "      <td>500.0</td>\n",
       "      <td>4</td>\n",
       "      <td>0.3</td>\n",
       "      <td>0.5</td>\n",
       "      <td>0.0</td>\n",
       "      <td>GAME CASUAL</td>\n",
       "      <td>12234051</td>\n",
       "      <td>1514188</td>\n",
       "      <td>851145</td>\n",
       "      <td>465627</td>\n",
       "      <td>1745303</td>\n",
       "      <td>False</td>\n",
       "    </tr>\n",
       "    <tr>\n",
       "      <th>628</th>\n",
       "      <td>3</td>\n",
       "      <td>My Talking Angela</td>\n",
       "      <td>13050503</td>\n",
       "      <td>500.0</td>\n",
       "      <td>4</td>\n",
       "      <td>0.6</td>\n",
       "      <td>1.4</td>\n",
       "      <td>0.0</td>\n",
       "      <td>GAME CASUAL</td>\n",
       "      <td>9165205</td>\n",
       "      <td>1073761</td>\n",
       "      <td>636763</td>\n",
       "      <td>399662</td>\n",
       "      <td>1775110</td>\n",
       "      <td>False</td>\n",
       "    </tr>\n",
       "    <tr>\n",
       "      <th>630</th>\n",
       "      <td>5</td>\n",
       "      <td>Pou</td>\n",
       "      <td>11506051</td>\n",
       "      <td>500.0</td>\n",
       "      <td>4</td>\n",
       "      <td>0.2</td>\n",
       "      <td>0.5</td>\n",
       "      <td>0.0</td>\n",
       "      <td>GAME CASUAL</td>\n",
       "      <td>8175679</td>\n",
       "      <td>1051014</td>\n",
       "      <td>688712</td>\n",
       "      <td>346244</td>\n",
       "      <td>1244400</td>\n",
       "      <td>False</td>\n",
       "    </tr>\n",
       "    <tr>\n",
       "      <th>1026</th>\n",
       "      <td>1</td>\n",
       "      <td>Hill Climb Racing</td>\n",
       "      <td>10188038</td>\n",
       "      <td>500.0</td>\n",
       "      <td>4</td>\n",
       "      <td>0.4</td>\n",
       "      <td>0.8</td>\n",
       "      <td>0.0</td>\n",
       "      <td>GAME RACING</td>\n",
       "      <td>7148370</td>\n",
       "      <td>982941</td>\n",
       "      <td>607603</td>\n",
       "      <td>338715</td>\n",
       "      <td>1110407</td>\n",
       "      <td>False</td>\n",
       "    </tr>\n",
       "    <tr>\n",
       "      <th>1326</th>\n",
       "      <td>1</td>\n",
       "      <td>8 Ball Pool</td>\n",
       "      <td>21632735</td>\n",
       "      <td>500.0</td>\n",
       "      <td>4</td>\n",
       "      <td>1.2</td>\n",
       "      <td>630.8</td>\n",
       "      <td>0.0</td>\n",
       "      <td>GAME SPORTS</td>\n",
       "      <td>16281475</td>\n",
       "      <td>2268294</td>\n",
       "      <td>1017204</td>\n",
       "      <td>425693</td>\n",
       "      <td>1640067</td>\n",
       "      <td>False</td>\n",
       "    </tr>\n",
       "    <tr>\n",
       "      <th>1426</th>\n",
       "      <td>1</td>\n",
       "      <td>Clash of Clans</td>\n",
       "      <td>55766763</td>\n",
       "      <td>500.0</td>\n",
       "      <td>4</td>\n",
       "      <td>0.3</td>\n",
       "      <td>1.0</td>\n",
       "      <td>0.0</td>\n",
       "      <td>GAME STRATEGY</td>\n",
       "      <td>43346128</td>\n",
       "      <td>5404966</td>\n",
       "      <td>2276203</td>\n",
       "      <td>971321</td>\n",
       "      <td>3768141</td>\n",
       "      <td>False</td>\n",
       "    </tr>\n",
       "  </tbody>\n",
       "</table>\n",
       "</div>"
      ],
      "text/plain": [
       "      rank                                         title  total_ratings  \\\n",
       "0        1                Garena Free Fire- World Series       86273129   \n",
       "1        2                        PUBG MOBILE - Traverse       37276732   \n",
       "4        5  Sniper 3D: Fun Free Online FPS Shooting Game       14464235   \n",
       "7        8                                  Temple Run 2        9633929   \n",
       "207      8                                    Temple Run        4816448   \n",
       "300      1                                    Ludo King™        7512316   \n",
       "627      2                                My Talking Tom       16810315   \n",
       "628      3                             My Talking Angela       13050503   \n",
       "630      5                                           Pou       11506051   \n",
       "1026     1                             Hill Climb Racing       10188038   \n",
       "1326     1                                   8 Ball Pool       21632735   \n",
       "1426     1                                Clash of Clans       55766763   \n",
       "\n",
       "      installs  average_rating  growth_30_days  growth_60_days  price  \\\n",
       "0        500.0               4             2.1             6.9    0.0   \n",
       "1        500.0               4             1.8             3.6    0.0   \n",
       "4        500.0               4             0.8             1.5    0.0   \n",
       "7        500.0               4             0.3             0.8    0.0   \n",
       "207      500.0               4             0.7             1.5    0.0   \n",
       "300      500.0               4             4.0             6.5    0.0   \n",
       "627      500.0               4             0.3             0.5    0.0   \n",
       "628      500.0               4             0.6             1.4    0.0   \n",
       "630      500.0               4             0.2             0.5    0.0   \n",
       "1026     500.0               4             0.4             0.8    0.0   \n",
       "1326     500.0               4             1.2           630.8    0.0   \n",
       "1426     500.0               4             0.3             1.0    0.0   \n",
       "\n",
       "           category  5_star_ratings  4_star_ratings  3_star_ratings  \\\n",
       "0       GAME ACTION        63546766         4949507         3158756   \n",
       "1       GAME ACTION        28339753         2164478         1253185   \n",
       "4       GAME ACTION         9827328         2124154         1047741   \n",
       "7       GAME ACTION         6579369          991341          614643   \n",
       "207     GAME ARCADE         3184391          438320          318164   \n",
       "300      GAME BOARD         5291589          773193          369290   \n",
       "627     GAME CASUAL        12234051         1514188          851145   \n",
       "628     GAME CASUAL         9165205         1073761          636763   \n",
       "630     GAME CASUAL         8175679         1051014          688712   \n",
       "1026    GAME RACING         7148370          982941          607603   \n",
       "1326    GAME SPORTS        16281475         2268294         1017204   \n",
       "1426  GAME STRATEGY        43346128         5404966         2276203   \n",
       "\n",
       "      2_star_ratings  1_star_ratings   paid  \n",
       "0            2122183        12495915  False  \n",
       "1             809821         4709492  False  \n",
       "4             380670         1084340  False  \n",
       "7             349003         1099571  False  \n",
       "207           204384          671187  False  \n",
       "300           204053          874188  False  \n",
       "627           465627         1745303  False  \n",
       "628           399662         1775110  False  \n",
       "630           346244         1244400  False  \n",
       "1026          338715         1110407  False  \n",
       "1326          425693         1640067  False  \n",
       "1426          971321         3768141  False  "
      ]
     },
     "execution_count": 41,
     "metadata": {},
     "output_type": "execute_result"
    }
   ],
   "source": [
    "df[df['installs']==500]"
   ]
  },
  {
   "cell_type": "code",
   "execution_count": 42,
   "id": "457f2bb7",
   "metadata": {},
   "outputs": [
    {
     "data": {
      "text/plain": [
       "GAME ACTION      4\n",
       "GAME CASUAL      3\n",
       "GAME ARCADE      1\n",
       "GAME BOARD       1\n",
       "GAME RACING      1\n",
       "GAME SPORTS      1\n",
       "GAME STRATEGY    1\n",
       "Name: category, dtype: int64"
      ]
     },
     "execution_count": 42,
     "metadata": {},
     "output_type": "execute_result"
    }
   ],
   "source": [
    "df[df['installs']==500].category.value_counts()"
   ]
  },
  {
   "cell_type": "code",
   "execution_count": 43,
   "id": "54c56194",
   "metadata": {
    "scrolled": true
   },
   "outputs": [
    {
     "data": {
      "text/plain": [
       "False    12\n",
       "Name: paid, dtype: int64"
      ]
     },
     "execution_count": 43,
     "metadata": {},
     "output_type": "execute_result"
    }
   ],
   "source": [
    "df[df['installs']==500].paid.value_counts()"
   ]
  },
  {
   "cell_type": "code",
   "execution_count": 44,
   "id": "30941450",
   "metadata": {
    "scrolled": true
   },
   "outputs": [
    {
     "data": {
      "text/plain": [
       "4    12\n",
       "Name: average_rating, dtype: int64"
      ]
     },
     "execution_count": 44,
     "metadata": {},
     "output_type": "execute_result"
    }
   ],
   "source": [
    "df[df['installs']==500]['average_rating'].value_counts()"
   ]
  },
  {
   "cell_type": "code",
   "execution_count": 45,
   "id": "932950cf",
   "metadata": {
    "scrolled": true
   },
   "outputs": [
    {
     "data": {
      "text/html": [
       "<div>\n",
       "<style scoped>\n",
       "    .dataframe tbody tr th:only-of-type {\n",
       "        vertical-align: middle;\n",
       "    }\n",
       "\n",
       "    .dataframe tbody tr th {\n",
       "        vertical-align: top;\n",
       "    }\n",
       "\n",
       "    .dataframe thead th {\n",
       "        text-align: right;\n",
       "    }\n",
       "</style>\n",
       "<table border=\"1\" class=\"dataframe\">\n",
       "  <thead>\n",
       "    <tr style=\"text-align: right;\">\n",
       "      <th></th>\n",
       "      <th>average_rating</th>\n",
       "      <th>total_ratings</th>\n",
       "    </tr>\n",
       "  </thead>\n",
       "  <tbody>\n",
       "    <tr>\n",
       "      <th>0</th>\n",
       "      <td>4</td>\n",
       "      <td>86273129</td>\n",
       "    </tr>\n",
       "    <tr>\n",
       "      <th>1426</th>\n",
       "      <td>4</td>\n",
       "      <td>55766763</td>\n",
       "    </tr>\n",
       "    <tr>\n",
       "      <th>1</th>\n",
       "      <td>4</td>\n",
       "      <td>37276732</td>\n",
       "    </tr>\n",
       "    <tr>\n",
       "      <th>1326</th>\n",
       "      <td>4</td>\n",
       "      <td>21632735</td>\n",
       "    </tr>\n",
       "    <tr>\n",
       "      <th>627</th>\n",
       "      <td>4</td>\n",
       "      <td>16810315</td>\n",
       "    </tr>\n",
       "    <tr>\n",
       "      <th>4</th>\n",
       "      <td>4</td>\n",
       "      <td>14464235</td>\n",
       "    </tr>\n",
       "    <tr>\n",
       "      <th>628</th>\n",
       "      <td>4</td>\n",
       "      <td>13050503</td>\n",
       "    </tr>\n",
       "    <tr>\n",
       "      <th>630</th>\n",
       "      <td>4</td>\n",
       "      <td>11506051</td>\n",
       "    </tr>\n",
       "    <tr>\n",
       "      <th>1026</th>\n",
       "      <td>4</td>\n",
       "      <td>10188038</td>\n",
       "    </tr>\n",
       "    <tr>\n",
       "      <th>7</th>\n",
       "      <td>4</td>\n",
       "      <td>9633929</td>\n",
       "    </tr>\n",
       "    <tr>\n",
       "      <th>300</th>\n",
       "      <td>4</td>\n",
       "      <td>7512316</td>\n",
       "    </tr>\n",
       "    <tr>\n",
       "      <th>207</th>\n",
       "      <td>4</td>\n",
       "      <td>4816448</td>\n",
       "    </tr>\n",
       "  </tbody>\n",
       "</table>\n",
       "</div>"
      ],
      "text/plain": [
       "      average_rating  total_ratings\n",
       "0                  4       86273129\n",
       "1426               4       55766763\n",
       "1                  4       37276732\n",
       "1326               4       21632735\n",
       "627                4       16810315\n",
       "4                  4       14464235\n",
       "628                4       13050503\n",
       "630                4       11506051\n",
       "1026               4       10188038\n",
       "7                  4        9633929\n",
       "300                4        7512316\n",
       "207                4        4816448"
      ]
     },
     "execution_count": 45,
     "metadata": {},
     "output_type": "execute_result"
    }
   ],
   "source": [
    "df[df['installs']==500][['average_rating', 'total_ratings']].sort_values(ascending=False, by='total_ratings')"
   ]
  },
  {
   "cell_type": "markdown",
   "id": "6690559f",
   "metadata": {},
   "source": [
    "## average rating"
   ]
  },
  {
   "cell_type": "code",
   "execution_count": 46,
   "id": "47576620",
   "metadata": {},
   "outputs": [
    {
     "data": {
      "text/plain": [
       "4    1292\n",
       "5     425\n",
       "3      13\n",
       "Name: average_rating, dtype: int64"
      ]
     },
     "execution_count": 46,
     "metadata": {},
     "output_type": "execute_result"
    }
   ],
   "source": [
    "df['average_rating'].value_counts()"
   ]
  },
  {
   "cell_type": "code",
   "execution_count": 47,
   "id": "d1600863",
   "metadata": {},
   "outputs": [
    {
     "data": {
      "text/plain": [
       "average_rating        \n",
       "3               10.0        5\n",
       "                1.0         4\n",
       "                5.0         2\n",
       "                100.0       1\n",
       "                50.0        1\n",
       "4               10.0      620\n",
       "                50.0      218\n",
       "                100.0     179\n",
       "                5.0       149\n",
       "                1.0       109\n",
       "                500.0      12\n",
       "                0.5         4\n",
       "                1000.0      1\n",
       "5               10.0      180\n",
       "                5.0        94\n",
       "                1.0        79\n",
       "                50.0       33\n",
       "                100.0      24\n",
       "                0.5        11\n",
       "                0.1         3\n",
       "                1000.0      1\n",
       "Name: installs, dtype: int64"
      ]
     },
     "execution_count": 47,
     "metadata": {},
     "output_type": "execute_result"
    }
   ],
   "source": [
    "df.groupby('average_rating').apply(lambda x: x.installs.value_counts())"
   ]
  },
  {
   "cell_type": "code",
   "execution_count": 48,
   "id": "c4a551db",
   "metadata": {},
   "outputs": [
    {
     "data": {
      "text/plain": [
       "average_rating       \n",
       "3               False      13\n",
       "4               False    1291\n",
       "                True        1\n",
       "5               False     419\n",
       "                True        6\n",
       "Name: paid, dtype: int64"
      ]
     },
     "execution_count": 48,
     "metadata": {},
     "output_type": "execute_result"
    }
   ],
   "source": [
    "df.groupby('average_rating').apply(lambda x: x.paid.value_counts())"
   ]
  },
  {
   "cell_type": "code",
   "execution_count": 49,
   "id": "1b2c935b",
   "metadata": {},
   "outputs": [
    {
     "data": {
      "text/html": [
       "<div>\n",
       "<style scoped>\n",
       "    .dataframe tbody tr th:only-of-type {\n",
       "        vertical-align: middle;\n",
       "    }\n",
       "\n",
       "    .dataframe tbody tr th {\n",
       "        vertical-align: top;\n",
       "    }\n",
       "\n",
       "    .dataframe thead th {\n",
       "        text-align: right;\n",
       "    }\n",
       "</style>\n",
       "<table border=\"1\" class=\"dataframe\">\n",
       "  <thead>\n",
       "    <tr style=\"text-align: right;\">\n",
       "      <th></th>\n",
       "      <th>rank</th>\n",
       "      <th>title</th>\n",
       "      <th>total_ratings</th>\n",
       "      <th>installs</th>\n",
       "      <th>average_rating</th>\n",
       "      <th>growth_30_days</th>\n",
       "      <th>growth_60_days</th>\n",
       "      <th>price</th>\n",
       "      <th>category</th>\n",
       "      <th>5_star_ratings</th>\n",
       "      <th>4_star_ratings</th>\n",
       "      <th>3_star_ratings</th>\n",
       "      <th>2_star_ratings</th>\n",
       "      <th>1_star_ratings</th>\n",
       "      <th>paid</th>\n",
       "    </tr>\n",
       "  </thead>\n",
       "  <tbody>\n",
       "    <tr>\n",
       "      <th>11</th>\n",
       "      <td>12</td>\n",
       "      <td>Bowmasters</td>\n",
       "      <td>5471344</td>\n",
       "      <td>100.0</td>\n",
       "      <td>5</td>\n",
       "      <td>2.0</td>\n",
       "      <td>4.1</td>\n",
       "      <td>0.0</td>\n",
       "      <td>GAME ACTION</td>\n",
       "      <td>4319351</td>\n",
       "      <td>514574</td>\n",
       "      <td>229990</td>\n",
       "      <td>98901</td>\n",
       "      <td>308525</td>\n",
       "      <td>False</td>\n",
       "    </tr>\n",
       "    <tr>\n",
       "      <th>12</th>\n",
       "      <td>13</td>\n",
       "      <td>Standoff 2</td>\n",
       "      <td>4801658</td>\n",
       "      <td>50.0</td>\n",
       "      <td>5</td>\n",
       "      <td>3.0</td>\n",
       "      <td>7.6</td>\n",
       "      <td>0.0</td>\n",
       "      <td>GAME ACTION</td>\n",
       "      <td>3884644</td>\n",
       "      <td>365380</td>\n",
       "      <td>135150</td>\n",
       "      <td>65422</td>\n",
       "      <td>351059</td>\n",
       "      <td>False</td>\n",
       "    </tr>\n",
       "    <tr>\n",
       "      <th>15</th>\n",
       "      <td>16</td>\n",
       "      <td>Banana Kong</td>\n",
       "      <td>4496723</td>\n",
       "      <td>100.0</td>\n",
       "      <td>5</td>\n",
       "      <td>0.5</td>\n",
       "      <td>1.0</td>\n",
       "      <td>0.0</td>\n",
       "      <td>GAME ACTION</td>\n",
       "      <td>3497817</td>\n",
       "      <td>518453</td>\n",
       "      <td>223009</td>\n",
       "      <td>72115</td>\n",
       "      <td>185328</td>\n",
       "      <td>False</td>\n",
       "    </tr>\n",
       "    <tr>\n",
       "      <th>16</th>\n",
       "      <td>17</td>\n",
       "      <td>Crossy Road</td>\n",
       "      <td>4464668</td>\n",
       "      <td>100.0</td>\n",
       "      <td>5</td>\n",
       "      <td>0.1</td>\n",
       "      <td>0.2</td>\n",
       "      <td>0.0</td>\n",
       "      <td>GAME ACTION</td>\n",
       "      <td>3379550</td>\n",
       "      <td>576816</td>\n",
       "      <td>234463</td>\n",
       "      <td>68644</td>\n",
       "      <td>205194</td>\n",
       "      <td>False</td>\n",
       "    </tr>\n",
       "    <tr>\n",
       "      <th>44</th>\n",
       "      <td>45</td>\n",
       "      <td>Into the Dead</td>\n",
       "      <td>1714060</td>\n",
       "      <td>50.0</td>\n",
       "      <td>5</td>\n",
       "      <td>0.2</td>\n",
       "      <td>0.3</td>\n",
       "      <td>0.0</td>\n",
       "      <td>GAME ACTION</td>\n",
       "      <td>1307508</td>\n",
       "      <td>207492</td>\n",
       "      <td>77701</td>\n",
       "      <td>27838</td>\n",
       "      <td>93519</td>\n",
       "      <td>False</td>\n",
       "    </tr>\n",
       "    <tr>\n",
       "      <th>...</th>\n",
       "      <td>...</td>\n",
       "      <td>...</td>\n",
       "      <td>...</td>\n",
       "      <td>...</td>\n",
       "      <td>...</td>\n",
       "      <td>...</td>\n",
       "      <td>...</td>\n",
       "      <td>...</td>\n",
       "      <td>...</td>\n",
       "      <td>...</td>\n",
       "      <td>...</td>\n",
       "      <td>...</td>\n",
       "      <td>...</td>\n",
       "      <td>...</td>\n",
       "      <td>...</td>\n",
       "    </tr>\n",
       "    <tr>\n",
       "      <th>1721</th>\n",
       "      <td>92</td>\n",
       "      <td>Piknik Słowo - Word Snack</td>\n",
       "      <td>123095</td>\n",
       "      <td>1.0</td>\n",
       "      <td>5</td>\n",
       "      <td>0.1</td>\n",
       "      <td>0.2</td>\n",
       "      <td>0.0</td>\n",
       "      <td>GAME WORD</td>\n",
       "      <td>97069</td>\n",
       "      <td>17257</td>\n",
       "      <td>5147</td>\n",
       "      <td>1266</td>\n",
       "      <td>2354</td>\n",
       "      <td>False</td>\n",
       "    </tr>\n",
       "    <tr>\n",
       "      <th>1724</th>\n",
       "      <td>95</td>\n",
       "      <td>4 Fotos 1 Palavra</td>\n",
       "      <td>115437</td>\n",
       "      <td>5.0</td>\n",
       "      <td>5</td>\n",
       "      <td>0.2</td>\n",
       "      <td>0.5</td>\n",
       "      <td>0.0</td>\n",
       "      <td>GAME WORD</td>\n",
       "      <td>85169</td>\n",
       "      <td>16622</td>\n",
       "      <td>6802</td>\n",
       "      <td>1848</td>\n",
       "      <td>4994</td>\n",
       "      <td>False</td>\n",
       "    </tr>\n",
       "    <tr>\n",
       "      <th>1725</th>\n",
       "      <td>96</td>\n",
       "      <td>زوايا - لعبة ستحرك زوايا عقلك</td>\n",
       "      <td>112408</td>\n",
       "      <td>1.0</td>\n",
       "      <td>5</td>\n",
       "      <td>0.9</td>\n",
       "      <td>1.8</td>\n",
       "      <td>0.0</td>\n",
       "      <td>GAME WORD</td>\n",
       "      <td>101036</td>\n",
       "      <td>3607</td>\n",
       "      <td>3237</td>\n",
       "      <td>1229</td>\n",
       "      <td>3297</td>\n",
       "      <td>False</td>\n",
       "    </tr>\n",
       "    <tr>\n",
       "      <th>1726</th>\n",
       "      <td>97</td>\n",
       "      <td>Bible Word Puzzle - Free Bible Word Games</td>\n",
       "      <td>111595</td>\n",
       "      <td>1.0</td>\n",
       "      <td>5</td>\n",
       "      <td>0.9</td>\n",
       "      <td>2.3</td>\n",
       "      <td>0.0</td>\n",
       "      <td>GAME WORD</td>\n",
       "      <td>88950</td>\n",
       "      <td>14856</td>\n",
       "      <td>4297</td>\n",
       "      <td>1385</td>\n",
       "      <td>2103</td>\n",
       "      <td>False</td>\n",
       "    </tr>\n",
       "    <tr>\n",
       "      <th>1728</th>\n",
       "      <td>99</td>\n",
       "      <td>Word Nut: Word Puzzle Games &amp; Crosswords</td>\n",
       "      <td>109530</td>\n",
       "      <td>5.0</td>\n",
       "      <td>5</td>\n",
       "      <td>1.9</td>\n",
       "      <td>4.1</td>\n",
       "      <td>0.0</td>\n",
       "      <td>GAME WORD</td>\n",
       "      <td>99987</td>\n",
       "      <td>4766</td>\n",
       "      <td>1469</td>\n",
       "      <td>953</td>\n",
       "      <td>2353</td>\n",
       "      <td>False</td>\n",
       "    </tr>\n",
       "  </tbody>\n",
       "</table>\n",
       "<p>425 rows × 15 columns</p>\n",
       "</div>"
      ],
      "text/plain": [
       "      rank                                      title  total_ratings  \\\n",
       "11      12                                 Bowmasters        5471344   \n",
       "12      13                                 Standoff 2        4801658   \n",
       "15      16                                Banana Kong        4496723   \n",
       "16      17                                Crossy Road        4464668   \n",
       "44      45                              Into the Dead        1714060   \n",
       "...    ...                                        ...            ...   \n",
       "1721    92                  Piknik Słowo - Word Snack         123095   \n",
       "1724    95                          4 Fotos 1 Palavra         115437   \n",
       "1725    96              زوايا - لعبة ستحرك زوايا عقلك         112408   \n",
       "1726    97  Bible Word Puzzle - Free Bible Word Games         111595   \n",
       "1728    99   Word Nut: Word Puzzle Games & Crosswords         109530   \n",
       "\n",
       "      installs  average_rating  growth_30_days  growth_60_days  price  \\\n",
       "11       100.0               5             2.0             4.1    0.0   \n",
       "12        50.0               5             3.0             7.6    0.0   \n",
       "15       100.0               5             0.5             1.0    0.0   \n",
       "16       100.0               5             0.1             0.2    0.0   \n",
       "44        50.0               5             0.2             0.3    0.0   \n",
       "...        ...             ...             ...             ...    ...   \n",
       "1721       1.0               5             0.1             0.2    0.0   \n",
       "1724       5.0               5             0.2             0.5    0.0   \n",
       "1725       1.0               5             0.9             1.8    0.0   \n",
       "1726       1.0               5             0.9             2.3    0.0   \n",
       "1728       5.0               5             1.9             4.1    0.0   \n",
       "\n",
       "         category  5_star_ratings  4_star_ratings  3_star_ratings  \\\n",
       "11    GAME ACTION         4319351          514574          229990   \n",
       "12    GAME ACTION         3884644          365380          135150   \n",
       "15    GAME ACTION         3497817          518453          223009   \n",
       "16    GAME ACTION         3379550          576816          234463   \n",
       "44    GAME ACTION         1307508          207492           77701   \n",
       "...           ...             ...             ...             ...   \n",
       "1721    GAME WORD           97069           17257            5147   \n",
       "1724    GAME WORD           85169           16622            6802   \n",
       "1725    GAME WORD          101036            3607            3237   \n",
       "1726    GAME WORD           88950           14856            4297   \n",
       "1728    GAME WORD           99987            4766            1469   \n",
       "\n",
       "      2_star_ratings  1_star_ratings   paid  \n",
       "11             98901          308525  False  \n",
       "12             65422          351059  False  \n",
       "15             72115          185328  False  \n",
       "16             68644          205194  False  \n",
       "44             27838           93519  False  \n",
       "...              ...             ...    ...  \n",
       "1721            1266            2354  False  \n",
       "1724            1848            4994  False  \n",
       "1725            1229            3297  False  \n",
       "1726            1385            2103  False  \n",
       "1728             953            2353  False  \n",
       "\n",
       "[425 rows x 15 columns]"
      ]
     },
     "execution_count": 49,
     "metadata": {},
     "output_type": "execute_result"
    }
   ],
   "source": [
    "df[df['average_rating'] == 5]"
   ]
  },
  {
   "cell_type": "code",
   "execution_count": 50,
   "id": "59719934",
   "metadata": {},
   "outputs": [
    {
     "data": {
      "text/plain": [
       "GAME CARD            61\n",
       "GAME WORD            55\n",
       "GAME CASINO          45\n",
       "GAME PUZZLE          34\n",
       "GAME BOARD           31\n",
       "GAME SIMULATION      25\n",
       "GAME TRIVIA          24\n",
       "GAME CASUAL          22\n",
       "GAME ROLE PLAYING    20\n",
       "GAME ADVENTURE       19\n",
       "GAME MUSIC           18\n",
       "GAME STRATEGY        15\n",
       "GAME ARCADE          15\n",
       "GAME RACING          11\n",
       "GAME EDUCATIONAL     10\n",
       "GAME SPORTS          10\n",
       "GAME ACTION          10\n",
       "Name: category, dtype: int64"
      ]
     },
     "execution_count": 50,
     "metadata": {},
     "output_type": "execute_result"
    }
   ],
   "source": [
    "df[df['average_rating'] == 5].category.value_counts()"
   ]
  },
  {
   "cell_type": "code",
   "execution_count": 51,
   "id": "fe8827d6",
   "metadata": {},
   "outputs": [
    {
     "data": {
      "text/plain": [
       "GAME EDUCATIONAL     90\n",
       "GAME ACTION          89\n",
       "GAME SPORTS          89\n",
       "GAME RACING          89\n",
       "GAME ARCADE          85\n",
       "GAME STRATEGY        85\n",
       "GAME ADVENTURE       80\n",
       "GAME ROLE PLAYING    80\n",
       "GAME MUSIC           80\n",
       "GAME CASUAL          78\n",
       "GAME SIMULATION      74\n",
       "GAME TRIVIA          72\n",
       "GAME BOARD           68\n",
       "GAME PUZZLE          66\n",
       "GAME CARD            65\n",
       "GAME CASINO          54\n",
       "GAME WORD            48\n",
       "Name: category, dtype: int64"
      ]
     },
     "execution_count": 51,
     "metadata": {},
     "output_type": "execute_result"
    }
   ],
   "source": [
    "df[df['average_rating'] == 4].category.value_counts()"
   ]
  },
  {
   "cell_type": "code",
   "execution_count": 52,
   "id": "151a70a2",
   "metadata": {},
   "outputs": [
    {
     "data": {
      "text/plain": [
       "GAME TRIVIA        4\n",
       "GAME MUSIC         2\n",
       "GAME ACTION        1\n",
       "GAME ADVENTURE     1\n",
       "GAME BOARD         1\n",
       "GAME CASINO        1\n",
       "GAME SIMULATION    1\n",
       "GAME SPORTS        1\n",
       "GAME WORD          1\n",
       "Name: category, dtype: int64"
      ]
     },
     "execution_count": 52,
     "metadata": {},
     "output_type": "execute_result"
    }
   ],
   "source": [
    "df[df['average_rating'] == 3].category.value_counts()"
   ]
  },
  {
   "cell_type": "markdown",
   "id": "c38d594d",
   "metadata": {},
   "source": [
    "## growth_30_days"
   ]
  },
  {
   "cell_type": "code",
   "execution_count": 53,
   "id": "929b942f",
   "metadata": {},
   "outputs": [
    {
     "data": {
      "text/plain": [
       "0.0         269\n",
       "0.1         234\n",
       "0.2         137\n",
       "0.3         114\n",
       "0.4          87\n",
       "           ... \n",
       "28062.9       1\n",
       "37994.4       1\n",
       "55880.6       1\n",
       "69928.5       1\n",
       "227105.7      1\n",
       "Name: growth_30_days, Length: 186, dtype: int64"
      ]
     },
     "execution_count": 53,
     "metadata": {},
     "output_type": "execute_result"
    }
   ],
   "source": [
    "df['growth_30_days'].value_counts().sort_index()"
   ]
  },
  {
   "cell_type": "markdown",
   "id": "d747f9f7",
   "metadata": {},
   "source": [
    "* I analysed the data where columns 'growth (30 days)' is 0\n",
    "\n",
    "* And as it appears, GAME TRIVIA is the top for both column"
   ]
  },
  {
   "cell_type": "code",
   "execution_count": 54,
   "id": "45bcad48",
   "metadata": {},
   "outputs": [
    {
     "data": {
      "text/plain": [
       "GAME TRIVIA          36\n",
       "GAME WORD            22\n",
       "GAME PUZZLE          19\n",
       "GAME STRATEGY        19\n",
       "GAME CARD            19\n",
       "GAME ROLE PLAYING    18\n",
       "GAME CASUAL          17\n",
       "GAME SPORTS          15\n",
       "GAME RACING          15\n",
       "GAME MUSIC           15\n",
       "GAME CASINO          15\n",
       "GAME BOARD           13\n",
       "GAME ADVENTURE       12\n",
       "GAME ARCADE          12\n",
       "GAME SIMULATION      11\n",
       "GAME EDUCATIONAL      6\n",
       "GAME ACTION           5\n",
       "Name: category, dtype: int64"
      ]
     },
     "execution_count": 54,
     "metadata": {},
     "output_type": "execute_result"
    }
   ],
   "source": [
    "df[df['growth_30_days'] == 0].category.value_counts()"
   ]
  },
  {
   "cell_type": "markdown",
   "id": "f8862f62",
   "metadata": {},
   "source": [
    "* I analysed the maximum first 100 and 500 data of columns 'growth (30 days)'  \n",
    "* And as it appears, categories of GAME EDUCATIONAL, GAME BOARD, GAME MUSIC are most growing categories\n",
    "* I didn't get a good result when i got first 100 datas, so i worked with 500 datas"
   ]
  },
  {
   "cell_type": "code",
   "execution_count": 55,
   "id": "9344275c",
   "metadata": {},
   "outputs": [
    {
     "data": {
      "text/plain": [
       "GAME TRIVIA          10\n",
       "GAME PUZZLE           9\n",
       "GAME ROLE PLAYING     8\n",
       "GAME ADVENTURE        8\n",
       "GAME EDUCATIONAL      8\n",
       "GAME CASINO           7\n",
       "GAME MUSIC            7\n",
       "GAME CASUAL           6\n",
       "GAME ARCADE           6\n",
       "GAME RACING           6\n",
       "GAME BOARD            5\n",
       "GAME SPORTS           5\n",
       "GAME WORD             5\n",
       "GAME CARD             3\n",
       "GAME STRATEGY         3\n",
       "GAME SIMULATION       2\n",
       "GAME ACTION           2\n",
       "Name: category, dtype: int64"
      ]
     },
     "execution_count": 55,
     "metadata": {},
     "output_type": "execute_result"
    }
   ],
   "source": [
    "df.loc[df['growth_30_days'].sort_values(ascending=False)[:100].index].category.value_counts()"
   ]
  },
  {
   "cell_type": "code",
   "execution_count": 56,
   "id": "8a0b33ca",
   "metadata": {},
   "outputs": [
    {
     "data": {
      "text/plain": [
       "GAME EDUCATIONAL     65\n",
       "GAME BOARD           39\n",
       "GAME MUSIC           35\n",
       "GAME ROLE PLAYING    35\n",
       "GAME ACTION          30\n",
       "GAME SIMULATION      28\n",
       "GAME ARCADE          27\n",
       "GAME CARD            27\n",
       "GAME ADVENTURE       27\n",
       "GAME RACING          27\n",
       "GAME SPORTS          26\n",
       "GAME TRIVIA          26\n",
       "GAME CASINO          24\n",
       "GAME PUZZLE          24\n",
       "GAME WORD            21\n",
       "GAME CASUAL          20\n",
       "GAME STRATEGY        19\n",
       "Name: category, dtype: int64"
      ]
     },
     "execution_count": 56,
     "metadata": {},
     "output_type": "execute_result"
    }
   ],
   "source": [
    "df.loc[df['growth_30_days'].sort_values(ascending=False)[:500].index].category.value_counts()"
   ]
  },
  {
   "cell_type": "markdown",
   "id": "f6984d34",
   "metadata": {},
   "source": [
    "* I analysed the installation numbers of the datas that 'growth (60 days)' > 'growth (30 days)' and 'growth (60 days)'  < 'growth (30 days)'"
   ]
  },
  {
   "cell_type": "code",
   "execution_count": 57,
   "id": "2c2cb349",
   "metadata": {
    "scrolled": true
   },
   "outputs": [
    {
     "data": {
      "text/html": [
       "<div>\n",
       "<style scoped>\n",
       "    .dataframe tbody tr th:only-of-type {\n",
       "        vertical-align: middle;\n",
       "    }\n",
       "\n",
       "    .dataframe tbody tr th {\n",
       "        vertical-align: top;\n",
       "    }\n",
       "\n",
       "    .dataframe thead th {\n",
       "        text-align: right;\n",
       "    }\n",
       "</style>\n",
       "<table border=\"1\" class=\"dataframe\">\n",
       "  <thead>\n",
       "    <tr style=\"text-align: right;\">\n",
       "      <th></th>\n",
       "      <th>rank</th>\n",
       "      <th>title</th>\n",
       "      <th>total_ratings</th>\n",
       "      <th>installs</th>\n",
       "      <th>average_rating</th>\n",
       "      <th>growth_30_days</th>\n",
       "      <th>growth_60_days</th>\n",
       "      <th>price</th>\n",
       "      <th>category</th>\n",
       "      <th>5_star_ratings</th>\n",
       "      <th>4_star_ratings</th>\n",
       "      <th>3_star_ratings</th>\n",
       "      <th>2_star_ratings</th>\n",
       "      <th>1_star_ratings</th>\n",
       "      <th>paid</th>\n",
       "    </tr>\n",
       "  </thead>\n",
       "  <tbody>\n",
       "    <tr>\n",
       "      <th>532</th>\n",
       "      <td>7</td>\n",
       "      <td>Scatter Slots - Las Vegas Casino Game 777 Online</td>\n",
       "      <td>1259099</td>\n",
       "      <td>10.0</td>\n",
       "      <td>5</td>\n",
       "      <td>0.9</td>\n",
       "      <td>1.9</td>\n",
       "      <td>0.0</td>\n",
       "      <td>GAME CASINO</td>\n",
       "      <td>933699</td>\n",
       "      <td>202401</td>\n",
       "      <td>78707</td>\n",
       "      <td>14826</td>\n",
       "      <td>29463</td>\n",
       "      <td>False</td>\n",
       "    </tr>\n",
       "    <tr>\n",
       "      <th>1147</th>\n",
       "      <td>22</td>\n",
       "      <td>FINAL FANTASY BRAVE EXVIUS</td>\n",
       "      <td>825827</td>\n",
       "      <td>10.0</td>\n",
       "      <td>4</td>\n",
       "      <td>0.2</td>\n",
       "      <td>0.3</td>\n",
       "      <td>0.0</td>\n",
       "      <td>GAME ROLE PLAYING</td>\n",
       "      <td>527674</td>\n",
       "      <td>133134</td>\n",
       "      <td>51983</td>\n",
       "      <td>25372</td>\n",
       "      <td>87661</td>\n",
       "      <td>False</td>\n",
       "    </tr>\n",
       "    <tr>\n",
       "      <th>1283</th>\n",
       "      <td>58</td>\n",
       "      <td>Car Simulator 2</td>\n",
       "      <td>593269</td>\n",
       "      <td>10.0</td>\n",
       "      <td>4</td>\n",
       "      <td>3.9</td>\n",
       "      <td>8.6</td>\n",
       "      <td>0.0</td>\n",
       "      <td>GAME SIMULATION</td>\n",
       "      <td>459452</td>\n",
       "      <td>47555</td>\n",
       "      <td>22115</td>\n",
       "      <td>13771</td>\n",
       "      <td>50373</td>\n",
       "      <td>False</td>\n",
       "    </tr>\n",
       "    <tr>\n",
       "      <th>919</th>\n",
       "      <td>94</td>\n",
       "      <td>Harmonium</td>\n",
       "      <td>36046</td>\n",
       "      <td>10.0</td>\n",
       "      <td>4</td>\n",
       "      <td>2.9</td>\n",
       "      <td>6.0</td>\n",
       "      <td>0.0</td>\n",
       "      <td>GAME MUSIC</td>\n",
       "      <td>26252</td>\n",
       "      <td>3277</td>\n",
       "      <td>1873</td>\n",
       "      <td>886</td>\n",
       "      <td>3756</td>\n",
       "      <td>False</td>\n",
       "    </tr>\n",
       "    <tr>\n",
       "      <th>31</th>\n",
       "      <td>32</td>\n",
       "      <td>GUNSHIP BATTLE: Helicopter 3D</td>\n",
       "      <td>2380639</td>\n",
       "      <td>50.0</td>\n",
       "      <td>4</td>\n",
       "      <td>0.2</td>\n",
       "      <td>0.3</td>\n",
       "      <td>0.0</td>\n",
       "      <td>GAME ACTION</td>\n",
       "      <td>1582549</td>\n",
       "      <td>267812</td>\n",
       "      <td>149090</td>\n",
       "      <td>73581</td>\n",
       "      <td>307605</td>\n",
       "      <td>False</td>\n",
       "    </tr>\n",
       "    <tr>\n",
       "      <th>1601</th>\n",
       "      <td>76</td>\n",
       "      <td>Se como Jose</td>\n",
       "      <td>57326</td>\n",
       "      <td>1.0</td>\n",
       "      <td>4</td>\n",
       "      <td>0.5</td>\n",
       "      <td>1.2</td>\n",
       "      <td>0.0</td>\n",
       "      <td>GAME TRIVIA</td>\n",
       "      <td>43019</td>\n",
       "      <td>4258</td>\n",
       "      <td>2199</td>\n",
       "      <td>1249</td>\n",
       "      <td>6598</td>\n",
       "      <td>False</td>\n",
       "    </tr>\n",
       "    <tr>\n",
       "      <th>485</th>\n",
       "      <td>67</td>\n",
       "      <td>三國殺名將傳</td>\n",
       "      <td>137405</td>\n",
       "      <td>0.5</td>\n",
       "      <td>4</td>\n",
       "      <td>0.2</td>\n",
       "      <td>0.4</td>\n",
       "      <td>0.0</td>\n",
       "      <td>GAME CARD</td>\n",
       "      <td>92609</td>\n",
       "      <td>18503</td>\n",
       "      <td>10976</td>\n",
       "      <td>3668</td>\n",
       "      <td>11646</td>\n",
       "      <td>False</td>\n",
       "    </tr>\n",
       "    <tr>\n",
       "      <th>589</th>\n",
       "      <td>64</td>\n",
       "      <td>Poker Texas Boyaa</td>\n",
       "      <td>146663</td>\n",
       "      <td>5.0</td>\n",
       "      <td>4</td>\n",
       "      <td>0.1</td>\n",
       "      <td>0.2</td>\n",
       "      <td>0.0</td>\n",
       "      <td>GAME CASINO</td>\n",
       "      <td>84613</td>\n",
       "      <td>13974</td>\n",
       "      <td>13184</td>\n",
       "      <td>5793</td>\n",
       "      <td>29096</td>\n",
       "      <td>False</td>\n",
       "    </tr>\n",
       "    <tr>\n",
       "      <th>679</th>\n",
       "      <td>54</td>\n",
       "      <td>Covet Fashion - Dress Up Game</td>\n",
       "      <td>752953</td>\n",
       "      <td>10.0</td>\n",
       "      <td>4</td>\n",
       "      <td>0.4</td>\n",
       "      <td>0.6</td>\n",
       "      <td>0.0</td>\n",
       "      <td>GAME CASUAL</td>\n",
       "      <td>419680</td>\n",
       "      <td>145021</td>\n",
       "      <td>65512</td>\n",
       "      <td>34343</td>\n",
       "      <td>88394</td>\n",
       "      <td>False</td>\n",
       "    </tr>\n",
       "    <tr>\n",
       "      <th>863</th>\n",
       "      <td>38</td>\n",
       "      <td>Just Dance Now</td>\n",
       "      <td>130471</td>\n",
       "      <td>10.0</td>\n",
       "      <td>4</td>\n",
       "      <td>0.5</td>\n",
       "      <td>1.0</td>\n",
       "      <td>0.0</td>\n",
       "      <td>GAME MUSIC</td>\n",
       "      <td>78352</td>\n",
       "      <td>11517</td>\n",
       "      <td>8268</td>\n",
       "      <td>6388</td>\n",
       "      <td>25944</td>\n",
       "      <td>False</td>\n",
       "    </tr>\n",
       "    <tr>\n",
       "      <th>427</th>\n",
       "      <td>19</td>\n",
       "      <td>Solitaire</td>\n",
       "      <td>406124</td>\n",
       "      <td>10.0</td>\n",
       "      <td>5</td>\n",
       "      <td>0.3</td>\n",
       "      <td>0.7</td>\n",
       "      <td>0.0</td>\n",
       "      <td>GAME CARD</td>\n",
       "      <td>1117298</td>\n",
       "      <td>308402</td>\n",
       "      <td>82191</td>\n",
       "      <td>25750</td>\n",
       "      <td>57090</td>\n",
       "      <td>False</td>\n",
       "    </tr>\n",
       "    <tr>\n",
       "      <th>1153</th>\n",
       "      <td>28</td>\n",
       "      <td>Super Stylist - Makeover &amp; Style Fashion Guru</td>\n",
       "      <td>667980</td>\n",
       "      <td>50.0</td>\n",
       "      <td>4</td>\n",
       "      <td>4.1</td>\n",
       "      <td>8.2</td>\n",
       "      <td>0.0</td>\n",
       "      <td>GAME ROLE PLAYING</td>\n",
       "      <td>460506</td>\n",
       "      <td>85901</td>\n",
       "      <td>42462</td>\n",
       "      <td>21843</td>\n",
       "      <td>57264</td>\n",
       "      <td>False</td>\n",
       "    </tr>\n",
       "    <tr>\n",
       "      <th>320</th>\n",
       "      <td>21</td>\n",
       "      <td>LANDLORD TYCOON Business Management Investing ...</td>\n",
       "      <td>467655</td>\n",
       "      <td>5.0</td>\n",
       "      <td>4</td>\n",
       "      <td>0.4</td>\n",
       "      <td>0.8</td>\n",
       "      <td>0.0</td>\n",
       "      <td>GAME BOARD</td>\n",
       "      <td>339411</td>\n",
       "      <td>65520</td>\n",
       "      <td>18573</td>\n",
       "      <td>8821</td>\n",
       "      <td>35327</td>\n",
       "      <td>False</td>\n",
       "    </tr>\n",
       "    <tr>\n",
       "      <th>936</th>\n",
       "      <td>11</td>\n",
       "      <td>Disney Frozen Free Fall - Play Frozen Puzzle G...</td>\n",
       "      <td>1713085</td>\n",
       "      <td>50.0</td>\n",
       "      <td>5</td>\n",
       "      <td>0.1</td>\n",
       "      <td>0.2</td>\n",
       "      <td>0.0</td>\n",
       "      <td>GAME PUZZLE</td>\n",
       "      <td>1268094</td>\n",
       "      <td>258390</td>\n",
       "      <td>86945</td>\n",
       "      <td>28762</td>\n",
       "      <td>70892</td>\n",
       "      <td>False</td>\n",
       "    </tr>\n",
       "    <tr>\n",
       "      <th>437</th>\n",
       "      <td>26</td>\n",
       "      <td>GWENT: The Witcher Card Game</td>\n",
       "      <td>320403</td>\n",
       "      <td>1.0</td>\n",
       "      <td>5</td>\n",
       "      <td>2.1</td>\n",
       "      <td>4.7</td>\n",
       "      <td>0.0</td>\n",
       "      <td>GAME CARD</td>\n",
       "      <td>253370</td>\n",
       "      <td>43423</td>\n",
       "      <td>9203</td>\n",
       "      <td>3437</td>\n",
       "      <td>10967</td>\n",
       "      <td>False</td>\n",
       "    </tr>\n",
       "    <tr>\n",
       "      <th>1329</th>\n",
       "      <td>4</td>\n",
       "      <td>eFootball PES 2021</td>\n",
       "      <td>6633030</td>\n",
       "      <td>50.0</td>\n",
       "      <td>4</td>\n",
       "      <td>3.3</td>\n",
       "      <td>7.4</td>\n",
       "      <td>0.0</td>\n",
       "      <td>GAME SPORTS</td>\n",
       "      <td>4847463</td>\n",
       "      <td>639852</td>\n",
       "      <td>315999</td>\n",
       "      <td>158995</td>\n",
       "      <td>670718</td>\n",
       "      <td>False</td>\n",
       "    </tr>\n",
       "    <tr>\n",
       "      <th>522</th>\n",
       "      <td>97</td>\n",
       "      <td>Otogi: Spirit Agents</td>\n",
       "      <td>91698</td>\n",
       "      <td>1.0</td>\n",
       "      <td>4</td>\n",
       "      <td>0.0</td>\n",
       "      <td>0.1</td>\n",
       "      <td>0.0</td>\n",
       "      <td>GAME CARD</td>\n",
       "      <td>59670</td>\n",
       "      <td>16308</td>\n",
       "      <td>6950</td>\n",
       "      <td>2426</td>\n",
       "      <td>6341</td>\n",
       "      <td>False</td>\n",
       "    </tr>\n",
       "    <tr>\n",
       "      <th>158</th>\n",
       "      <td>59</td>\n",
       "      <td>Diamond Quest: Don't Rush!</td>\n",
       "      <td>276333</td>\n",
       "      <td>10.0</td>\n",
       "      <td>4</td>\n",
       "      <td>0.5</td>\n",
       "      <td>1.2</td>\n",
       "      <td>0.0</td>\n",
       "      <td>GAME ADVENTURE</td>\n",
       "      <td>202494</td>\n",
       "      <td>37063</td>\n",
       "      <td>16735</td>\n",
       "      <td>6257</td>\n",
       "      <td>13781</td>\n",
       "      <td>False</td>\n",
       "    </tr>\n",
       "    <tr>\n",
       "      <th>342</th>\n",
       "      <td>43</td>\n",
       "      <td>Yalla Ludo - Ludo&amp;Domino</td>\n",
       "      <td>256773</td>\n",
       "      <td>50.0</td>\n",
       "      <td>4</td>\n",
       "      <td>8.2</td>\n",
       "      <td>20.5</td>\n",
       "      <td>0.0</td>\n",
       "      <td>GAME BOARD</td>\n",
       "      <td>195552</td>\n",
       "      <td>14301</td>\n",
       "      <td>10068</td>\n",
       "      <td>6125</td>\n",
       "      <td>30724</td>\n",
       "      <td>False</td>\n",
       "    </tr>\n",
       "    <tr>\n",
       "      <th>312</th>\n",
       "      <td>13</td>\n",
       "      <td>Chess - Play and Learn</td>\n",
       "      <td>615530</td>\n",
       "      <td>10.0</td>\n",
       "      <td>5</td>\n",
       "      <td>7.8</td>\n",
       "      <td>15.8</td>\n",
       "      <td>0.0</td>\n",
       "      <td>GAME BOARD</td>\n",
       "      <td>493766</td>\n",
       "      <td>68026</td>\n",
       "      <td>19325</td>\n",
       "      <td>7219</td>\n",
       "      <td>27192</td>\n",
       "      <td>False</td>\n",
       "    </tr>\n",
       "    <tr>\n",
       "      <th>272</th>\n",
       "      <td>73</td>\n",
       "      <td>Fernanfloo</td>\n",
       "      <td>609853</td>\n",
       "      <td>10.0</td>\n",
       "      <td>5</td>\n",
       "      <td>0.2</td>\n",
       "      <td>0.4</td>\n",
       "      <td>0.0</td>\n",
       "      <td>GAME ARCADE</td>\n",
       "      <td>522395</td>\n",
       "      <td>32985</td>\n",
       "      <td>15337</td>\n",
       "      <td>7428</td>\n",
       "      <td>31705</td>\n",
       "      <td>False</td>\n",
       "    </tr>\n",
       "    <tr>\n",
       "      <th>1271</th>\n",
       "      <td>46</td>\n",
       "      <td>Hotel Story: Resort Simulation</td>\n",
       "      <td>671111</td>\n",
       "      <td>10.0</td>\n",
       "      <td>4</td>\n",
       "      <td>0.1</td>\n",
       "      <td>0.2</td>\n",
       "      <td>0.0</td>\n",
       "      <td>GAME SIMULATION</td>\n",
       "      <td>464483</td>\n",
       "      <td>85302</td>\n",
       "      <td>54588</td>\n",
       "      <td>19605</td>\n",
       "      <td>47130</td>\n",
       "      <td>False</td>\n",
       "    </tr>\n",
       "    <tr>\n",
       "      <th>722</th>\n",
       "      <td>97</td>\n",
       "      <td>Bravoloto</td>\n",
       "      <td>381919</td>\n",
       "      <td>5.0</td>\n",
       "      <td>5</td>\n",
       "      <td>0.1</td>\n",
       "      <td>0.2</td>\n",
       "      <td>0.0</td>\n",
       "      <td>GAME CASUAL</td>\n",
       "      <td>316246</td>\n",
       "      <td>31810</td>\n",
       "      <td>9963</td>\n",
       "      <td>5205</td>\n",
       "      <td>18692</td>\n",
       "      <td>False</td>\n",
       "    </tr>\n",
       "    <tr>\n",
       "      <th>634</th>\n",
       "      <td>9</td>\n",
       "      <td>Farm Heroes Saga</td>\n",
       "      <td>9123920</td>\n",
       "      <td>100.0</td>\n",
       "      <td>5</td>\n",
       "      <td>0.6</td>\n",
       "      <td>1.2</td>\n",
       "      <td>0.0</td>\n",
       "      <td>GAME CASUAL</td>\n",
       "      <td>7097079</td>\n",
       "      <td>1176491</td>\n",
       "      <td>433227</td>\n",
       "      <td>128489</td>\n",
       "      <td>288631</td>\n",
       "      <td>False</td>\n",
       "    </tr>\n",
       "    <tr>\n",
       "      <th>378</th>\n",
       "      <td>79</td>\n",
       "      <td>Carrom 3D</td>\n",
       "      <td>111627</td>\n",
       "      <td>10.0</td>\n",
       "      <td>4</td>\n",
       "      <td>0.2</td>\n",
       "      <td>0.5</td>\n",
       "      <td>0.0</td>\n",
       "      <td>GAME BOARD</td>\n",
       "      <td>66986</td>\n",
       "      <td>11332</td>\n",
       "      <td>7797</td>\n",
       "      <td>4952</td>\n",
       "      <td>20558</td>\n",
       "      <td>False</td>\n",
       "    </tr>\n",
       "    <tr>\n",
       "      <th>1028</th>\n",
       "      <td>3</td>\n",
       "      <td>Traffic Racer</td>\n",
       "      <td>6062833</td>\n",
       "      <td>100.0</td>\n",
       "      <td>4</td>\n",
       "      <td>0.3</td>\n",
       "      <td>0.5</td>\n",
       "      <td>0.0</td>\n",
       "      <td>GAME RACING</td>\n",
       "      <td>4580870</td>\n",
       "      <td>581388</td>\n",
       "      <td>308448</td>\n",
       "      <td>145729</td>\n",
       "      <td>446396</td>\n",
       "      <td>False</td>\n",
       "    </tr>\n",
       "    <tr>\n",
       "      <th>451</th>\n",
       "      <td>40</td>\n",
       "      <td>Solitaire TriPeaks Journey - Klondike Card Games</td>\n",
       "      <td>205537</td>\n",
       "      <td>5.0</td>\n",
       "      <td>5</td>\n",
       "      <td>1.6</td>\n",
       "      <td>3.4</td>\n",
       "      <td>0.0</td>\n",
       "      <td>GAME CARD</td>\n",
       "      <td>156282</td>\n",
       "      <td>28591</td>\n",
       "      <td>12716</td>\n",
       "      <td>3029</td>\n",
       "      <td>4918</td>\n",
       "      <td>False</td>\n",
       "    </tr>\n",
       "    <tr>\n",
       "      <th>1390</th>\n",
       "      <td>65</td>\n",
       "      <td>Volleyball Champions 3D - Online Sports Game</td>\n",
       "      <td>446911</td>\n",
       "      <td>10.0</td>\n",
       "      <td>4</td>\n",
       "      <td>0.1</td>\n",
       "      <td>0.3</td>\n",
       "      <td>0.0</td>\n",
       "      <td>GAME SPORTS</td>\n",
       "      <td>272730</td>\n",
       "      <td>64568</td>\n",
       "      <td>43604</td>\n",
       "      <td>17995</td>\n",
       "      <td>48011</td>\n",
       "      <td>False</td>\n",
       "    </tr>\n",
       "    <tr>\n",
       "      <th>959</th>\n",
       "      <td>34</td>\n",
       "      <td>Tower of Saviors</td>\n",
       "      <td>941228</td>\n",
       "      <td>10.0</td>\n",
       "      <td>4</td>\n",
       "      <td>0.1</td>\n",
       "      <td>0.4</td>\n",
       "      <td>0.0</td>\n",
       "      <td>GAME PUZZLE</td>\n",
       "      <td>622828</td>\n",
       "      <td>101496</td>\n",
       "      <td>47377</td>\n",
       "      <td>20562</td>\n",
       "      <td>148963</td>\n",
       "      <td>False</td>\n",
       "    </tr>\n",
       "    <tr>\n",
       "      <th>1244</th>\n",
       "      <td>19</td>\n",
       "      <td>Bus Simulator : Ultimate</td>\n",
       "      <td>1218642</td>\n",
       "      <td>50.0</td>\n",
       "      <td>4</td>\n",
       "      <td>7.3</td>\n",
       "      <td>11.4</td>\n",
       "      <td>0.0</td>\n",
       "      <td>GAME SIMULATION</td>\n",
       "      <td>852661</td>\n",
       "      <td>133280</td>\n",
       "      <td>68279</td>\n",
       "      <td>38685</td>\n",
       "      <td>125734</td>\n",
       "      <td>False</td>\n",
       "    </tr>\n",
       "  </tbody>\n",
       "</table>\n",
       "</div>"
      ],
      "text/plain": [
       "      rank                                              title  total_ratings  \\\n",
       "532      7   Scatter Slots - Las Vegas Casino Game 777 Online        1259099   \n",
       "1147    22                         FINAL FANTASY BRAVE EXVIUS         825827   \n",
       "1283    58                                    Car Simulator 2         593269   \n",
       "919     94                                          Harmonium          36046   \n",
       "31      32                      GUNSHIP BATTLE: Helicopter 3D        2380639   \n",
       "1601    76                                       Se como Jose          57326   \n",
       "485     67                                             三國殺名將傳         137405   \n",
       "589     64                                  Poker Texas Boyaa         146663   \n",
       "679     54                      Covet Fashion - Dress Up Game         752953   \n",
       "863     38                                     Just Dance Now         130471   \n",
       "427     19                                          Solitaire         406124   \n",
       "1153    28      Super Stylist - Makeover & Style Fashion Guru         667980   \n",
       "320     21  LANDLORD TYCOON Business Management Investing ...         467655   \n",
       "936     11  Disney Frozen Free Fall - Play Frozen Puzzle G...        1713085   \n",
       "437     26                       GWENT: The Witcher Card Game         320403   \n",
       "1329     4                                 eFootball PES 2021        6633030   \n",
       "522     97                               Otogi: Spirit Agents          91698   \n",
       "158     59                         Diamond Quest: Don't Rush!         276333   \n",
       "342     43                           Yalla Ludo - Ludo&Domino         256773   \n",
       "312     13                             Chess - Play and Learn         615530   \n",
       "272     73                                         Fernanfloo         609853   \n",
       "1271    46                     Hotel Story: Resort Simulation         671111   \n",
       "722     97                                          Bravoloto         381919   \n",
       "634      9                                   Farm Heroes Saga        9123920   \n",
       "378     79                                          Carrom 3D         111627   \n",
       "1028     3                                      Traffic Racer        6062833   \n",
       "451     40   Solitaire TriPeaks Journey - Klondike Card Games         205537   \n",
       "1390    65       Volleyball Champions 3D - Online Sports Game         446911   \n",
       "959     34                                   Tower of Saviors         941228   \n",
       "1244    19                           Bus Simulator : Ultimate        1218642   \n",
       "\n",
       "      installs  average_rating  growth_30_days  growth_60_days  price  \\\n",
       "532       10.0               5             0.9             1.9    0.0   \n",
       "1147      10.0               4             0.2             0.3    0.0   \n",
       "1283      10.0               4             3.9             8.6    0.0   \n",
       "919       10.0               4             2.9             6.0    0.0   \n",
       "31        50.0               4             0.2             0.3    0.0   \n",
       "1601       1.0               4             0.5             1.2    0.0   \n",
       "485        0.5               4             0.2             0.4    0.0   \n",
       "589        5.0               4             0.1             0.2    0.0   \n",
       "679       10.0               4             0.4             0.6    0.0   \n",
       "863       10.0               4             0.5             1.0    0.0   \n",
       "427       10.0               5             0.3             0.7    0.0   \n",
       "1153      50.0               4             4.1             8.2    0.0   \n",
       "320        5.0               4             0.4             0.8    0.0   \n",
       "936       50.0               5             0.1             0.2    0.0   \n",
       "437        1.0               5             2.1             4.7    0.0   \n",
       "1329      50.0               4             3.3             7.4    0.0   \n",
       "522        1.0               4             0.0             0.1    0.0   \n",
       "158       10.0               4             0.5             1.2    0.0   \n",
       "342       50.0               4             8.2            20.5    0.0   \n",
       "312       10.0               5             7.8            15.8    0.0   \n",
       "272       10.0               5             0.2             0.4    0.0   \n",
       "1271      10.0               4             0.1             0.2    0.0   \n",
       "722        5.0               5             0.1             0.2    0.0   \n",
       "634      100.0               5             0.6             1.2    0.0   \n",
       "378       10.0               4             0.2             0.5    0.0   \n",
       "1028     100.0               4             0.3             0.5    0.0   \n",
       "451        5.0               5             1.6             3.4    0.0   \n",
       "1390      10.0               4             0.1             0.3    0.0   \n",
       "959       10.0               4             0.1             0.4    0.0   \n",
       "1244      50.0               4             7.3            11.4    0.0   \n",
       "\n",
       "               category  5_star_ratings  4_star_ratings  3_star_ratings  \\\n",
       "532         GAME CASINO          933699          202401           78707   \n",
       "1147  GAME ROLE PLAYING          527674          133134           51983   \n",
       "1283    GAME SIMULATION          459452           47555           22115   \n",
       "919          GAME MUSIC           26252            3277            1873   \n",
       "31          GAME ACTION         1582549          267812          149090   \n",
       "1601        GAME TRIVIA           43019            4258            2199   \n",
       "485           GAME CARD           92609           18503           10976   \n",
       "589         GAME CASINO           84613           13974           13184   \n",
       "679         GAME CASUAL          419680          145021           65512   \n",
       "863          GAME MUSIC           78352           11517            8268   \n",
       "427           GAME CARD         1117298          308402           82191   \n",
       "1153  GAME ROLE PLAYING          460506           85901           42462   \n",
       "320          GAME BOARD          339411           65520           18573   \n",
       "936         GAME PUZZLE         1268094          258390           86945   \n",
       "437           GAME CARD          253370           43423            9203   \n",
       "1329        GAME SPORTS         4847463          639852          315999   \n",
       "522           GAME CARD           59670           16308            6950   \n",
       "158      GAME ADVENTURE          202494           37063           16735   \n",
       "342          GAME BOARD          195552           14301           10068   \n",
       "312          GAME BOARD          493766           68026           19325   \n",
       "272         GAME ARCADE          522395           32985           15337   \n",
       "1271    GAME SIMULATION          464483           85302           54588   \n",
       "722         GAME CASUAL          316246           31810            9963   \n",
       "634         GAME CASUAL         7097079         1176491          433227   \n",
       "378          GAME BOARD           66986           11332            7797   \n",
       "1028        GAME RACING         4580870          581388          308448   \n",
       "451           GAME CARD          156282           28591           12716   \n",
       "1390        GAME SPORTS          272730           64568           43604   \n",
       "959         GAME PUZZLE          622828          101496           47377   \n",
       "1244    GAME SIMULATION          852661          133280           68279   \n",
       "\n",
       "      2_star_ratings  1_star_ratings   paid  \n",
       "532            14826           29463  False  \n",
       "1147           25372           87661  False  \n",
       "1283           13771           50373  False  \n",
       "919              886            3756  False  \n",
       "31             73581          307605  False  \n",
       "1601            1249            6598  False  \n",
       "485             3668           11646  False  \n",
       "589             5793           29096  False  \n",
       "679            34343           88394  False  \n",
       "863             6388           25944  False  \n",
       "427            25750           57090  False  \n",
       "1153           21843           57264  False  \n",
       "320             8821           35327  False  \n",
       "936            28762           70892  False  \n",
       "437             3437           10967  False  \n",
       "1329          158995          670718  False  \n",
       "522             2426            6341  False  \n",
       "158             6257           13781  False  \n",
       "342             6125           30724  False  \n",
       "312             7219           27192  False  \n",
       "272             7428           31705  False  \n",
       "1271           19605           47130  False  \n",
       "722             5205           18692  False  \n",
       "634           128489          288631  False  \n",
       "378             4952           20558  False  \n",
       "1028          145729          446396  False  \n",
       "451             3029            4918  False  \n",
       "1390           17995           48011  False  \n",
       "959            20562          148963  False  \n",
       "1244           38685          125734  False  "
      ]
     },
     "execution_count": 57,
     "metadata": {},
     "output_type": "execute_result"
    }
   ],
   "source": [
    "df[df['growth_60_days']>df['growth_30_days']].sample(30)"
   ]
  },
  {
   "cell_type": "code",
   "execution_count": 58,
   "id": "2b1a18a1",
   "metadata": {
    "scrolled": true
   },
   "outputs": [
    {
     "data": {
      "text/html": [
       "<div>\n",
       "<style scoped>\n",
       "    .dataframe tbody tr th:only-of-type {\n",
       "        vertical-align: middle;\n",
       "    }\n",
       "\n",
       "    .dataframe tbody tr th {\n",
       "        vertical-align: top;\n",
       "    }\n",
       "\n",
       "    .dataframe thead th {\n",
       "        text-align: right;\n",
       "    }\n",
       "</style>\n",
       "<table border=\"1\" class=\"dataframe\">\n",
       "  <thead>\n",
       "    <tr style=\"text-align: right;\">\n",
       "      <th></th>\n",
       "      <th>rank</th>\n",
       "      <th>title</th>\n",
       "      <th>total_ratings</th>\n",
       "      <th>installs</th>\n",
       "      <th>average_rating</th>\n",
       "      <th>growth_30_days</th>\n",
       "      <th>growth_60_days</th>\n",
       "      <th>price</th>\n",
       "      <th>category</th>\n",
       "      <th>5_star_ratings</th>\n",
       "      <th>4_star_ratings</th>\n",
       "      <th>3_star_ratings</th>\n",
       "      <th>2_star_ratings</th>\n",
       "      <th>1_star_ratings</th>\n",
       "      <th>paid</th>\n",
       "    </tr>\n",
       "  </thead>\n",
       "  <tbody>\n",
       "    <tr>\n",
       "      <th>643</th>\n",
       "      <td>18</td>\n",
       "      <td>Bubble Witch 2 Saga</td>\n",
       "      <td>2954685</td>\n",
       "      <td>100.0</td>\n",
       "      <td>5</td>\n",
       "      <td>252.7</td>\n",
       "      <td>0.1</td>\n",
       "      <td>0.00</td>\n",
       "      <td>GAME CASUAL</td>\n",
       "      <td>2182994</td>\n",
       "      <td>442668</td>\n",
       "      <td>186915</td>\n",
       "      <td>45788</td>\n",
       "      <td>96317</td>\n",
       "      <td>False</td>\n",
       "    </tr>\n",
       "    <tr>\n",
       "      <th>1032</th>\n",
       "      <td>7</td>\n",
       "      <td>Angry Birds Go!</td>\n",
       "      <td>3870456</td>\n",
       "      <td>100.0</td>\n",
       "      <td>4</td>\n",
       "      <td>476.9</td>\n",
       "      <td>0.0</td>\n",
       "      <td>0.00</td>\n",
       "      <td>GAME RACING</td>\n",
       "      <td>2753918</td>\n",
       "      <td>362720</td>\n",
       "      <td>224963</td>\n",
       "      <td>101659</td>\n",
       "      <td>427194</td>\n",
       "      <td>False</td>\n",
       "    </tr>\n",
       "    <tr>\n",
       "      <th>808</th>\n",
       "      <td>83</td>\n",
       "      <td>My Baby Panda Chef</td>\n",
       "      <td>56416</td>\n",
       "      <td>10.0</td>\n",
       "      <td>4</td>\n",
       "      <td>2428.7</td>\n",
       "      <td>2.5</td>\n",
       "      <td>0.00</td>\n",
       "      <td>GAME EDUCATIONAL</td>\n",
       "      <td>42626</td>\n",
       "      <td>2823</td>\n",
       "      <td>2464</td>\n",
       "      <td>1895</td>\n",
       "      <td>6605</td>\n",
       "      <td>False</td>\n",
       "    </tr>\n",
       "    <tr>\n",
       "      <th>1106</th>\n",
       "      <td>81</td>\n",
       "      <td>Truck Driver Cargo</td>\n",
       "      <td>308362</td>\n",
       "      <td>50.0</td>\n",
       "      <td>4</td>\n",
       "      <td>12602.3</td>\n",
       "      <td>0.7</td>\n",
       "      <td>0.00</td>\n",
       "      <td>GAME RACING</td>\n",
       "      <td>193275</td>\n",
       "      <td>23624</td>\n",
       "      <td>19047</td>\n",
       "      <td>12841</td>\n",
       "      <td>59571</td>\n",
       "      <td>False</td>\n",
       "    </tr>\n",
       "    <tr>\n",
       "      <th>1130</th>\n",
       "      <td>5</td>\n",
       "      <td>Angry Birds Epic RPG</td>\n",
       "      <td>2650536</td>\n",
       "      <td>10.0</td>\n",
       "      <td>5</td>\n",
       "      <td>310.2</td>\n",
       "      <td>0.0</td>\n",
       "      <td>0.00</td>\n",
       "      <td>GAME ROLE PLAYING</td>\n",
       "      <td>2095096</td>\n",
       "      <td>255252</td>\n",
       "      <td>104890</td>\n",
       "      <td>41878</td>\n",
       "      <td>153418</td>\n",
       "      <td>False</td>\n",
       "    </tr>\n",
       "    <tr>\n",
       "      <th>1421</th>\n",
       "      <td>96</td>\n",
       "      <td>Photo Finish Horse Racing</td>\n",
       "      <td>254590</td>\n",
       "      <td>5.0</td>\n",
       "      <td>5</td>\n",
       "      <td>435.4</td>\n",
       "      <td>0.4</td>\n",
       "      <td>0.00</td>\n",
       "      <td>GAME SPORTS</td>\n",
       "      <td>216840</td>\n",
       "      <td>19662</td>\n",
       "      <td>6088</td>\n",
       "      <td>2999</td>\n",
       "      <td>8998</td>\n",
       "      <td>False</td>\n",
       "    </tr>\n",
       "    <tr>\n",
       "      <th>147</th>\n",
       "      <td>48</td>\n",
       "      <td>Transformers: RobotsInDisguise</td>\n",
       "      <td>326203</td>\n",
       "      <td>10.0</td>\n",
       "      <td>4</td>\n",
       "      <td>2283.0</td>\n",
       "      <td>0.4</td>\n",
       "      <td>0.00</td>\n",
       "      <td>GAME ADVENTURE</td>\n",
       "      <td>238366</td>\n",
       "      <td>24575</td>\n",
       "      <td>15568</td>\n",
       "      <td>9217</td>\n",
       "      <td>38476</td>\n",
       "      <td>False</td>\n",
       "    </tr>\n",
       "    <tr>\n",
       "      <th>274</th>\n",
       "      <td>75</td>\n",
       "      <td>Run</td>\n",
       "      <td>581821</td>\n",
       "      <td>10.0</td>\n",
       "      <td>5</td>\n",
       "      <td>77.5</td>\n",
       "      <td>0.3</td>\n",
       "      <td>0.00</td>\n",
       "      <td>GAME ARCADE</td>\n",
       "      <td>450597</td>\n",
       "      <td>64012</td>\n",
       "      <td>26420</td>\n",
       "      <td>9972</td>\n",
       "      <td>30817</td>\n",
       "      <td>False</td>\n",
       "    </tr>\n",
       "    <tr>\n",
       "      <th>170</th>\n",
       "      <td>71</td>\n",
       "      <td>Street Chaser</td>\n",
       "      <td>228860</td>\n",
       "      <td>50.0</td>\n",
       "      <td>4</td>\n",
       "      <td>5156.3</td>\n",
       "      <td>6.8</td>\n",
       "      <td>0.00</td>\n",
       "      <td>GAME ADVENTURE</td>\n",
       "      <td>155724</td>\n",
       "      <td>17892</td>\n",
       "      <td>13469</td>\n",
       "      <td>9404</td>\n",
       "      <td>32368</td>\n",
       "      <td>False</td>\n",
       "    </tr>\n",
       "    <tr>\n",
       "      <th>1527</th>\n",
       "      <td>2</td>\n",
       "      <td>Brain Test: Tricky Puzzles</td>\n",
       "      <td>4145089</td>\n",
       "      <td>100.0</td>\n",
       "      <td>5</td>\n",
       "      <td>1329.5</td>\n",
       "      <td>3.9</td>\n",
       "      <td>0.00</td>\n",
       "      <td>GAME TRIVIA</td>\n",
       "      <td>3257745</td>\n",
       "      <td>500071</td>\n",
       "      <td>128569</td>\n",
       "      <td>58420</td>\n",
       "      <td>200281</td>\n",
       "      <td>False</td>\n",
       "    </tr>\n",
       "    <tr>\n",
       "      <th>1386</th>\n",
       "      <td>61</td>\n",
       "      <td>Fanatical Football</td>\n",
       "      <td>456387</td>\n",
       "      <td>10.0</td>\n",
       "      <td>4</td>\n",
       "      <td>121.6</td>\n",
       "      <td>0.1</td>\n",
       "      <td>0.00</td>\n",
       "      <td>GAME SPORTS</td>\n",
       "      <td>298062</td>\n",
       "      <td>52142</td>\n",
       "      <td>31748</td>\n",
       "      <td>14031</td>\n",
       "      <td>60401</td>\n",
       "      <td>False</td>\n",
       "    </tr>\n",
       "    <tr>\n",
       "      <th>1489</th>\n",
       "      <td>64</td>\n",
       "      <td>My Virtual Pet Shop: Take Care of Pets &amp; Animals🐶</td>\n",
       "      <td>411981</td>\n",
       "      <td>10.0</td>\n",
       "      <td>5</td>\n",
       "      <td>997.8</td>\n",
       "      <td>2.2</td>\n",
       "      <td>0.00</td>\n",
       "      <td>GAME STRATEGY</td>\n",
       "      <td>322419</td>\n",
       "      <td>39157</td>\n",
       "      <td>18834</td>\n",
       "      <td>8957</td>\n",
       "      <td>22612</td>\n",
       "      <td>False</td>\n",
       "    </tr>\n",
       "    <tr>\n",
       "      <th>209</th>\n",
       "      <td>10</td>\n",
       "      <td>Minecraft</td>\n",
       "      <td>4100452</td>\n",
       "      <td>10.0</td>\n",
       "      <td>5</td>\n",
       "      <td>234.3</td>\n",
       "      <td>2.4</td>\n",
       "      <td>7.49</td>\n",
       "      <td>GAME ARCADE</td>\n",
       "      <td>3324435</td>\n",
       "      <td>317144</td>\n",
       "      <td>135048</td>\n",
       "      <td>65677</td>\n",
       "      <td>258146</td>\n",
       "      <td>True</td>\n",
       "    </tr>\n",
       "    <tr>\n",
       "      <th>923</th>\n",
       "      <td>98</td>\n",
       "      <td>Muse Dash</td>\n",
       "      <td>34140</td>\n",
       "      <td>0.1</td>\n",
       "      <td>5</td>\n",
       "      <td>768.5</td>\n",
       "      <td>6.7</td>\n",
       "      <td>1.49</td>\n",
       "      <td>GAME MUSIC</td>\n",
       "      <td>29210</td>\n",
       "      <td>2774</td>\n",
       "      <td>718</td>\n",
       "      <td>429</td>\n",
       "      <td>1007</td>\n",
       "      <td>True</td>\n",
       "    </tr>\n",
       "    <tr>\n",
       "      <th>942</th>\n",
       "      <td>17</td>\n",
       "      <td>Flow Free</td>\n",
       "      <td>1455893</td>\n",
       "      <td>100.0</td>\n",
       "      <td>4</td>\n",
       "      <td>142.6</td>\n",
       "      <td>0.8</td>\n",
       "      <td>0.00</td>\n",
       "      <td>GAME PUZZLE</td>\n",
       "      <td>1021457</td>\n",
       "      <td>195457</td>\n",
       "      <td>91530</td>\n",
       "      <td>41930</td>\n",
       "      <td>105517</td>\n",
       "      <td>False</td>\n",
       "    </tr>\n",
       "    <tr>\n",
       "      <th>128</th>\n",
       "      <td>29</td>\n",
       "      <td>Beggar Life - Clicker adventure</td>\n",
       "      <td>545166</td>\n",
       "      <td>5.0</td>\n",
       "      <td>4</td>\n",
       "      <td>0.1</td>\n",
       "      <td>0.0</td>\n",
       "      <td>0.00</td>\n",
       "      <td>GAME ADVENTURE</td>\n",
       "      <td>367186</td>\n",
       "      <td>59836</td>\n",
       "      <td>37681</td>\n",
       "      <td>19145</td>\n",
       "      <td>61316</td>\n",
       "      <td>False</td>\n",
       "    </tr>\n",
       "    <tr>\n",
       "      <th>1415</th>\n",
       "      <td>90</td>\n",
       "      <td>Baseball Superstars® 2013</td>\n",
       "      <td>269937</td>\n",
       "      <td>5.0</td>\n",
       "      <td>4</td>\n",
       "      <td>0.1</td>\n",
       "      <td>0.0</td>\n",
       "      <td>0.00</td>\n",
       "      <td>GAME SPORTS</td>\n",
       "      <td>190570</td>\n",
       "      <td>40822</td>\n",
       "      <td>19536</td>\n",
       "      <td>5036</td>\n",
       "      <td>13970</td>\n",
       "      <td>False</td>\n",
       "    </tr>\n",
       "    <tr>\n",
       "      <th>988</th>\n",
       "      <td>63</td>\n",
       "      <td>Cut the Rope: Experiments</td>\n",
       "      <td>540007</td>\n",
       "      <td>50.0</td>\n",
       "      <td>4</td>\n",
       "      <td>444.6</td>\n",
       "      <td>0.0</td>\n",
       "      <td>0.00</td>\n",
       "      <td>GAME PUZZLE</td>\n",
       "      <td>387875</td>\n",
       "      <td>56186</td>\n",
       "      <td>34325</td>\n",
       "      <td>15360</td>\n",
       "      <td>46259</td>\n",
       "      <td>False</td>\n",
       "    </tr>\n",
       "    <tr>\n",
       "      <th>193</th>\n",
       "      <td>94</td>\n",
       "      <td>Epic Heroes - Dragon fight legends</td>\n",
       "      <td>164143</td>\n",
       "      <td>1.0</td>\n",
       "      <td>4</td>\n",
       "      <td>1446.6</td>\n",
       "      <td>1.0</td>\n",
       "      <td>0.00</td>\n",
       "      <td>GAME ADVENTURE</td>\n",
       "      <td>126888</td>\n",
       "      <td>15295</td>\n",
       "      <td>8052</td>\n",
       "      <td>3446</td>\n",
       "      <td>10459</td>\n",
       "      <td>False</td>\n",
       "    </tr>\n",
       "    <tr>\n",
       "      <th>396</th>\n",
       "      <td>97</td>\n",
       "      <td>Mind Games (Challenging brain games)</td>\n",
       "      <td>91738</td>\n",
       "      <td>10.0</td>\n",
       "      <td>4</td>\n",
       "      <td>293.1</td>\n",
       "      <td>0.2</td>\n",
       "      <td>0.00</td>\n",
       "      <td>GAME BOARD</td>\n",
       "      <td>57069</td>\n",
       "      <td>12037</td>\n",
       "      <td>6182</td>\n",
       "      <td>2937</td>\n",
       "      <td>13510</td>\n",
       "      <td>False</td>\n",
       "    </tr>\n",
       "    <tr>\n",
       "      <th>1146</th>\n",
       "      <td>21</td>\n",
       "      <td>Kritika: The White Knights</td>\n",
       "      <td>880376</td>\n",
       "      <td>10.0</td>\n",
       "      <td>4</td>\n",
       "      <td>718.4</td>\n",
       "      <td>0.1</td>\n",
       "      <td>0.00</td>\n",
       "      <td>GAME ROLE PLAYING</td>\n",
       "      <td>614909</td>\n",
       "      <td>107710</td>\n",
       "      <td>53285</td>\n",
       "      <td>23653</td>\n",
       "      <td>80817</td>\n",
       "      <td>False</td>\n",
       "    </tr>\n",
       "    <tr>\n",
       "      <th>28</th>\n",
       "      <td>29</td>\n",
       "      <td>CATS: Crash Arena Turbo Stars</td>\n",
       "      <td>2670589</td>\n",
       "      <td>50.0</td>\n",
       "      <td>4</td>\n",
       "      <td>1082.3</td>\n",
       "      <td>1.0</td>\n",
       "      <td>0.00</td>\n",
       "      <td>GAME ACTION</td>\n",
       "      <td>1944649</td>\n",
       "      <td>272948</td>\n",
       "      <td>134237</td>\n",
       "      <td>69845</td>\n",
       "      <td>248907</td>\n",
       "      <td>False</td>\n",
       "    </tr>\n",
       "    <tr>\n",
       "      <th>1685</th>\n",
       "      <td>58</td>\n",
       "      <td>Wordington: Words &amp; Design</td>\n",
       "      <td>218842</td>\n",
       "      <td>10.0</td>\n",
       "      <td>4</td>\n",
       "      <td>541.1</td>\n",
       "      <td>7.2</td>\n",
       "      <td>0.00</td>\n",
       "      <td>GAME WORD</td>\n",
       "      <td>130283</td>\n",
       "      <td>43254</td>\n",
       "      <td>23231</td>\n",
       "      <td>8317</td>\n",
       "      <td>13755</td>\n",
       "      <td>False</td>\n",
       "    </tr>\n",
       "    <tr>\n",
       "      <th>663</th>\n",
       "      <td>38</td>\n",
       "      <td>Papa Pear Saga</td>\n",
       "      <td>1099997</td>\n",
       "      <td>50.0</td>\n",
       "      <td>4</td>\n",
       "      <td>196.3</td>\n",
       "      <td>0.1</td>\n",
       "      <td>0.00</td>\n",
       "      <td>GAME CASUAL</td>\n",
       "      <td>813086</td>\n",
       "      <td>144035</td>\n",
       "      <td>64753</td>\n",
       "      <td>23147</td>\n",
       "      <td>54974</td>\n",
       "      <td>False</td>\n",
       "    </tr>\n",
       "    <tr>\n",
       "      <th>1008</th>\n",
       "      <td>83</td>\n",
       "      <td>Sudoku</td>\n",
       "      <td>462036</td>\n",
       "      <td>10.0</td>\n",
       "      <td>5</td>\n",
       "      <td>172.6</td>\n",
       "      <td>0.5</td>\n",
       "      <td>0.00</td>\n",
       "      <td>GAME PUZZLE</td>\n",
       "      <td>375734</td>\n",
       "      <td>64079</td>\n",
       "      <td>10145</td>\n",
       "      <td>3534</td>\n",
       "      <td>8542</td>\n",
       "      <td>False</td>\n",
       "    </tr>\n",
       "    <tr>\n",
       "      <th>1231</th>\n",
       "      <td>6</td>\n",
       "      <td>Dragon Mania Legends</td>\n",
       "      <td>2763325</td>\n",
       "      <td>50.0</td>\n",
       "      <td>4</td>\n",
       "      <td>1208.1</td>\n",
       "      <td>1.3</td>\n",
       "      <td>0.00</td>\n",
       "      <td>GAME SIMULATION</td>\n",
       "      <td>2087931</td>\n",
       "      <td>284544</td>\n",
       "      <td>127895</td>\n",
       "      <td>62539</td>\n",
       "      <td>200412</td>\n",
       "      <td>False</td>\n",
       "    </tr>\n",
       "    <tr>\n",
       "      <th>1358</th>\n",
       "      <td>33</td>\n",
       "      <td>Soccer Star 2021 Top Leagues: Play the SOCCER ...</td>\n",
       "      <td>911473</td>\n",
       "      <td>10.0</td>\n",
       "      <td>4</td>\n",
       "      <td>5546.9</td>\n",
       "      <td>1.9</td>\n",
       "      <td>0.00</td>\n",
       "      <td>GAME SPORTS</td>\n",
       "      <td>632151</td>\n",
       "      <td>98242</td>\n",
       "      <td>55088</td>\n",
       "      <td>28447</td>\n",
       "      <td>97544</td>\n",
       "      <td>False</td>\n",
       "    </tr>\n",
       "    <tr>\n",
       "      <th>293</th>\n",
       "      <td>94</td>\n",
       "      <td>Human Evolution Clicker: Tap and Evolve Life F...</td>\n",
       "      <td>447522</td>\n",
       "      <td>10.0</td>\n",
       "      <td>4</td>\n",
       "      <td>990.2</td>\n",
       "      <td>0.7</td>\n",
       "      <td>0.00</td>\n",
       "      <td>GAME ARCADE</td>\n",
       "      <td>268067</td>\n",
       "      <td>58110</td>\n",
       "      <td>41935</td>\n",
       "      <td>22944</td>\n",
       "      <td>56463</td>\n",
       "      <td>False</td>\n",
       "    </tr>\n",
       "    <tr>\n",
       "      <th>1196</th>\n",
       "      <td>71</td>\n",
       "      <td>ZENONIA® 5</td>\n",
       "      <td>380907</td>\n",
       "      <td>10.0</td>\n",
       "      <td>4</td>\n",
       "      <td>0.1</td>\n",
       "      <td>0.0</td>\n",
       "      <td>0.00</td>\n",
       "      <td>GAME ROLE PLAYING</td>\n",
       "      <td>266068</td>\n",
       "      <td>49217</td>\n",
       "      <td>22446</td>\n",
       "      <td>8261</td>\n",
       "      <td>34913</td>\n",
       "      <td>False</td>\n",
       "    </tr>\n",
       "    <tr>\n",
       "      <th>1605</th>\n",
       "      <td>80</td>\n",
       "      <td>Flags and Capitals of the World Quiz</td>\n",
       "      <td>51951</td>\n",
       "      <td>1.0</td>\n",
       "      <td>4</td>\n",
       "      <td>3914.8</td>\n",
       "      <td>0.6</td>\n",
       "      <td>0.00</td>\n",
       "      <td>GAME TRIVIA</td>\n",
       "      <td>35876</td>\n",
       "      <td>6791</td>\n",
       "      <td>3549</td>\n",
       "      <td>1463</td>\n",
       "      <td>4270</td>\n",
       "      <td>False</td>\n",
       "    </tr>\n",
       "  </tbody>\n",
       "</table>\n",
       "</div>"
      ],
      "text/plain": [
       "      rank                                              title  total_ratings  \\\n",
       "643     18                                Bubble Witch 2 Saga        2954685   \n",
       "1032     7                                    Angry Birds Go!        3870456   \n",
       "808     83                                 My Baby Panda Chef          56416   \n",
       "1106    81                                 Truck Driver Cargo         308362   \n",
       "1130     5                               Angry Birds Epic RPG        2650536   \n",
       "1421    96                          Photo Finish Horse Racing         254590   \n",
       "147     48                     Transformers: RobotsInDisguise         326203   \n",
       "274     75                                                Run         581821   \n",
       "170     71                                      Street Chaser         228860   \n",
       "1527     2                         Brain Test: Tricky Puzzles        4145089   \n",
       "1386    61                                 Fanatical Football         456387   \n",
       "1489    64  My Virtual Pet Shop: Take Care of Pets & Animals🐶         411981   \n",
       "209     10                                          Minecraft        4100452   \n",
       "923     98                                          Muse Dash          34140   \n",
       "942     17                                          Flow Free        1455893   \n",
       "128     29                    Beggar Life - Clicker adventure         545166   \n",
       "1415    90                          Baseball Superstars® 2013         269937   \n",
       "988     63                          Cut the Rope: Experiments         540007   \n",
       "193     94                 Epic Heroes - Dragon fight legends         164143   \n",
       "396     97               Mind Games (Challenging brain games)          91738   \n",
       "1146    21                         Kritika: The White Knights         880376   \n",
       "28      29                      CATS: Crash Arena Turbo Stars        2670589   \n",
       "1685    58                         Wordington: Words & Design         218842   \n",
       "663     38                                     Papa Pear Saga        1099997   \n",
       "1008    83                                             Sudoku         462036   \n",
       "1231     6                               Dragon Mania Legends        2763325   \n",
       "1358    33  Soccer Star 2021 Top Leagues: Play the SOCCER ...         911473   \n",
       "293     94  Human Evolution Clicker: Tap and Evolve Life F...         447522   \n",
       "1196    71                                         ZENONIA® 5         380907   \n",
       "1605    80               Flags and Capitals of the World Quiz          51951   \n",
       "\n",
       "      installs  average_rating  growth_30_days  growth_60_days  price  \\\n",
       "643      100.0               5           252.7             0.1   0.00   \n",
       "1032     100.0               4           476.9             0.0   0.00   \n",
       "808       10.0               4          2428.7             2.5   0.00   \n",
       "1106      50.0               4         12602.3             0.7   0.00   \n",
       "1130      10.0               5           310.2             0.0   0.00   \n",
       "1421       5.0               5           435.4             0.4   0.00   \n",
       "147       10.0               4          2283.0             0.4   0.00   \n",
       "274       10.0               5            77.5             0.3   0.00   \n",
       "170       50.0               4          5156.3             6.8   0.00   \n",
       "1527     100.0               5          1329.5             3.9   0.00   \n",
       "1386      10.0               4           121.6             0.1   0.00   \n",
       "1489      10.0               5           997.8             2.2   0.00   \n",
       "209       10.0               5           234.3             2.4   7.49   \n",
       "923        0.1               5           768.5             6.7   1.49   \n",
       "942      100.0               4           142.6             0.8   0.00   \n",
       "128        5.0               4             0.1             0.0   0.00   \n",
       "1415       5.0               4             0.1             0.0   0.00   \n",
       "988       50.0               4           444.6             0.0   0.00   \n",
       "193        1.0               4          1446.6             1.0   0.00   \n",
       "396       10.0               4           293.1             0.2   0.00   \n",
       "1146      10.0               4           718.4             0.1   0.00   \n",
       "28        50.0               4          1082.3             1.0   0.00   \n",
       "1685      10.0               4           541.1             7.2   0.00   \n",
       "663       50.0               4           196.3             0.1   0.00   \n",
       "1008      10.0               5           172.6             0.5   0.00   \n",
       "1231      50.0               4          1208.1             1.3   0.00   \n",
       "1358      10.0               4          5546.9             1.9   0.00   \n",
       "293       10.0               4           990.2             0.7   0.00   \n",
       "1196      10.0               4             0.1             0.0   0.00   \n",
       "1605       1.0               4          3914.8             0.6   0.00   \n",
       "\n",
       "               category  5_star_ratings  4_star_ratings  3_star_ratings  \\\n",
       "643         GAME CASUAL         2182994          442668          186915   \n",
       "1032        GAME RACING         2753918          362720          224963   \n",
       "808    GAME EDUCATIONAL           42626            2823            2464   \n",
       "1106        GAME RACING          193275           23624           19047   \n",
       "1130  GAME ROLE PLAYING         2095096          255252          104890   \n",
       "1421        GAME SPORTS          216840           19662            6088   \n",
       "147      GAME ADVENTURE          238366           24575           15568   \n",
       "274         GAME ARCADE          450597           64012           26420   \n",
       "170      GAME ADVENTURE          155724           17892           13469   \n",
       "1527        GAME TRIVIA         3257745          500071          128569   \n",
       "1386        GAME SPORTS          298062           52142           31748   \n",
       "1489      GAME STRATEGY          322419           39157           18834   \n",
       "209         GAME ARCADE         3324435          317144          135048   \n",
       "923          GAME MUSIC           29210            2774             718   \n",
       "942         GAME PUZZLE         1021457          195457           91530   \n",
       "128      GAME ADVENTURE          367186           59836           37681   \n",
       "1415        GAME SPORTS          190570           40822           19536   \n",
       "988         GAME PUZZLE          387875           56186           34325   \n",
       "193      GAME ADVENTURE          126888           15295            8052   \n",
       "396          GAME BOARD           57069           12037            6182   \n",
       "1146  GAME ROLE PLAYING          614909          107710           53285   \n",
       "28          GAME ACTION         1944649          272948          134237   \n",
       "1685          GAME WORD          130283           43254           23231   \n",
       "663         GAME CASUAL          813086          144035           64753   \n",
       "1008        GAME PUZZLE          375734           64079           10145   \n",
       "1231    GAME SIMULATION         2087931          284544          127895   \n",
       "1358        GAME SPORTS          632151           98242           55088   \n",
       "293         GAME ARCADE          268067           58110           41935   \n",
       "1196  GAME ROLE PLAYING          266068           49217           22446   \n",
       "1605        GAME TRIVIA           35876            6791            3549   \n",
       "\n",
       "      2_star_ratings  1_star_ratings   paid  \n",
       "643            45788           96317  False  \n",
       "1032          101659          427194  False  \n",
       "808             1895            6605  False  \n",
       "1106           12841           59571  False  \n",
       "1130           41878          153418  False  \n",
       "1421            2999            8998  False  \n",
       "147             9217           38476  False  \n",
       "274             9972           30817  False  \n",
       "170             9404           32368  False  \n",
       "1527           58420          200281  False  \n",
       "1386           14031           60401  False  \n",
       "1489            8957           22612  False  \n",
       "209            65677          258146   True  \n",
       "923              429            1007   True  \n",
       "942            41930          105517  False  \n",
       "128            19145           61316  False  \n",
       "1415            5036           13970  False  \n",
       "988            15360           46259  False  \n",
       "193             3446           10459  False  \n",
       "396             2937           13510  False  \n",
       "1146           23653           80817  False  \n",
       "28             69845          248907  False  \n",
       "1685            8317           13755  False  \n",
       "663            23147           54974  False  \n",
       "1008            3534            8542  False  \n",
       "1231           62539          200412  False  \n",
       "1358           28447           97544  False  \n",
       "293            22944           56463  False  \n",
       "1196            8261           34913  False  \n",
       "1605            1463            4270  False  "
      ]
     },
     "execution_count": 58,
     "metadata": {},
     "output_type": "execute_result"
    }
   ],
   "source": [
    "df[df['growth_60_days']<df['growth_30_days']].sample(30)"
   ]
  },
  {
   "cell_type": "code",
   "execution_count": 59,
   "id": "d7a6794f",
   "metadata": {
    "scrolled": true
   },
   "outputs": [
    {
     "data": {
      "text/plain": [
       "10.0      665\n",
       "50.0      211\n",
       "5.0       194\n",
       "100.0     183\n",
       "1.0       142\n",
       "500.0      12\n",
       "0.5        10\n",
       "1000.0      2\n",
       "Name: installs, dtype: int64"
      ]
     },
     "execution_count": 59,
     "metadata": {},
     "output_type": "execute_result"
    }
   ],
   "source": [
    "df[df['growth_60_days']>df['growth_30_days']]['installs'].value_counts()"
   ]
  },
  {
   "cell_type": "code",
   "execution_count": 60,
   "id": "d0cdf6c9",
   "metadata": {
    "scrolled": true
   },
   "outputs": [
    {
     "data": {
      "text/plain": [
       "10.0     37\n",
       "50.0     12\n",
       "100.0    12\n",
       "5.0      10\n",
       "1.0       6\n",
       "0.1       1\n",
       "0.5       1\n",
       "Name: installs, dtype: int64"
      ]
     },
     "execution_count": 60,
     "metadata": {},
     "output_type": "execute_result"
    }
   ],
   "source": [
    "df[df['growth_60_days']<df['growth_30_days']]['installs'].value_counts()"
   ]
  },
  {
   "cell_type": "markdown",
   "id": "46abb8cc",
   "metadata": {},
   "source": [
    "## price and paid"
   ]
  },
  {
   "cell_type": "code",
   "execution_count": 61,
   "id": "0cb05439",
   "metadata": {
    "scrolled": true
   },
   "outputs": [
    {
     "data": {
      "text/plain": [
       "0.00    1723\n",
       "1.99       3\n",
       "7.49       1\n",
       "2.99       1\n",
       "1.49       1\n",
       "0.99       1\n",
       "Name: price, dtype: int64"
      ]
     },
     "execution_count": 61,
     "metadata": {},
     "output_type": "execute_result"
    }
   ],
   "source": [
    "df['price'].value_counts()"
   ]
  },
  {
   "cell_type": "code",
   "execution_count": 62,
   "id": "793c6fa6",
   "metadata": {},
   "outputs": [
    {
     "data": {
      "text/plain": [
       "False    1723\n",
       "True        7\n",
       "Name: paid, dtype: int64"
      ]
     },
     "execution_count": 62,
     "metadata": {},
     "output_type": "execute_result"
    }
   ],
   "source": [
    "df['paid'].value_counts()"
   ]
  },
  {
   "cell_type": "code",
   "execution_count": 63,
   "id": "84a8ea0d",
   "metadata": {
    "scrolled": false
   },
   "outputs": [
    {
     "data": {
      "text/html": [
       "<div>\n",
       "<style scoped>\n",
       "    .dataframe tbody tr th:only-of-type {\n",
       "        vertical-align: middle;\n",
       "    }\n",
       "\n",
       "    .dataframe tbody tr th {\n",
       "        vertical-align: top;\n",
       "    }\n",
       "\n",
       "    .dataframe thead th {\n",
       "        text-align: right;\n",
       "    }\n",
       "</style>\n",
       "<table border=\"1\" class=\"dataframe\">\n",
       "  <thead>\n",
       "    <tr style=\"text-align: right;\">\n",
       "      <th></th>\n",
       "      <th>rank</th>\n",
       "      <th>title</th>\n",
       "      <th>total_ratings</th>\n",
       "      <th>installs</th>\n",
       "      <th>average_rating</th>\n",
       "      <th>growth_30_days</th>\n",
       "      <th>growth_60_days</th>\n",
       "      <th>price</th>\n",
       "      <th>category</th>\n",
       "      <th>5_star_ratings</th>\n",
       "      <th>4_star_ratings</th>\n",
       "      <th>3_star_ratings</th>\n",
       "      <th>2_star_ratings</th>\n",
       "      <th>1_star_ratings</th>\n",
       "      <th>paid</th>\n",
       "    </tr>\n",
       "  </thead>\n",
       "  <tbody>\n",
       "    <tr>\n",
       "      <th>209</th>\n",
       "      <td>10</td>\n",
       "      <td>Minecraft</td>\n",
       "      <td>4100452</td>\n",
       "      <td>10.0</td>\n",
       "      <td>5</td>\n",
       "      <td>234.3</td>\n",
       "      <td>2.4</td>\n",
       "      <td>7.49</td>\n",
       "      <td>GAME ARCADE</td>\n",
       "      <td>3324435</td>\n",
       "      <td>317144</td>\n",
       "      <td>135048</td>\n",
       "      <td>65677</td>\n",
       "      <td>258146</td>\n",
       "      <td>True</td>\n",
       "    </tr>\n",
       "    <tr>\n",
       "      <th>260</th>\n",
       "      <td>61</td>\n",
       "      <td>Geometry Dash</td>\n",
       "      <td>777941</td>\n",
       "      <td>1.0</td>\n",
       "      <td>5</td>\n",
       "      <td>0.7</td>\n",
       "      <td>1.3</td>\n",
       "      <td>1.99</td>\n",
       "      <td>GAME ARCADE</td>\n",
       "      <td>636912</td>\n",
       "      <td>73308</td>\n",
       "      <td>24749</td>\n",
       "      <td>9026</td>\n",
       "      <td>33945</td>\n",
       "      <td>True</td>\n",
       "    </tr>\n",
       "    <tr>\n",
       "      <th>477</th>\n",
       "      <td>60</td>\n",
       "      <td>Reigns</td>\n",
       "      <td>146718</td>\n",
       "      <td>0.5</td>\n",
       "      <td>5</td>\n",
       "      <td>0.1</td>\n",
       "      <td>0.1</td>\n",
       "      <td>2.99</td>\n",
       "      <td>GAME CARD</td>\n",
       "      <td>108356</td>\n",
       "      <td>25417</td>\n",
       "      <td>5887</td>\n",
       "      <td>2868</td>\n",
       "      <td>4187</td>\n",
       "      <td>True</td>\n",
       "    </tr>\n",
       "    <tr>\n",
       "      <th>869</th>\n",
       "      <td>44</td>\n",
       "      <td>Cytus II</td>\n",
       "      <td>111679</td>\n",
       "      <td>1.0</td>\n",
       "      <td>5</td>\n",
       "      <td>0.8</td>\n",
       "      <td>1.7</td>\n",
       "      <td>1.99</td>\n",
       "      <td>GAME MUSIC</td>\n",
       "      <td>88842</td>\n",
       "      <td>11945</td>\n",
       "      <td>4620</td>\n",
       "      <td>1947</td>\n",
       "      <td>4322</td>\n",
       "      <td>True</td>\n",
       "    </tr>\n",
       "    <tr>\n",
       "      <th>923</th>\n",
       "      <td>98</td>\n",
       "      <td>Muse Dash</td>\n",
       "      <td>34140</td>\n",
       "      <td>0.1</td>\n",
       "      <td>5</td>\n",
       "      <td>768.5</td>\n",
       "      <td>6.7</td>\n",
       "      <td>1.49</td>\n",
       "      <td>GAME MUSIC</td>\n",
       "      <td>29210</td>\n",
       "      <td>2774</td>\n",
       "      <td>718</td>\n",
       "      <td>429</td>\n",
       "      <td>1007</td>\n",
       "      <td>True</td>\n",
       "    </tr>\n",
       "    <tr>\n",
       "      <th>1217</th>\n",
       "      <td>92</td>\n",
       "      <td>Evertale</td>\n",
       "      <td>311126</td>\n",
       "      <td>1.0</td>\n",
       "      <td>4</td>\n",
       "      <td>725.3</td>\n",
       "      <td>5.1</td>\n",
       "      <td>0.99</td>\n",
       "      <td>GAME ROLE PLAYING</td>\n",
       "      <td>222761</td>\n",
       "      <td>32884</td>\n",
       "      <td>15877</td>\n",
       "      <td>9298</td>\n",
       "      <td>30304</td>\n",
       "      <td>True</td>\n",
       "    </tr>\n",
       "    <tr>\n",
       "      <th>1588</th>\n",
       "      <td>63</td>\n",
       "      <td>Trivia Crack (No Ads)</td>\n",
       "      <td>75712</td>\n",
       "      <td>0.5</td>\n",
       "      <td>5</td>\n",
       "      <td>0.7</td>\n",
       "      <td>1.4</td>\n",
       "      <td>1.99</td>\n",
       "      <td>GAME TRIVIA</td>\n",
       "      <td>56454</td>\n",
       "      <td>12628</td>\n",
       "      <td>3284</td>\n",
       "      <td>1088</td>\n",
       "      <td>2256</td>\n",
       "      <td>True</td>\n",
       "    </tr>\n",
       "  </tbody>\n",
       "</table>\n",
       "</div>"
      ],
      "text/plain": [
       "      rank                  title  total_ratings  installs  average_rating  \\\n",
       "209     10              Minecraft        4100452      10.0               5   \n",
       "260     61          Geometry Dash         777941       1.0               5   \n",
       "477     60                 Reigns         146718       0.5               5   \n",
       "869     44               Cytus II         111679       1.0               5   \n",
       "923     98              Muse Dash          34140       0.1               5   \n",
       "1217    92               Evertale         311126       1.0               4   \n",
       "1588    63  Trivia Crack (No Ads)          75712       0.5               5   \n",
       "\n",
       "      growth_30_days  growth_60_days  price           category  \\\n",
       "209            234.3             2.4   7.49        GAME ARCADE   \n",
       "260              0.7             1.3   1.99        GAME ARCADE   \n",
       "477              0.1             0.1   2.99          GAME CARD   \n",
       "869              0.8             1.7   1.99         GAME MUSIC   \n",
       "923            768.5             6.7   1.49         GAME MUSIC   \n",
       "1217           725.3             5.1   0.99  GAME ROLE PLAYING   \n",
       "1588             0.7             1.4   1.99        GAME TRIVIA   \n",
       "\n",
       "      5_star_ratings  4_star_ratings  3_star_ratings  2_star_ratings  \\\n",
       "209          3324435          317144          135048           65677   \n",
       "260           636912           73308           24749            9026   \n",
       "477           108356           25417            5887            2868   \n",
       "869            88842           11945            4620            1947   \n",
       "923            29210            2774             718             429   \n",
       "1217          222761           32884           15877            9298   \n",
       "1588           56454           12628            3284            1088   \n",
       "\n",
       "      1_star_ratings  paid  \n",
       "209           258146  True  \n",
       "260            33945  True  \n",
       "477             4187  True  \n",
       "869             4322  True  \n",
       "923             1007  True  \n",
       "1217           30304  True  \n",
       "1588            2256  True  "
      ]
     },
     "execution_count": 63,
     "metadata": {},
     "output_type": "execute_result"
    }
   ],
   "source": [
    "df[df['price']>0]"
   ]
  },
  {
   "cell_type": "code",
   "execution_count": 64,
   "id": "1da5f17b",
   "metadata": {
    "scrolled": true
   },
   "outputs": [
    {
     "data": {
      "text/html": [
       "<div>\n",
       "<style scoped>\n",
       "    .dataframe tbody tr th:only-of-type {\n",
       "        vertical-align: middle;\n",
       "    }\n",
       "\n",
       "    .dataframe tbody tr th {\n",
       "        vertical-align: top;\n",
       "    }\n",
       "\n",
       "    .dataframe thead th {\n",
       "        text-align: right;\n",
       "    }\n",
       "</style>\n",
       "<table border=\"1\" class=\"dataframe\">\n",
       "  <thead>\n",
       "    <tr style=\"text-align: right;\">\n",
       "      <th></th>\n",
       "      <th>rank</th>\n",
       "      <th>title</th>\n",
       "      <th>total_ratings</th>\n",
       "      <th>installs</th>\n",
       "      <th>average_rating</th>\n",
       "      <th>growth_30_days</th>\n",
       "      <th>growth_60_days</th>\n",
       "      <th>price</th>\n",
       "      <th>category</th>\n",
       "      <th>5_star_ratings</th>\n",
       "      <th>4_star_ratings</th>\n",
       "      <th>3_star_ratings</th>\n",
       "      <th>2_star_ratings</th>\n",
       "      <th>1_star_ratings</th>\n",
       "      <th>paid</th>\n",
       "    </tr>\n",
       "  </thead>\n",
       "  <tbody>\n",
       "    <tr>\n",
       "      <th>209</th>\n",
       "      <td>10</td>\n",
       "      <td>Minecraft</td>\n",
       "      <td>4100452</td>\n",
       "      <td>10.0</td>\n",
       "      <td>5</td>\n",
       "      <td>234.3</td>\n",
       "      <td>2.4</td>\n",
       "      <td>7.49</td>\n",
       "      <td>GAME ARCADE</td>\n",
       "      <td>3324435</td>\n",
       "      <td>317144</td>\n",
       "      <td>135048</td>\n",
       "      <td>65677</td>\n",
       "      <td>258146</td>\n",
       "      <td>True</td>\n",
       "    </tr>\n",
       "    <tr>\n",
       "      <th>260</th>\n",
       "      <td>61</td>\n",
       "      <td>Geometry Dash</td>\n",
       "      <td>777941</td>\n",
       "      <td>1.0</td>\n",
       "      <td>5</td>\n",
       "      <td>0.7</td>\n",
       "      <td>1.3</td>\n",
       "      <td>1.99</td>\n",
       "      <td>GAME ARCADE</td>\n",
       "      <td>636912</td>\n",
       "      <td>73308</td>\n",
       "      <td>24749</td>\n",
       "      <td>9026</td>\n",
       "      <td>33945</td>\n",
       "      <td>True</td>\n",
       "    </tr>\n",
       "    <tr>\n",
       "      <th>477</th>\n",
       "      <td>60</td>\n",
       "      <td>Reigns</td>\n",
       "      <td>146718</td>\n",
       "      <td>0.5</td>\n",
       "      <td>5</td>\n",
       "      <td>0.1</td>\n",
       "      <td>0.1</td>\n",
       "      <td>2.99</td>\n",
       "      <td>GAME CARD</td>\n",
       "      <td>108356</td>\n",
       "      <td>25417</td>\n",
       "      <td>5887</td>\n",
       "      <td>2868</td>\n",
       "      <td>4187</td>\n",
       "      <td>True</td>\n",
       "    </tr>\n",
       "    <tr>\n",
       "      <th>869</th>\n",
       "      <td>44</td>\n",
       "      <td>Cytus II</td>\n",
       "      <td>111679</td>\n",
       "      <td>1.0</td>\n",
       "      <td>5</td>\n",
       "      <td>0.8</td>\n",
       "      <td>1.7</td>\n",
       "      <td>1.99</td>\n",
       "      <td>GAME MUSIC</td>\n",
       "      <td>88842</td>\n",
       "      <td>11945</td>\n",
       "      <td>4620</td>\n",
       "      <td>1947</td>\n",
       "      <td>4322</td>\n",
       "      <td>True</td>\n",
       "    </tr>\n",
       "    <tr>\n",
       "      <th>923</th>\n",
       "      <td>98</td>\n",
       "      <td>Muse Dash</td>\n",
       "      <td>34140</td>\n",
       "      <td>0.1</td>\n",
       "      <td>5</td>\n",
       "      <td>768.5</td>\n",
       "      <td>6.7</td>\n",
       "      <td>1.49</td>\n",
       "      <td>GAME MUSIC</td>\n",
       "      <td>29210</td>\n",
       "      <td>2774</td>\n",
       "      <td>718</td>\n",
       "      <td>429</td>\n",
       "      <td>1007</td>\n",
       "      <td>True</td>\n",
       "    </tr>\n",
       "    <tr>\n",
       "      <th>1217</th>\n",
       "      <td>92</td>\n",
       "      <td>Evertale</td>\n",
       "      <td>311126</td>\n",
       "      <td>1.0</td>\n",
       "      <td>4</td>\n",
       "      <td>725.3</td>\n",
       "      <td>5.1</td>\n",
       "      <td>0.99</td>\n",
       "      <td>GAME ROLE PLAYING</td>\n",
       "      <td>222761</td>\n",
       "      <td>32884</td>\n",
       "      <td>15877</td>\n",
       "      <td>9298</td>\n",
       "      <td>30304</td>\n",
       "      <td>True</td>\n",
       "    </tr>\n",
       "    <tr>\n",
       "      <th>1588</th>\n",
       "      <td>63</td>\n",
       "      <td>Trivia Crack (No Ads)</td>\n",
       "      <td>75712</td>\n",
       "      <td>0.5</td>\n",
       "      <td>5</td>\n",
       "      <td>0.7</td>\n",
       "      <td>1.4</td>\n",
       "      <td>1.99</td>\n",
       "      <td>GAME TRIVIA</td>\n",
       "      <td>56454</td>\n",
       "      <td>12628</td>\n",
       "      <td>3284</td>\n",
       "      <td>1088</td>\n",
       "      <td>2256</td>\n",
       "      <td>True</td>\n",
       "    </tr>\n",
       "  </tbody>\n",
       "</table>\n",
       "</div>"
      ],
      "text/plain": [
       "      rank                  title  total_ratings  installs  average_rating  \\\n",
       "209     10              Minecraft        4100452      10.0               5   \n",
       "260     61          Geometry Dash         777941       1.0               5   \n",
       "477     60                 Reigns         146718       0.5               5   \n",
       "869     44               Cytus II         111679       1.0               5   \n",
       "923     98              Muse Dash          34140       0.1               5   \n",
       "1217    92               Evertale         311126       1.0               4   \n",
       "1588    63  Trivia Crack (No Ads)          75712       0.5               5   \n",
       "\n",
       "      growth_30_days  growth_60_days  price           category  \\\n",
       "209            234.3             2.4   7.49        GAME ARCADE   \n",
       "260              0.7             1.3   1.99        GAME ARCADE   \n",
       "477              0.1             0.1   2.99          GAME CARD   \n",
       "869              0.8             1.7   1.99         GAME MUSIC   \n",
       "923            768.5             6.7   1.49         GAME MUSIC   \n",
       "1217           725.3             5.1   0.99  GAME ROLE PLAYING   \n",
       "1588             0.7             1.4   1.99        GAME TRIVIA   \n",
       "\n",
       "      5_star_ratings  4_star_ratings  3_star_ratings  2_star_ratings  \\\n",
       "209          3324435          317144          135048           65677   \n",
       "260           636912           73308           24749            9026   \n",
       "477           108356           25417            5887            2868   \n",
       "869            88842           11945            4620            1947   \n",
       "923            29210            2774             718             429   \n",
       "1217          222761           32884           15877            9298   \n",
       "1588           56454           12628            3284            1088   \n",
       "\n",
       "      1_star_ratings  paid  \n",
       "209           258146  True  \n",
       "260            33945  True  \n",
       "477             4187  True  \n",
       "869             4322  True  \n",
       "923             1007  True  \n",
       "1217           30304  True  \n",
       "1588            2256  True  "
      ]
     },
     "execution_count": 64,
     "metadata": {},
     "output_type": "execute_result"
    }
   ],
   "source": [
    "df[df['paid']==1]"
   ]
  },
  {
   "cell_type": "markdown",
   "id": "186efda6",
   "metadata": {},
   "source": [
    "* As it appears above, 'paid' column and 'price' column matched each other\n",
    "* 'price' column can be drop, 'paid' column is more useful for the future of this project."
   ]
  },
  {
   "cell_type": "markdown",
   "id": "b521e192",
   "metadata": {},
   "source": [
    "## <p style=\"background-color:yellow; font-family:newtimeroman; color:blue; font-size:150%; text-align:center; border-radius:10px 10px;\">Visualization of Columns</p> "
   ]
  },
  {
   "cell_type": "markdown",
   "id": "b745ba55",
   "metadata": {},
   "source": [
    "## Installs"
   ]
  },
  {
   "cell_type": "code",
   "execution_count": 65,
   "id": "28c9e34e",
   "metadata": {},
   "outputs": [
    {
     "data": {
      "image/png": "[encoded data removed]",
      "text/plain": [
       "<Figure size 2000x500 with 1 Axes>"
      ]
     },
     "metadata": {},
     "output_type": "display_data"
    }
   ],
   "source": [
    "plt.figure(figsize = (20,5))\n",
    "sns.countplot(x=df['installs'], data=df, order=df['installs'].value_counts().sort_index().index)\n",
    "plt.title('Installs in Million', fontsize=15)\n",
    "plt.xticks(rotation=60)\n",
    "\n",
    "for index, value in enumerate(df['installs'].value_counts().sort_index().values):\n",
    "    plt.text(index,value,str(value), ha='center', va='bottom')\n",
    "    \n",
    "plt.show()"
   ]
  },
  {
   "cell_type": "markdown",
   "id": "0d758e2f",
   "metadata": {},
   "source": [
    "## average_rating"
   ]
  },
  {
   "cell_type": "code",
   "execution_count": 66,
   "id": "081da589",
   "metadata": {},
   "outputs": [
    {
     "data": {
      "image/png": "[encoded data removed]",
      "text/plain": [
       "<Figure size 2000x500 with 1 Axes>"
      ]
     },
     "metadata": {},
     "output_type": "display_data"
    }
   ],
   "source": [
    "plt.figure(figsize = (20,5))\n",
    "sns.countplot(x=df['average_rating'], data=df, order=df['average_rating'].value_counts().sort_index().index)\n",
    "plt.title('Average Rating', fontsize = 15)\n",
    "plt.xticks(rotation=60)\n",
    "\n",
    "for index, value in enumerate(df['average_rating'].value_counts().sort_index().values):\n",
    "    plt.text(index,value,str(value), ha='center', va='bottom')\n",
    "    \n",
    "plt.show()"
   ]
  },
  {
   "cell_type": "markdown",
   "id": "37534283",
   "metadata": {},
   "source": [
    "## growth_30_days"
   ]
  },
  {
   "cell_type": "code",
   "execution_count": 67,
   "id": "6bfbc5ef",
   "metadata": {},
   "outputs": [
    {
     "data": {
      "image/png": "[encoded data removed]",
      "text/plain": [
       "<Figure size 1000x600 with 1 Axes>"
      ]
     },
     "metadata": {},
     "output_type": "display_data"
    }
   ],
   "source": [
    "plt.figure(figsize=(10,6))\n",
    "plt.plot(df['growth_30_days'], color='r')\n",
    "plt.title('growth_30_days')\n",
    "plt.show()"
   ]
  },
  {
   "cell_type": "code",
   "execution_count": 68,
   "id": "e7a0eecf",
   "metadata": {},
   "outputs": [
    {
     "data": {
      "image/png": "[encoded data removed]",
      "text/plain": [
       "<Figure size 1500x500 with 1 Axes>"
      ]
     },
     "metadata": {},
     "output_type": "display_data"
    }
   ],
   "source": [
    "plt.figure(figsize = (15,5))\n",
    "sns.boxplot(data = df, x ='growth_30_days')\n",
    "plt.title('Growth in 30 Days', fontsize = 15)\n",
    "plt.show()"
   ]
  },
  {
   "cell_type": "markdown",
   "id": "cf429fcd",
   "metadata": {},
   "source": [
    "## <p style=\"background-color:yellow; font-family:newtimeroman; color:blue; font-size:150%; text-align:center; border-radius:10px 10px;\">MY INSIGHTS WITH VISUALIZATION OF COLUMNS</p> "
   ]
  },
  {
   "cell_type": "markdown",
   "id": "1fd2ce12",
   "metadata": {},
   "source": [
    "## <p style=\"font-family:newtimeroman; color:blue; text-align:left; border-radius:10px 10px;\">1- Is there a relationship between the number of installs and the average rating?</p> "
   ]
  },
  {
   "cell_type": "markdown",
   "id": "0bc4aaa2",
   "metadata": {},
   "source": [
    "* Let's take a look at installs columns"
   ]
  },
  {
   "cell_type": "code",
   "execution_count": 69,
   "id": "57b00590",
   "metadata": {},
   "outputs": [
    {
     "data": {
      "image/png": "[encoded data removed]",
      "text/plain": [
       "<Figure size 800x500 with 1 Axes>"
      ]
     },
     "metadata": {},
     "output_type": "display_data"
    }
   ],
   "source": [
    "plt.figure(figsize = (8,5))\n",
    "sns.countplot(x=df['installs'], data=df, palette='viridis')\n",
    "plt.title('Installs in Million', fontsize=15)\n",
    "plt.xticks(rotation=60)\n",
    "\n",
    "for index, value in enumerate(df['installs'].value_counts().sort_index().values):\n",
    "    plt.text(index,value,str(value), ha='center', va='bottom')\n",
    "    \n",
    "plt.show()"
   ]
  },
  {
   "cell_type": "markdown",
   "id": "f3aef469",
   "metadata": {},
   "source": [
    "* Let's take a look at average rating column"
   ]
  },
  {
   "cell_type": "code",
   "execution_count": 70,
   "id": "4a1f5e8e",
   "metadata": {},
   "outputs": [
    {
     "data": {
      "image/png": "[encoded data removed]",
      "text/plain": [
       "<Figure size 800x500 with 1 Axes>"
      ]
     },
     "metadata": {},
     "output_type": "display_data"
    }
   ],
   "source": [
    "plt.figure(figsize = (8,5))\n",
    "sns.countplot(x=df['average_rating'], data=df, palette='magma')\n",
    "plt.title('Average Rating', fontsize = 20)\n",
    "\n",
    "for index, value in enumerate(df['average_rating'].value_counts().sort_index().values):\n",
    "    plt.text(index,value,str(value), ha='center', va='bottom')\n",
    "    \n",
    "plt.show()"
   ]
  },
  {
   "cell_type": "code",
   "execution_count": 71,
   "id": "8ad923a2",
   "metadata": {},
   "outputs": [
    {
     "data": {
      "text/plain": [
       "average_rating        \n",
       "3               10.0        5\n",
       "                1.0         4\n",
       "                5.0         2\n",
       "                100.0       1\n",
       "                50.0        1\n",
       "4               10.0      620\n",
       "                50.0      218\n",
       "                100.0     179\n",
       "                5.0       149\n",
       "                1.0       109\n",
       "                500.0      12\n",
       "                0.5         4\n",
       "                1000.0      1\n",
       "5               10.0      180\n",
       "                5.0        94\n",
       "                1.0        79\n",
       "                50.0       33\n",
       "                100.0      24\n",
       "                0.5        11\n",
       "                0.1         3\n",
       "                1000.0      1\n",
       "Name: installs, dtype: int64"
      ]
     },
     "execution_count": 71,
     "metadata": {},
     "output_type": "execute_result"
    }
   ],
   "source": [
    "df.groupby('average_rating').apply(lambda x: x.installs.value_counts())"
   ]
  },
  {
   "cell_type": "code",
   "execution_count": 72,
   "id": "98829bc0",
   "metadata": {},
   "outputs": [
    {
     "data": {
      "image/png": "[encoded data removed]",
      "text/plain": [
       "<Figure size 640x480 with 1 Axes>"
      ]
     },
     "metadata": {},
     "output_type": "display_data"
    }
   ],
   "source": [
    "result = df.groupby('installs').apply(lambda x: x['average_rating'].value_counts())\n",
    "\n",
    "result.unstack(fill_value=0).plot(kind='bar', colormap='inferno', width=.8)\n",
    "\n",
    "plt.xlabel('Installs')\n",
    "plt.ylabel('Counts')\n",
    "plt.title('Counts of Average Ratings for Different Installs Values')\n",
    "\n",
    "plt.legend(title='Average Rating')\n",
    "\n",
    "plt.show()"
   ]
  },
  {
   "cell_type": "markdown",
   "id": "6e882d15",
   "metadata": {},
   "source": [
    "* The majority of games have an average rating of 4. The most data is available in games with 10M installs."
   ]
  },
  {
   "cell_type": "markdown",
   "id": "7f280b80",
   "metadata": {},
   "source": [
    "## <p style=\"font-family:newtimeroman; color:blue; text-align:left; border-radius:10px 10px;\">2- Is there a relationship between the number of installs and the growth rates?</p>"
   ]
  },
  {
   "cell_type": "code",
   "execution_count": 73,
   "id": "7f01c7b5",
   "metadata": {},
   "outputs": [
    {
     "data": {
      "image/png": "[encoded data removed]",
      "text/plain": [
       "<Figure size 1500x500 with 1 Axes>"
      ]
     },
     "metadata": {},
     "output_type": "display_data"
    }
   ],
   "source": [
    "plt.figure(figsize = (15,5))\n",
    "sns.boxplot(data = df, x ='growth_30_days')\n",
    "plt.title('Growth in 30 Days', fontsize = 15)\n",
    "plt.show()"
   ]
  },
  {
   "cell_type": "code",
   "execution_count": 74,
   "id": "36a23cc7",
   "metadata": {},
   "outputs": [
    {
     "data": {
      "image/png": "[encoded data removed]",
      "text/plain": [
       "<Figure size 1500x500 with 1 Axes>"
      ]
     },
     "metadata": {},
     "output_type": "display_data"
    }
   ],
   "source": [
    "plt.figure(figsize = (15,5))\n",
    "\n",
    "plt.scatter(df['installs'], df['growth_30_days'], color='green', linewidths=1, alpha=0.2)\n",
    "plt.xlabel('Number of Installs')\n",
    "plt.ylabel('Growth (30 days)')\n",
    "plt.title('Relationship between Installs and Growth (30 days)')\n",
    "\n",
    "plt.show()"
   ]
  },
  {
   "cell_type": "markdown",
   "id": "2faee5d6",
   "metadata": {},
   "source": [
    "## <p style=\"font-family:newtimeroman; color:blue; text-align:left; border-radius:10px 10px;\">3- Is there a relationship between the number of average rating and the growth rates?</p>"
   ]
  },
  {
   "cell_type": "code",
   "execution_count": 75,
   "id": "68d8af64",
   "metadata": {},
   "outputs": [
    {
     "data": {
      "image/png": "[encoded data removed]",
      "text/plain": [
       "<Figure size 800x600 with 1 Axes>"
      ]
     },
     "metadata": {},
     "output_type": "display_data"
    }
   ],
   "source": [
    "plt.figure(figsize = (8,6))\n",
    "\n",
    "plt.scatter(df['average_rating'], df['growth_30_days'], color='red', linewidths=1, alpha=0.2)\n",
    "plt.xlabel('Average Rating')\n",
    "plt.ylabel('Growth (30 days)')\n",
    "plt.title('Relationship between Average Rating and Growth (30 days)')\n",
    "\n",
    "plt.xticks([3,4,5])\n",
    "\n",
    "plt.show()"
   ]
  },
  {
   "cell_type": "markdown",
   "id": "c139c9c4",
   "metadata": {},
   "source": [
    "## <p style=\"font-family:newtimeroman; color:blue; text-align:left; border-radius:10px 10px;\">4- Which categories have seen the most installs and the most growth in the last 30 days?</p>"
   ]
  },
  {
   "cell_type": "code",
   "execution_count": 76,
   "id": "5cb68a13",
   "metadata": {},
   "outputs": [],
   "source": [
    "category_installs = df.groupby('category')['installs'].sum().sort_values(ascending=False)"
   ]
  },
  {
   "cell_type": "code",
   "execution_count": 77,
   "id": "e96cc20c",
   "metadata": {},
   "outputs": [],
   "source": [
    "category_growth_30_days = df.groupby('category')['growth_30_days'].sum().sort_values(ascending=False)"
   ]
  },
  {
   "cell_type": "code",
   "execution_count": 78,
   "id": "6df63986",
   "metadata": {},
   "outputs": [
    {
     "name": "stdout",
     "output_type": "stream",
     "text": [
      "                   Total Installs  Total Growth (30 days)\n",
      "category                                                 \n",
      "GAME ACTION                7410.0                  1880.8\n",
      "GAME ARCADE                7161.0                  5892.4\n",
      "GAME CASUAL                6397.0                  3602.0\n",
      "GAME RACING                4675.0                 20710.3\n",
      "GAME PUZZLE                3621.0                  4436.2\n",
      "GAME SPORTS                3361.0                 15954.3\n",
      "GAME SIMULATION            2771.0                  1340.6\n",
      "GAME STRATEGY              2391.0                  1828.1\n",
      "GAME BOARD                 2123.0                  3444.5\n",
      "GAME ADVENTURE             1803.0                 25910.1\n",
      "GAME EDUCATIONAL           1789.5                 10245.5\n",
      "GAME CARD                  1573.0                 94071.4\n",
      "GAME ROLE PLAYING          1408.0                 20997.9\n",
      "GAME WORD                  1281.0                  2333.1\n",
      "GAME MUSIC                 1248.7                  2462.6\n",
      "GAME CASINO                 771.5                233525.3\n",
      "GAME TRIVIA                 690.1                107968.0\n"
     ]
    }
   ],
   "source": [
    "result = pd.concat([category_installs, category_growth_30_days], axis=1)\n",
    "result.columns = ['Total Installs', 'Total Growth (30 days)']\n",
    "print(result)"
   ]
  },
  {
   "cell_type": "code",
   "execution_count": 79,
   "id": "eb167a39",
   "metadata": {},
   "outputs": [
    {
     "data": {
      "image/png": "[encoded data removed]",
      "text/plain": [
       "<Figure size 1200x600 with 2 Axes>"
      ]
     },
     "metadata": {},
     "output_type": "display_data"
    }
   ],
   "source": [
    "fig, (ax1, ax2) = plt.subplots(1, 2, figsize=(12, 6))\n",
    "\n",
    "ax1.bar(category_installs.index, category_installs, color='green')\n",
    "ax1.set_xlabel('Category')\n",
    "ax1.set_ylabel('Total Installs')\n",
    "ax1.set_title('Total Installs for Each Category')\n",
    "ax1.set_xticklabels(ax1.get_xticklabels(), rotation=60, ha='right')\n",
    "\n",
    "\n",
    "ax2.bar(category_growth_30_days.index, category_growth_30_days, color='pink')\n",
    "ax2.set_xlabel('Category')\n",
    "ax2.set_ylabel('Total Growth (30 days)')\n",
    "ax2.set_title('Total Growth (30 days) for Each Category')\n",
    "ax2.set_xticklabels(ax2.get_xticklabels(), rotation=60, ha='right')\n",
    "\n",
    "plt.tight_layout()\n",
    "\n",
    "plt.show()"
   ]
  },
  {
   "cell_type": "code",
   "execution_count": 80,
   "id": "fe6db44d",
   "metadata": {},
   "outputs": [
    {
     "data": {
      "image/png": "[encoded data removed]",
      "text/plain": [
       "<Figure size 1600x600 with 2 Axes>"
      ]
     },
     "metadata": {},
     "output_type": "display_data"
    }
   ],
   "source": [
    "fig, (ax1, ax2) = plt.subplots(1, 2, figsize=(16, 6))\n",
    "\n",
    "sns.lineplot(x='category', y='installs', data=df, ax=ax1)\n",
    "ax1.set_title('Total Installs')\n",
    "ax1.set_xlabel('Category')\n",
    "ax1.set_ylabel('Installs')\n",
    "ax1.set_xticklabels(ax1.get_xticklabels(), rotation=60, ha='right')\n",
    "\n",
    "sns.lineplot(x='category', y='growth_30_days', data=df, ax=ax2)\n",
    "ax2.set_title('Growth (30 days)')\n",
    "ax2.set_xlabel('Category')\n",
    "ax2.set_ylabel('Growth (30 days)')\n",
    "ax2.set_xticklabels(ax2.get_xticklabels(), rotation=60, ha='right')\n",
    "\n",
    "plt.tight_layout();"
   ]
  },
  {
   "cell_type": "markdown",
   "id": "b2f92bdf",
   "metadata": {},
   "source": [
    "* From the graphs above, we can see that the arcade, casual, action and racing game categories have the highest installs and the casino, trivia and card game categories have the highest growth for last 30 days. If we want to enter the market with a game, it is a good idea to make our games in one of these categories."
   ]
  },
  {
   "cell_type": "markdown",
   "id": "693216fc",
   "metadata": {},
   "source": [
    " ## <p style=\"font-family:newtimeroman; color:blue; text-align:left; border-radius:10px 10px;\">5- Are there any differences in the average ratings among different categories?</p>"
   ]
  },
  {
   "cell_type": "code",
   "execution_count": 81,
   "id": "ba57ea8d",
   "metadata": {},
   "outputs": [
    {
     "data": {
      "text/plain": [
       "category\n",
       "GAME WORD            4.52\n",
       "GAME CARD            4.48\n",
       "GAME CASINO          4.44\n",
       "GAME PUZZLE          4.34\n",
       "GAME BOARD           4.30\n",
       "GAME SIMULATION      4.24\n",
       "GAME CASUAL          4.22\n",
       "GAME ROLE PLAYING    4.20\n",
       "GAME TRIVIA          4.20\n",
       "GAME ADVENTURE       4.18\n",
       "GAME MUSIC           4.16\n",
       "GAME STRATEGY        4.15\n",
       "GAME ARCADE          4.15\n",
       "GAME RACING          4.11\n",
       "GAME EDUCATIONAL     4.10\n",
       "GAME SPORTS          4.09\n",
       "GAME ACTION          4.09\n",
       "Name: average_rating, dtype: float64"
      ]
     },
     "execution_count": 81,
     "metadata": {},
     "output_type": "execute_result"
    }
   ],
   "source": [
    "category_average_rating = df.groupby('category')['average_rating'].mean().round(2).sort_values(ascending=False)\n",
    "category_average_rating"
   ]
  },
  {
   "cell_type": "code",
   "execution_count": 85,
   "id": "12edb44c",
   "metadata": {},
   "outputs": [
    {
     "data": {
      "application/vnd.plotly.v1+json": {
       "config": {
        "plotlyServerURL": "https://plot.ly"
       },
       "data": [
        {
         "branchvalues": "total",
         "customdata": [
          [
           4.114914425427873
          ],
          [
           4.220095693779904
          ],
          [
           4.180722891566265
          ],
          [
           4.3534883720930235
          ],
          [
           4.539823008849558
          ],
          [
           4.5
          ],
          [
           4.260663507109005
          ],
          [
           4.121951219512195
          ],
          [
           4.201923076923077
          ],
          [
           4.391705069124424
          ],
          [
           4.133819951338199
          ],
          [
           4.238095238095238
          ],
          [
           4.287735849056604
          ],
          [
           4.114914425427873
          ],
          [
           4.180722891566265
          ],
          [
           4.257142857142857
          ],
          [
           4.578723404255319
          ]
         ],
         "domain": {
          "x": [
           0,
           1
          ],
          "y": [
           0,
           1
          ]
         },
         "hovertemplate": "labels=%{label}<br>average_rating_sum=%{value}<br>parent=%{parent}<br>id=%{id}<br>average_rating=%{color}<extra></extra>",
         "ids": [
          "GAME ACTION",
          "GAME ADVENTURE",
          "GAME ARCADE",
          "GAME BOARD",
          "GAME CARD",
          "GAME CASINO",
          "GAME CASUAL",
          "GAME EDUCATIONAL",
          "GAME MUSIC",
          "GAME PUZZLE",
          "GAME RACING",
          "GAME ROLE PLAYING",
          "GAME SIMULATION",
          "GAME SPORTS",
          "GAME STRATEGY",
          "GAME TRIVIA",
          "GAME WORD"
         ],
         "labels": [
          "GAME ACTION",
          "GAME ADVENTURE",
          "GAME ARCADE",
          "GAME BOARD",
          "GAME CARD",
          "GAME CASINO",
          "GAME CASUAL",
          "GAME EDUCATIONAL",
          "GAME MUSIC",
          "GAME PUZZLE",
          "GAME RACING",
          "GAME ROLE PLAYING",
          "GAME SIMULATION",
          "GAME SPORTS",
          "GAME STRATEGY",
          "GAME TRIVIA",
          "GAME WORD"
         ],
         "marker": {
          "coloraxis": "coloraxis",
          "colors": [
           4.114914425427873,
           4.220095693779904,
           4.180722891566265,
           4.3534883720930235,
           4.539823008849558,
           4.5,
           4.260663507109005,
           4.121951219512195,
           4.201923076923077,
           4.391705069124424,
           4.133819951338199,
           4.238095238095238,
           4.287735849056604,
           4.114914425427873,
           4.180722891566265,
           4.257142857142857,
           4.578723404255319
          ]
         },
         "name": "",
         "parents": [
          "",
          "",
          "",
          "",
          "",
          "",
          "",
          "",
          "",
          "",
          "",
          "",
          "",
          "",
          "",
          "",
          ""
         ],
         "type": "sunburst",
         "values": [
          409,
          418,
          415,
          430,
          565,
          444,
          422,
          410,
          416,
          434,
          411,
          420,
          424,
          409,
          415,
          420,
          470
         ]
        }
       ],
       "layout": {
        "coloraxis": {
         "colorbar": {
          "title": {
           "text": "average_rating"
          }
         },
         "colorscale": [
          [
           0,
           "#0d0887"
          ],
          [
           0.1111111111111111,
           "#46039f"
          ],
          [
           0.2222222222222222,
           "#7201a8"
          ],
          [
           0.3333333333333333,
           "#9c179e"
          ],
          [
           0.4444444444444444,
           "#bd3786"
          ],
          [
           0.5555555555555556,
           "#d8576b"
          ],
          [
           0.6666666666666666,
           "#ed7953"
          ],
          [
           0.7777777777777778,
           "#fb9f3a"
          ],
          [
           0.8888888888888888,
           "#fdca26"
          ],
          [
           1,
           "#f0f921"
          ]
         ]
        },
        "legend": {
         "tracegroupgap": 0
        },
        "margin": {
         "t": 60
        },
        "template": {
         "data": {
          "bar": [
           {
            "error_x": {
             "color": "#2a3f5f"
            },
            "error_y": {
             "color": "#2a3f5f"
            },
            "marker": {
             "line": {
              "color": "#E5ECF6",
              "width": 0.5
             },
             "pattern": {
              "fillmode": "overlay",
              "size": 10,
              "solidity": 0.2
             }
            },
            "type": "bar"
           }
          ],
          "barpolar": [
           {
            "marker": {
             "line": {
              "color": "#E5ECF6",
              "width": 0.5
             },
             "pattern": {
              "fillmode": "overlay",
              "size": 10,
              "solidity": 0.2
             }
            },
            "type": "barpolar"
           }
          ],
          "carpet": [
           {
            "aaxis": {
             "endlinecolor": "#2a3f5f",
             "gridcolor": "white",
             "linecolor": "white",
             "minorgridcolor": "white",
             "startlinecolor": "#2a3f5f"
            },
            "baxis": {
             "endlinecolor": "#2a3f5f",
             "gridcolor": "white",
             "linecolor": "white",
             "minorgridcolor": "white",
             "startlinecolor": "#2a3f5f"
            },
            "type": "carpet"
           }
          ],
          "choropleth": [
           {
            "colorbar": {
             "outlinewidth": 0,
             "ticks": ""
            },
            "type": "choropleth"
           }
          ],
          "contour": [
           {
            "colorbar": {
             "outlinewidth": 0,
             "ticks": ""
            },
            "colorscale": [
             [
              0,
              "#0d0887"
             ],
             [
              0.1111111111111111,
              "#46039f"
             ],
             [
              0.2222222222222222,
              "#7201a8"
             ],
             [
              0.3333333333333333,
              "#9c179e"
             ],
             [
              0.4444444444444444,
              "#bd3786"
             ],
             [
              0.5555555555555556,
              "#d8576b"
             ],
             [
              0.6666666666666666,
              "#ed7953"
             ],
             [
              0.7777777777777778,
              "#fb9f3a"
             ],
             [
              0.8888888888888888,
              "#fdca26"
             ],
             [
              1,
              "#f0f921"
             ]
            ],
            "type": "contour"
           }
          ],
          "contourcarpet": [
           {
            "colorbar": {
             "outlinewidth": 0,
             "ticks": ""
            },
            "type": "contourcarpet"
           }
          ],
          "heatmap": [
           {
            "colorbar": {
             "outlinewidth": 0,
             "ticks": ""
            },
            "colorscale": [
             [
              0,
              "#0d0887"
             ],
             [
              0.1111111111111111,
              "#46039f"
             ],
             [
              0.2222222222222222,
              "#7201a8"
             ],
             [
              0.3333333333333333,
              "#9c179e"
             ],
             [
              0.4444444444444444,
              "#bd3786"
             ],
             [
              0.5555555555555556,
              "#d8576b"
             ],
             [
              0.6666666666666666,
              "#ed7953"
             ],
             [
              0.7777777777777778,
              "#fb9f3a"
             ],
             [
              0.8888888888888888,
              "#fdca26"
             ],
             [
              1,
              "#f0f921"
             ]
            ],
            "type": "heatmap"
           }
          ],
          "heatmapgl": [
           {
            "colorbar": {
             "outlinewidth": 0,
             "ticks": ""
            },
            "colorscale": [
             [
              0,
              "#0d0887"
             ],
             [
              0.1111111111111111,
              "#46039f"
             ],
             [
              0.2222222222222222,
              "#7201a8"
             ],
             [
              0.3333333333333333,
              "#9c179e"
             ],
             [
              0.4444444444444444,
              "#bd3786"
             ],
             [
              0.5555555555555556,
              "#d8576b"
             ],
             [
              0.6666666666666666,
              "#ed7953"
             ],
             [
              0.7777777777777778,
              "#fb9f3a"
             ],
             [
              0.8888888888888888,
              "#fdca26"
             ],
             [
              1,
              "#f0f921"
             ]
            ],
            "type": "heatmapgl"
           }
          ],
          "histogram": [
           {
            "marker": {
             "pattern": {
              "fillmode": "overlay",
              "size": 10,
              "solidity": 0.2
             }
            },
            "type": "histogram"
           }
          ],
          "histogram2d": [
           {
            "colorbar": {
             "outlinewidth": 0,
             "ticks": ""
            },
            "colorscale": [
             [
              0,
              "#0d0887"
             ],
             [
              0.1111111111111111,
              "#46039f"
             ],
             [
              0.2222222222222222,
              "#7201a8"
             ],
             [
              0.3333333333333333,
              "#9c179e"
             ],
             [
              0.4444444444444444,
              "#bd3786"
             ],
             [
              0.5555555555555556,
              "#d8576b"
             ],
             [
              0.6666666666666666,
              "#ed7953"
             ],
             [
              0.7777777777777778,
              "#fb9f3a"
             ],
             [
              0.8888888888888888,
              "#fdca26"
             ],
             [
              1,
              "#f0f921"
             ]
            ],
            "type": "histogram2d"
           }
          ],
          "histogram2dcontour": [
           {
            "colorbar": {
             "outlinewidth": 0,
             "ticks": ""
            },
            "colorscale": [
             [
              0,
              "#0d0887"
             ],
             [
              0.1111111111111111,
              "#46039f"
             ],
             [
              0.2222222222222222,
              "#7201a8"
             ],
             [
              0.3333333333333333,
              "#9c179e"
             ],
             [
              0.4444444444444444,
              "#bd3786"
             ],
             [
              0.5555555555555556,
              "#d8576b"
             ],
             [
              0.6666666666666666,
              "#ed7953"
             ],
             [
              0.7777777777777778,
              "#fb9f3a"
             ],
             [
              0.8888888888888888,
              "#fdca26"
             ],
             [
              1,
              "#f0f921"
             ]
            ],
            "type": "histogram2dcontour"
           }
          ],
          "mesh3d": [
           {
            "colorbar": {
             "outlinewidth": 0,
             "ticks": ""
            },
            "type": "mesh3d"
           }
          ],
          "parcoords": [
           {
            "line": {
             "colorbar": {
              "outlinewidth": 0,
              "ticks": ""
             }
            },
            "type": "parcoords"
           }
          ],
          "pie": [
           {
            "automargin": true,
            "type": "pie"
           }
          ],
          "scatter": [
           {
            "fillpattern": {
             "fillmode": "overlay",
             "size": 10,
             "solidity": 0.2
            },
            "type": "scatter"
           }
          ],
          "scatter3d": [
           {
            "line": {
             "colorbar": {
              "outlinewidth": 0,
              "ticks": ""
             }
            },
            "marker": {
             "colorbar": {
              "outlinewidth": 0,
              "ticks": ""
             }
            },
            "type": "scatter3d"
           }
          ],
          "scattercarpet": [
           {
            "marker": {
             "colorbar": {
              "outlinewidth": 0,
              "ticks": ""
             }
            },
            "type": "scattercarpet"
           }
          ],
          "scattergeo": [
           {
            "marker": {
             "colorbar": {
              "outlinewidth": 0,
              "ticks": ""
             }
            },
            "type": "scattergeo"
           }
          ],
          "scattergl": [
           {
            "marker": {
             "colorbar": {
              "outlinewidth": 0,
              "ticks": ""
             }
            },
            "type": "scattergl"
           }
          ],
          "scattermapbox": [
           {
            "marker": {
             "colorbar": {
              "outlinewidth": 0,
              "ticks": ""
             }
            },
            "type": "scattermapbox"
           }
          ],
          "scatterpolar": [
           {
            "marker": {
             "colorbar": {
              "outlinewidth": 0,
              "ticks": ""
             }
            },
            "type": "scatterpolar"
           }
          ],
          "scatterpolargl": [
           {
            "marker": {
             "colorbar": {
              "outlinewidth": 0,
              "ticks": ""
             }
            },
            "type": "scatterpolargl"
           }
          ],
          "scatterternary": [
           {
            "marker": {
             "colorbar": {
              "outlinewidth": 0,
              "ticks": ""
             }
            },
            "type": "scatterternary"
           }
          ],
          "surface": [
           {
            "colorbar": {
             "outlinewidth": 0,
             "ticks": ""
            },
            "colorscale": [
             [
              0,
              "#0d0887"
             ],
             [
              0.1111111111111111,
              "#46039f"
             ],
             [
              0.2222222222222222,
              "#7201a8"
             ],
             [
              0.3333333333333333,
              "#9c179e"
             ],
             [
              0.4444444444444444,
              "#bd3786"
             ],
             [
              0.5555555555555556,
              "#d8576b"
             ],
             [
              0.6666666666666666,
              "#ed7953"
             ],
             [
              0.7777777777777778,
              "#fb9f3a"
             ],
             [
              0.8888888888888888,
              "#fdca26"
             ],
             [
              1,
              "#f0f921"
             ]
            ],
            "type": "surface"
           }
          ],
          "table": [
           {
            "cells": {
             "fill": {
              "color": "#EBF0F8"
             },
             "line": {
              "color": "white"
             }
            },
            "header": {
             "fill": {
              "color": "#C8D4E3"
             },
             "line": {
              "color": "white"
             }
            },
            "type": "table"
           }
          ]
         },
         "layout": {
          "annotationdefaults": {
           "arrowcolor": "#2a3f5f",
           "arrowhead": 0,
           "arrowwidth": 1
          },
          "autotypenumbers": "strict",
          "coloraxis": {
           "colorbar": {
            "outlinewidth": 0,
            "ticks": ""
           }
          },
          "colorscale": {
           "diverging": [
            [
             0,
             "#8e0152"
            ],
            [
             0.1,
             "#c51b7d"
            ],
            [
             0.2,
             "#de77ae"
            ],
            [
             0.3,
             "#f1b6da"
            ],
            [
             0.4,
             "#fde0ef"
            ],
            [
             0.5,
             "#f7f7f7"
            ],
            [
             0.6,
             "#e6f5d0"
            ],
            [
             0.7,
             "#b8e186"
            ],
            [
             0.8,
             "#7fbc41"
            ],
            [
             0.9,
             "#4d9221"
            ],
            [
             1,
             "#276419"
            ]
           ],
           "sequential": [
            [
             0,
             "#0d0887"
            ],
            [
             0.1111111111111111,
             "#46039f"
            ],
            [
             0.2222222222222222,
             "#7201a8"
            ],
            [
             0.3333333333333333,
             "#9c179e"
            ],
            [
             0.4444444444444444,
             "#bd3786"
            ],
            [
             0.5555555555555556,
             "#d8576b"
            ],
            [
             0.6666666666666666,
             "#ed7953"
            ],
            [
             0.7777777777777778,
             "#fb9f3a"
            ],
            [
             0.8888888888888888,
             "#fdca26"
            ],
            [
             1,
             "#f0f921"
            ]
           ],
           "sequentialminus": [
            [
             0,
             "#0d0887"
            ],
            [
             0.1111111111111111,
             "#46039f"
            ],
            [
             0.2222222222222222,
             "#7201a8"
            ],
            [
             0.3333333333333333,
             "#9c179e"
            ],
            [
             0.4444444444444444,
             "#bd3786"
            ],
            [
             0.5555555555555556,
             "#d8576b"
            ],
            [
             0.6666666666666666,
             "#ed7953"
            ],
            [
             0.7777777777777778,
             "#fb9f3a"
            ],
            [
             0.8888888888888888,
             "#fdca26"
            ],
            [
             1,
             "#f0f921"
            ]
           ]
          },
          "colorway": [
           "#636efa",
           "#EF553B",
           "#00cc96",
           "#ab63fa",
           "#FFA15A",
           "#19d3f3",
           "#FF6692",
           "#B6E880",
           "#FF97FF",
           "#FECB52"
          ],
          "font": {
           "color": "#2a3f5f"
          },
          "geo": {
           "bgcolor": "white",
           "lakecolor": "white",
           "landcolor": "#E5ECF6",
           "showlakes": true,
           "showland": true,
           "subunitcolor": "white"
          },
          "hoverlabel": {
           "align": "left"
          },
          "hovermode": "closest",
          "mapbox": {
           "style": "light"
          },
          "paper_bgcolor": "white",
          "plot_bgcolor": "#E5ECF6",
          "polar": {
           "angularaxis": {
            "gridcolor": "white",
            "linecolor": "white",
            "ticks": ""
           },
           "bgcolor": "#E5ECF6",
           "radialaxis": {
            "gridcolor": "white",
            "linecolor": "white",
            "ticks": ""
           }
          },
          "scene": {
           "xaxis": {
            "backgroundcolor": "#E5ECF6",
            "gridcolor": "white",
            "gridwidth": 2,
            "linecolor": "white",
            "showbackground": true,
            "ticks": "",
            "zerolinecolor": "white"
           },
           "yaxis": {
            "backgroundcolor": "#E5ECF6",
            "gridcolor": "white",
            "gridwidth": 2,
            "linecolor": "white",
            "showbackground": true,
            "ticks": "",
            "zerolinecolor": "white"
           },
           "zaxis": {
            "backgroundcolor": "#E5ECF6",
            "gridcolor": "white",
            "gridwidth": 2,
            "linecolor": "white",
            "showbackground": true,
            "ticks": "",
            "zerolinecolor": "white"
           }
          },
          "shapedefaults": {
           "line": {
            "color": "#2a3f5f"
           }
          },
          "ternary": {
           "aaxis": {
            "gridcolor": "white",
            "linecolor": "white",
            "ticks": ""
           },
           "baxis": {
            "gridcolor": "white",
            "linecolor": "white",
            "ticks": ""
           },
           "bgcolor": "#E5ECF6",
           "caxis": {
            "gridcolor": "white",
            "linecolor": "white",
            "ticks": ""
           }
          },
          "title": {
           "x": 0.05
          },
          "xaxis": {
           "automargin": true,
           "gridcolor": "white",
           "linecolor": "white",
           "ticks": "",
           "title": {
            "standoff": 15
           },
           "zerolinecolor": "white",
           "zerolinewidth": 2
          },
          "yaxis": {
           "automargin": true,
           "gridcolor": "white",
           "linecolor": "white",
           "ticks": "",
           "title": {
            "standoff": 15
           },
           "zerolinecolor": "white",
           "zerolinewidth": 2
          }
         }
        }
       }
      },
      "text/html": [
       "<div>                            <div id=\"b0ad0162-78b8-475d-adb6-831a6bd72f6a\" class=\"plotly-graph-div\" style=\"height:525px; width:100%;\"></div>            <script type=\"text/javascript\">                require([\"plotly\"], function(Plotly) {                    window.PLOTLYENV=window.PLOTLYENV || {};                                    if (document.getElementById(\"b0ad0162-78b8-475d-adb6-831a6bd72f6a\")) {                    Plotly.newPlot(                        \"b0ad0162-78b8-475d-adb6-831a6bd72f6a\",                        [{\"branchvalues\":\"total\",\"customdata\":[[4.114914425427873],[4.220095693779904],[4.180722891566265],[4.3534883720930235],[4.539823008849558],[4.5],[4.260663507109005],[4.121951219512195],[4.201923076923077],[4.391705069124424],[4.133819951338199],[4.238095238095238],[4.287735849056604],[4.114914425427873],[4.180722891566265],[4.257142857142857],[4.578723404255319]],\"domain\":{\"x\":[0.0,1.0],\"y\":[0.0,1.0]},\"hovertemplate\":\"labels=%{label}\\u003cbr\\u003eaverage_rating_sum=%{value}\\u003cbr\\u003eparent=%{parent}\\u003cbr\\u003eid=%{id}\\u003cbr\\u003eaverage_rating=%{color}\\u003cextra\\u003e\\u003c\\u002fextra\\u003e\",\"ids\":[\"GAME ACTION\",\"GAME ADVENTURE\",\"GAME ARCADE\",\"GAME BOARD\",\"GAME CARD\",\"GAME CASINO\",\"GAME CASUAL\",\"GAME EDUCATIONAL\",\"GAME MUSIC\",\"GAME PUZZLE\",\"GAME RACING\",\"GAME ROLE PLAYING\",\"GAME SIMULATION\",\"GAME SPORTS\",\"GAME STRATEGY\",\"GAME TRIVIA\",\"GAME WORD\"],\"labels\":[\"GAME ACTION\",\"GAME ADVENTURE\",\"GAME ARCADE\",\"GAME BOARD\",\"GAME CARD\",\"GAME CASINO\",\"GAME CASUAL\",\"GAME EDUCATIONAL\",\"GAME MUSIC\",\"GAME PUZZLE\",\"GAME RACING\",\"GAME ROLE PLAYING\",\"GAME SIMULATION\",\"GAME SPORTS\",\"GAME STRATEGY\",\"GAME TRIVIA\",\"GAME WORD\"],\"marker\":{\"coloraxis\":\"coloraxis\",\"colors\":[4.114914425427873,4.220095693779904,4.180722891566265,4.3534883720930235,4.539823008849558,4.5,4.260663507109005,4.121951219512195,4.201923076923077,4.391705069124424,4.133819951338199,4.238095238095238,4.287735849056604,4.114914425427873,4.180722891566265,4.257142857142857,4.578723404255319]},\"name\":\"\",\"parents\":[\"\",\"\",\"\",\"\",\"\",\"\",\"\",\"\",\"\",\"\",\"\",\"\",\"\",\"\",\"\",\"\",\"\"],\"values\":[409,418,415,430,565,444,422,410,416,434,411,420,424,409,415,420,470],\"type\":\"sunburst\"}],                        {\"template\":{\"data\":{\"histogram2dcontour\":[{\"type\":\"histogram2dcontour\",\"colorbar\":{\"outlinewidth\":0,\"ticks\":\"\"},\"colorscale\":[[0.0,\"#0d0887\"],[0.1111111111111111,\"#46039f\"],[0.2222222222222222,\"#7201a8\"],[0.3333333333333333,\"#9c179e\"],[0.4444444444444444,\"#bd3786\"],[0.5555555555555556,\"#d8576b\"],[0.6666666666666666,\"#ed7953\"],[0.7777777777777778,\"#fb9f3a\"],[0.8888888888888888,\"#fdca26\"],[1.0,\"#f0f921\"]]}],\"choropleth\":[{\"type\":\"choropleth\",\"colorbar\":{\"outlinewidth\":0,\"ticks\":\"\"}}],\"histogram2d\":[{\"type\":\"histogram2d\",\"colorbar\":{\"outlinewidth\":0,\"ticks\":\"\"},\"colorscale\":[[0.0,\"#0d0887\"],[0.1111111111111111,\"#46039f\"],[0.2222222222222222,\"#7201a8\"],[0.3333333333333333,\"#9c179e\"],[0.4444444444444444,\"#bd3786\"],[0.5555555555555556,\"#d8576b\"],[0.6666666666666666,\"#ed7953\"],[0.7777777777777778,\"#fb9f3a\"],[0.8888888888888888,\"#fdca26\"],[1.0,\"#f0f921\"]]}],\"heatmap\":[{\"type\":\"heatmap\",\"colorbar\":{\"outlinewidth\":0,\"ticks\":\"\"},\"colorscale\":[[0.0,\"#0d0887\"],[0.1111111111111111,\"#46039f\"],[0.2222222222222222,\"#7201a8\"],[0.3333333333333333,\"#9c179e\"],[0.4444444444444444,\"#bd3786\"],[0.5555555555555556,\"#d8576b\"],[0.6666666666666666,\"#ed7953\"],[0.7777777777777778,\"#fb9f3a\"],[0.8888888888888888,\"#fdca26\"],[1.0,\"#f0f921\"]]}],\"heatmapgl\":[{\"type\":\"heatmapgl\",\"colorbar\":{\"outlinewidth\":0,\"ticks\":\"\"},\"colorscale\":[[0.0,\"#0d0887\"],[0.1111111111111111,\"#46039f\"],[0.2222222222222222,\"#7201a8\"],[0.3333333333333333,\"#9c179e\"],[0.4444444444444444,\"#bd3786\"],[0.5555555555555556,\"#d8576b\"],[0.6666666666666666,\"#ed7953\"],[0.7777777777777778,\"#fb9f3a\"],[0.8888888888888888,\"#fdca26\"],[1.0,\"#f0f921\"]]}],\"contourcarpet\":[{\"type\":\"contourcarpet\",\"colorbar\":{\"outlinewidth\":0,\"ticks\":\"\"}}],\"contour\":[{\"type\":\"contour\",\"colorbar\":{\"outlinewidth\":0,\"ticks\":\"\"},\"colorscale\":[[0.0,\"#0d0887\"],[0.1111111111111111,\"#46039f\"],[0.2222222222222222,\"#7201a8\"],[0.3333333333333333,\"#9c179e\"],[0.4444444444444444,\"#bd3786\"],[0.5555555555555556,\"#d8576b\"],[0.6666666666666666,\"#ed7953\"],[0.7777777777777778,\"#fb9f3a\"],[0.8888888888888888,\"#fdca26\"],[1.0,\"#f0f921\"]]}],\"surface\":[{\"type\":\"surface\",\"colorbar\":{\"outlinewidth\":0,\"ticks\":\"\"},\"colorscale\":[[0.0,\"#0d0887\"],[0.1111111111111111,\"#46039f\"],[0.2222222222222222,\"#7201a8\"],[0.3333333333333333,\"#9c179e\"],[0.4444444444444444,\"#bd3786\"],[0.5555555555555556,\"#d8576b\"],[0.6666666666666666,\"#ed7953\"],[0.7777777777777778,\"#fb9f3a\"],[0.8888888888888888,\"#fdca26\"],[1.0,\"#f0f921\"]]}],\"mesh3d\":[{\"type\":\"mesh3d\",\"colorbar\":{\"outlinewidth\":0,\"ticks\":\"\"}}],\"scatter\":[{\"fillpattern\":{\"fillmode\":\"overlay\",\"size\":10,\"solidity\":0.2},\"type\":\"scatter\"}],\"parcoords\":[{\"type\":\"parcoords\",\"line\":{\"colorbar\":{\"outlinewidth\":0,\"ticks\":\"\"}}}],\"scatterpolargl\":[{\"type\":\"scatterpolargl\",\"marker\":{\"colorbar\":{\"outlinewidth\":0,\"ticks\":\"\"}}}],\"bar\":[{\"error_x\":{\"color\":\"#2a3f5f\"},\"error_y\":{\"color\":\"#2a3f5f\"},\"marker\":{\"line\":{\"color\":\"#E5ECF6\",\"width\":0.5},\"pattern\":{\"fillmode\":\"overlay\",\"size\":10,\"solidity\":0.2}},\"type\":\"bar\"}],\"scattergeo\":[{\"type\":\"scattergeo\",\"marker\":{\"colorbar\":{\"outlinewidth\":0,\"ticks\":\"\"}}}],\"scatterpolar\":[{\"type\":\"scatterpolar\",\"marker\":{\"colorbar\":{\"outlinewidth\":0,\"ticks\":\"\"}}}],\"histogram\":[{\"marker\":{\"pattern\":{\"fillmode\":\"overlay\",\"size\":10,\"solidity\":0.2}},\"type\":\"histogram\"}],\"scattergl\":[{\"type\":\"scattergl\",\"marker\":{\"colorbar\":{\"outlinewidth\":0,\"ticks\":\"\"}}}],\"scatter3d\":[{\"type\":\"scatter3d\",\"line\":{\"colorbar\":{\"outlinewidth\":0,\"ticks\":\"\"}},\"marker\":{\"colorbar\":{\"outlinewidth\":0,\"ticks\":\"\"}}}],\"scattermapbox\":[{\"type\":\"scattermapbox\",\"marker\":{\"colorbar\":{\"outlinewidth\":0,\"ticks\":\"\"}}}],\"scatterternary\":[{\"type\":\"scatterternary\",\"marker\":{\"colorbar\":{\"outlinewidth\":0,\"ticks\":\"\"}}}],\"scattercarpet\":[{\"type\":\"scattercarpet\",\"marker\":{\"colorbar\":{\"outlinewidth\":0,\"ticks\":\"\"}}}],\"carpet\":[{\"aaxis\":{\"endlinecolor\":\"#2a3f5f\",\"gridcolor\":\"white\",\"linecolor\":\"white\",\"minorgridcolor\":\"white\",\"startlinecolor\":\"#2a3f5f\"},\"baxis\":{\"endlinecolor\":\"#2a3f5f\",\"gridcolor\":\"white\",\"linecolor\":\"white\",\"minorgridcolor\":\"white\",\"startlinecolor\":\"#2a3f5f\"},\"type\":\"carpet\"}],\"table\":[{\"cells\":{\"fill\":{\"color\":\"#EBF0F8\"},\"line\":{\"color\":\"white\"}},\"header\":{\"fill\":{\"color\":\"#C8D4E3\"},\"line\":{\"color\":\"white\"}},\"type\":\"table\"}],\"barpolar\":[{\"marker\":{\"line\":{\"color\":\"#E5ECF6\",\"width\":0.5},\"pattern\":{\"fillmode\":\"overlay\",\"size\":10,\"solidity\":0.2}},\"type\":\"barpolar\"}],\"pie\":[{\"automargin\":true,\"type\":\"pie\"}]},\"layout\":{\"autotypenumbers\":\"strict\",\"colorway\":[\"#636efa\",\"#EF553B\",\"#00cc96\",\"#ab63fa\",\"#FFA15A\",\"#19d3f3\",\"#FF6692\",\"#B6E880\",\"#FF97FF\",\"#FECB52\"],\"font\":{\"color\":\"#2a3f5f\"},\"hovermode\":\"closest\",\"hoverlabel\":{\"align\":\"left\"},\"paper_bgcolor\":\"white\",\"plot_bgcolor\":\"#E5ECF6\",\"polar\":{\"bgcolor\":\"#E5ECF6\",\"angularaxis\":{\"gridcolor\":\"white\",\"linecolor\":\"white\",\"ticks\":\"\"},\"radialaxis\":{\"gridcolor\":\"white\",\"linecolor\":\"white\",\"ticks\":\"\"}},\"ternary\":{\"bgcolor\":\"#E5ECF6\",\"aaxis\":{\"gridcolor\":\"white\",\"linecolor\":\"white\",\"ticks\":\"\"},\"baxis\":{\"gridcolor\":\"white\",\"linecolor\":\"white\",\"ticks\":\"\"},\"caxis\":{\"gridcolor\":\"white\",\"linecolor\":\"white\",\"ticks\":\"\"}},\"coloraxis\":{\"colorbar\":{\"outlinewidth\":0,\"ticks\":\"\"}},\"colorscale\":{\"sequential\":[[0.0,\"#0d0887\"],[0.1111111111111111,\"#46039f\"],[0.2222222222222222,\"#7201a8\"],[0.3333333333333333,\"#9c179e\"],[0.4444444444444444,\"#bd3786\"],[0.5555555555555556,\"#d8576b\"],[0.6666666666666666,\"#ed7953\"],[0.7777777777777778,\"#fb9f3a\"],[0.8888888888888888,\"#fdca26\"],[1.0,\"#f0f921\"]],\"sequentialminus\":[[0.0,\"#0d0887\"],[0.1111111111111111,\"#46039f\"],[0.2222222222222222,\"#7201a8\"],[0.3333333333333333,\"#9c179e\"],[0.4444444444444444,\"#bd3786\"],[0.5555555555555556,\"#d8576b\"],[0.6666666666666666,\"#ed7953\"],[0.7777777777777778,\"#fb9f3a\"],[0.8888888888888888,\"#fdca26\"],[1.0,\"#f0f921\"]],\"diverging\":[[0,\"#8e0152\"],[0.1,\"#c51b7d\"],[0.2,\"#de77ae\"],[0.3,\"#f1b6da\"],[0.4,\"#fde0ef\"],[0.5,\"#f7f7f7\"],[0.6,\"#e6f5d0\"],[0.7,\"#b8e186\"],[0.8,\"#7fbc41\"],[0.9,\"#4d9221\"],[1,\"#276419\"]]},\"xaxis\":{\"gridcolor\":\"white\",\"linecolor\":\"white\",\"ticks\":\"\",\"title\":{\"standoff\":15},\"zerolinecolor\":\"white\",\"automargin\":true,\"zerolinewidth\":2},\"yaxis\":{\"gridcolor\":\"white\",\"linecolor\":\"white\",\"ticks\":\"\",\"title\":{\"standoff\":15},\"zerolinecolor\":\"white\",\"automargin\":true,\"zerolinewidth\":2},\"scene\":{\"xaxis\":{\"backgroundcolor\":\"#E5ECF6\",\"gridcolor\":\"white\",\"linecolor\":\"white\",\"showbackground\":true,\"ticks\":\"\",\"zerolinecolor\":\"white\",\"gridwidth\":2},\"yaxis\":{\"backgroundcolor\":\"#E5ECF6\",\"gridcolor\":\"white\",\"linecolor\":\"white\",\"showbackground\":true,\"ticks\":\"\",\"zerolinecolor\":\"white\",\"gridwidth\":2},\"zaxis\":{\"backgroundcolor\":\"#E5ECF6\",\"gridcolor\":\"white\",\"linecolor\":\"white\",\"showbackground\":true,\"ticks\":\"\",\"zerolinecolor\":\"white\",\"gridwidth\":2}},\"shapedefaults\":{\"line\":{\"color\":\"#2a3f5f\"}},\"annotationdefaults\":{\"arrowcolor\":\"#2a3f5f\",\"arrowhead\":0,\"arrowwidth\":1},\"geo\":{\"bgcolor\":\"white\",\"landcolor\":\"#E5ECF6\",\"subunitcolor\":\"white\",\"showland\":true,\"showlakes\":true,\"lakecolor\":\"white\"},\"title\":{\"x\":0.05},\"mapbox\":{\"style\":\"light\"}}},\"coloraxis\":{\"colorbar\":{\"title\":{\"text\":\"average_rating\"}},\"colorscale\":[[0.0,\"#0d0887\"],[0.1111111111111111,\"#46039f\"],[0.2222222222222222,\"#7201a8\"],[0.3333333333333333,\"#9c179e\"],[0.4444444444444444,\"#bd3786\"],[0.5555555555555556,\"#d8576b\"],[0.6666666666666666,\"#ed7953\"],[0.7777777777777778,\"#fb9f3a\"],[0.8888888888888888,\"#fdca26\"],[1.0,\"#f0f921\"]]},\"legend\":{\"tracegroupgap\":0},\"margin\":{\"t\":60}},                        {\"responsive\": true}                    ).then(function(){\n",
       "                            \n",
       "var gd = document.getElementById('b0ad0162-78b8-475d-adb6-831a6bd72f6a');\n",
       "var x = new MutationObserver(function (mutations, observer) {{\n",
       "        var display = window.getComputedStyle(gd).display;\n",
       "        if (!display || display === 'none') {{\n",
       "            console.log([gd, 'removed!']);\n",
       "            Plotly.purge(gd);\n",
       "            observer.disconnect();\n",
       "        }}\n",
       "}});\n",
       "\n",
       "// Listen for the removal of the full notebook cells\n",
       "var notebookContainer = gd.closest('#notebook-container');\n",
       "if (notebookContainer) {{\n",
       "    x.observe(notebookContainer, {childList: true});\n",
       "}}\n",
       "\n",
       "// Listen for the clearing of the current output cell\n",
       "var outputEl = gd.closest('.output');\n",
       "if (outputEl) {{\n",
       "    x.observe(outputEl, {childList: true});\n",
       "}}\n",
       "\n",
       "                        })                };                });            </script>        </div>"
      ]
     },
     "metadata": {},
     "output_type": "display_data"
    }
   ],
   "source": [
    "px.sunburst(df, path=['category'],\n",
    "    values='average_rating',\n",
    "    color='average_rating' )"
   ]
  },
  {
   "cell_type": "code",
   "execution_count": 83,
   "id": "2abb8519",
   "metadata": {},
   "outputs": [
    {
     "data": {
      "image/png": "[encoded data removed]",
      "text/plain": [
       "<Figure size 1000x400 with 1 Axes>"
      ]
     },
     "metadata": {},
     "output_type": "display_data"
    }
   ],
   "source": [
    "fig, ax = plt.subplots(figsize=(10,4))\n",
    "\n",
    "category_average_rating.plot()\n",
    "plt.xticks(ticks=np.arange(17), labels=list(category_average_rating.index), rotation=60, ha='right')\n",
    "plt.xlabel('Game Categories')\n",
    "plt.ylabel('Average Ratings')\n",
    "plt.grid(which='major', linestyle='--');"
   ]
  },
  {
   "cell_type": "markdown",
   "id": "c97c60a6",
   "metadata": {},
   "source": [
    "* As it action, sports and educational games have the lowest average ratings. The average word games ratings is the highest."
   ]
  }
 ],
 "metadata": {
  "kernelspec": {
   "display_name": "Python 3 (ipykernel)",
   "language": "python",
   "name": "python3"
  },
  "language_info": {
   "codemirror_mode": {
    "name": "ipython",
    "version": 3
   },
   "file_extension": ".py",
   "mimetype": "text/x-python",
   "name": "python",
   "nbconvert_exporter": "python",
   "pygments_lexer": "ipython3",
   "version": "3.10.9"
  }
 },
 "nbformat": 4,
 "nbformat_minor": 5
}
